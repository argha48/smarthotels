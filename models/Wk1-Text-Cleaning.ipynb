{
 "cells": [
  {
   "cell_type": "code",
   "execution_count": 32,
   "metadata": {},
   "outputs": [],
   "source": [
    "import keras\n",
    "import nltk\n",
    "import pandas as pd\n",
    "import numpy as np\n",
    "import re\n",
    "import codecs\n",
    "import json\n",
    "\n",
    "import re\n",
    "import numpy as np\n",
    "import pandas as pd\n",
    "from pprint import pprint\n",
    "\n",
    "# Gensim\n",
    "import gensim\n",
    "import gensim.corpora as corpora\n",
    "from gensim.utils import simple_preprocess\n",
    "from gensim.models import CoherenceModel\n",
    "\n",
    "# spacy for lemmatization\n",
    "import spacy\n",
    "\n",
    "# Plotting tools\n",
    "import pyLDAvis\n",
    "import pyLDAvis.gensim  # don't skip this\n",
    "import matplotlib.pyplot as plt\n",
    "%matplotlib inline\n",
    "\n",
    "# Enable logging for gensim - optional\n",
    "import logging\n",
    "logging.basicConfig(format='%(asctime)s : %(levelname)s : %(message)s', level=logging.ERROR)\n",
    "\n",
    "import warnings\n",
    "warnings.filterwarnings(\"ignore\",category=DeprecationWarning)"
   ]
  },
  {
   "cell_type": "code",
   "execution_count": 33,
   "metadata": {},
   "outputs": [],
   "source": [
    "with open('NewYorkState_hotels_reviews.json') as f:\n",
    "    data = pd.DataFrame([json.loads(line) for line in f])"
   ]
  },
  {
   "cell_type": "code",
   "execution_count": 34,
   "metadata": {
    "scrolled": false
   },
   "outputs": [
    {
     "data": {
      "text/html": [
       "<div>\n",
       "<style scoped>\n",
       "    .dataframe tbody tr th:only-of-type {\n",
       "        vertical-align: middle;\n",
       "    }\n",
       "\n",
       "    .dataframe tbody tr th {\n",
       "        vertical-align: top;\n",
       "    }\n",
       "\n",
       "    .dataframe thead th {\n",
       "        text-align: right;\n",
       "    }\n",
       "</style>\n",
       "<table border=\"1\" class=\"dataframe\">\n",
       "  <thead>\n",
       "    <tr style=\"text-align: right;\">\n",
       "      <th></th>\n",
       "      <th>Cleanliness</th>\n",
       "      <th>Comfort</th>\n",
       "      <th>Facilities</th>\n",
       "      <th>FreeWifi</th>\n",
       "      <th>GivenScore</th>\n",
       "      <th>Heading</th>\n",
       "      <th>HotelName</th>\n",
       "      <th>Location</th>\n",
       "      <th>NegativeReview</th>\n",
       "      <th>NumReviewGiven</th>\n",
       "      <th>PositiveReview</th>\n",
       "      <th>SelfTag</th>\n",
       "      <th>Staff</th>\n",
       "      <th>StayDate</th>\n",
       "      <th>UserAgeGroup</th>\n",
       "      <th>UserCountry</th>\n",
       "      <th>UserName</th>\n",
       "      <th>ValueForMoney</th>\n",
       "    </tr>\n",
       "  </thead>\n",
       "  <tbody>\n",
       "    <tr>\n",
       "      <th>197208</th>\n",
       "      <td>[8.2]</td>\n",
       "      <td>[8.4]</td>\n",
       "      <td>[8.1]</td>\n",
       "      <td>[8.3]</td>\n",
       "      <td>[\\n10\\n]</td>\n",
       "      <td>[Excellent service!]</td>\n",
       "      <td>[Wingate by Wyndham Niagara Falls]</td>\n",
       "      <td>[8.8]</td>\n",
       "      <td>[I wasn't too impressed by the continental bre...</td>\n",
       "      <td>[\\n2 reviews\\n]</td>\n",
       "      <td>[Very clean rooms!]</td>\n",
       "      <td>[\\n,  Leisure trip\\n, \\n,  Family with young c...</td>\n",
       "      <td>[8.5]</td>\n",
       "      <td>[\\nStayed in March 2017\\n]</td>\n",
       "      <td>[\\n]</td>\n",
       "      <td>[USA]</td>\n",
       "      <td>[Alma]</td>\n",
       "      <td>[8]</td>\n",
       "    </tr>\n",
       "    <tr>\n",
       "      <th>289596</th>\n",
       "      <td>[8]</td>\n",
       "      <td>[7.8]</td>\n",
       "      <td>[7.4]</td>\n",
       "      <td>NaN</td>\n",
       "      <td>[\\n3.8\\n]</td>\n",
       "      <td>[no room service\\r]</td>\n",
       "      <td>[The Gregory]</td>\n",
       "      <td>[9]</td>\n",
       "      <td>[no room service\\rtoo expensinve with what you...</td>\n",
       "      <td>[\\n3 reviews\\n]</td>\n",
       "      <td>NaN</td>\n",
       "      <td>[\\n,  Leisure trip\\n, \\n,  Couple\\n]</td>\n",
       "      <td>[8.1]</td>\n",
       "      <td>NaN</td>\n",
       "      <td>[\\n]</td>\n",
       "      <td>[Lebanon]</td>\n",
       "      <td>[Abi]</td>\n",
       "      <td>[7.1]</td>\n",
       "    </tr>\n",
       "    <tr>\n",
       "      <th>49574</th>\n",
       "      <td>[9.2]</td>\n",
       "      <td>[9]</td>\n",
       "      <td>[8.6]</td>\n",
       "      <td>[9.2]</td>\n",
       "      <td>[\\n10\\n]</td>\n",
       "      <td>[Everything!]</td>\n",
       "      <td>[The William]</td>\n",
       "      <td>[9.3]</td>\n",
       "      <td>[No magnifying mirror in the room \\rNo microwa...</td>\n",
       "      <td>[\\n26 reviews\\n]</td>\n",
       "      <td>[Everything!]</td>\n",
       "      <td>[\\n,  Business trip\\n, \\n,  Couple\\n]</td>\n",
       "      <td>[8.7]</td>\n",
       "      <td>NaN</td>\n",
       "      <td>[\\n]</td>\n",
       "      <td>[USA]</td>\n",
       "      <td>[Susan]</td>\n",
       "      <td>[8.2]</td>\n",
       "    </tr>\n",
       "    <tr>\n",
       "      <th>199070</th>\n",
       "      <td>[8.6]</td>\n",
       "      <td>[8.2]</td>\n",
       "      <td>[7.9]</td>\n",
       "      <td>[8.1]</td>\n",
       "      <td>[\\n10\\n]</td>\n",
       "      <td>[This location is where we spend our 1year Ann...</td>\n",
       "      <td>[Hilton Garden Inn Central Park South]</td>\n",
       "      <td>[9.2]</td>\n",
       "      <td>NaN</td>\n",
       "      <td>[\\n2 reviews\\n]</td>\n",
       "      <td>[It was so clean and friendly ]</td>\n",
       "      <td>[\\n,  Couple\\n, \\n,  Queen Room\\n, \\n,  Stayed...</td>\n",
       "      <td>[8.4]</td>\n",
       "      <td>[\\nStayed in July 2018\\n]</td>\n",
       "      <td>[\\n]</td>\n",
       "      <td>[USA]</td>\n",
       "      <td>[Natalie]</td>\n",
       "      <td>[7.4]</td>\n",
       "    </tr>\n",
       "    <tr>\n",
       "      <th>186781</th>\n",
       "      <td>[8.5]</td>\n",
       "      <td>[7.9]</td>\n",
       "      <td>[7.8]</td>\n",
       "      <td>[7]</td>\n",
       "      <td>[\\n7.9\\n]</td>\n",
       "      <td>[I loved the staff and their energy during my ...</td>\n",
       "      <td>[The Marcel at Gramercy]</td>\n",
       "      <td>[8.7]</td>\n",
       "      <td>[the noise of the heat/ac  split in the room.]</td>\n",
       "      <td>[\\n3 reviews\\n]</td>\n",
       "      <td>[I loved the staff and their energy during my ...</td>\n",
       "      <td>[\\n,  Solo traveller\\n, \\n,  Standard  Room\\n,...</td>\n",
       "      <td>[8.9]</td>\n",
       "      <td>[\\nStayed in April 2017\\n]</td>\n",
       "      <td>[\\n]</td>\n",
       "      <td>[United Arab Emirates]</td>\n",
       "      <td>[Ghada]</td>\n",
       "      <td>[7.7]</td>\n",
       "    </tr>\n",
       "  </tbody>\n",
       "</table>\n",
       "</div>"
      ],
      "text/plain": [
       "       Cleanliness Comfort Facilities FreeWifi GivenScore  \\\n",
       "197208       [8.2]   [8.4]      [8.1]    [8.3]   [\\n10\\n]   \n",
       "289596         [8]   [7.8]      [7.4]      NaN  [\\n3.8\\n]   \n",
       "49574        [9.2]     [9]      [8.6]    [9.2]   [\\n10\\n]   \n",
       "199070       [8.6]   [8.2]      [7.9]    [8.1]   [\\n10\\n]   \n",
       "186781       [8.5]   [7.9]      [7.8]      [7]  [\\n7.9\\n]   \n",
       "\n",
       "                                                  Heading  \\\n",
       "197208                               [Excellent service!]   \n",
       "289596                                [no room service\\r]   \n",
       "49574                                       [Everything!]   \n",
       "199070  [This location is where we spend our 1year Ann...   \n",
       "186781  [I loved the staff and their energy during my ...   \n",
       "\n",
       "                                     HotelName Location  \\\n",
       "197208      [Wingate by Wyndham Niagara Falls]    [8.8]   \n",
       "289596                           [The Gregory]      [9]   \n",
       "49574                            [The William]    [9.3]   \n",
       "199070  [Hilton Garden Inn Central Park South]    [9.2]   \n",
       "186781                [The Marcel at Gramercy]    [8.7]   \n",
       "\n",
       "                                           NegativeReview    NumReviewGiven  \\\n",
       "197208  [I wasn't too impressed by the continental bre...   [\\n2 reviews\\n]   \n",
       "289596  [no room service\\rtoo expensinve with what you...   [\\n3 reviews\\n]   \n",
       "49574   [No magnifying mirror in the room \\rNo microwa...  [\\n26 reviews\\n]   \n",
       "199070                                                NaN   [\\n2 reviews\\n]   \n",
       "186781     [the noise of the heat/ac  split in the room.]   [\\n3 reviews\\n]   \n",
       "\n",
       "                                           PositiveReview  \\\n",
       "197208                                [Very clean rooms!]   \n",
       "289596                                                NaN   \n",
       "49574                                       [Everything!]   \n",
       "199070                    [It was so clean and friendly ]   \n",
       "186781  [I loved the staff and their energy during my ...   \n",
       "\n",
       "                                                  SelfTag  Staff  \\\n",
       "197208  [\\n,  Leisure trip\\n, \\n,  Family with young c...  [8.5]   \n",
       "289596               [\\n,  Leisure trip\\n, \\n,  Couple\\n]  [8.1]   \n",
       "49574               [\\n,  Business trip\\n, \\n,  Couple\\n]  [8.7]   \n",
       "199070  [\\n,  Couple\\n, \\n,  Queen Room\\n, \\n,  Stayed...  [8.4]   \n",
       "186781  [\\n,  Solo traveller\\n, \\n,  Standard  Room\\n,...  [8.9]   \n",
       "\n",
       "                          StayDate UserAgeGroup             UserCountry  \\\n",
       "197208  [\\nStayed in March 2017\\n]         [\\n]                   [USA]   \n",
       "289596                         NaN         [\\n]               [Lebanon]   \n",
       "49574                          NaN         [\\n]                   [USA]   \n",
       "199070   [\\nStayed in July 2018\\n]         [\\n]                   [USA]   \n",
       "186781  [\\nStayed in April 2017\\n]         [\\n]  [United Arab Emirates]   \n",
       "\n",
       "         UserName ValueForMoney  \n",
       "197208     [Alma]           [8]  \n",
       "289596      [Abi]         [7.1]  \n",
       "49574     [Susan]         [8.2]  \n",
       "199070  [Natalie]         [7.4]  \n",
       "186781    [Ghada]         [7.7]  "
      ]
     },
     "execution_count": 34,
     "metadata": {},
     "output_type": "execute_result"
    }
   ],
   "source": [
    "data.sample(n=5)"
   ]
  },
  {
   "cell_type": "code",
   "execution_count": 35,
   "metadata": {
    "scrolled": true
   },
   "outputs": [
    {
     "data": {
      "text/plain": [
       "(335879, 18)"
      ]
     },
     "execution_count": 35,
     "metadata": {},
     "output_type": "execute_result"
    }
   ],
   "source": [
    "data.shape"
   ]
  },
  {
   "cell_type": "code",
   "execution_count": 36,
   "metadata": {},
   "outputs": [],
   "source": [
    "# data['PositiveReview']"
   ]
  },
  {
   "cell_type": "code",
   "execution_count": 37,
   "metadata": {},
   "outputs": [],
   "source": [
    "import spacy\n",
    "spacy.load('en')\n",
    "from spacy.lang.en import English\n",
    "parser = English()\n",
    "\n",
    "def tokenize(text):\n",
    "    lda_tokens = []\n",
    "    tokens = parser(text)\n",
    "    for token in tokens:\n",
    "        if token.orth_.isspace():\n",
    "            continue\n",
    "        elif token.like_url:\n",
    "            lda_tokens.append('URL')\n",
    "        elif token.orth_.startswith('@'):\n",
    "            lda_tokens.append('SCREEN_NAME')\n",
    "        else:\n",
    "            lda_tokens.append(token.lower_)\n",
    "    return lda_tokens"
   ]
  },
  {
   "cell_type": "code",
   "execution_count": 38,
   "metadata": {},
   "outputs": [
    {
     "name": "stdout",
     "output_type": "stream",
     "text": [
      "[nltk_data] Downloading package wordnet to /home/argha/nltk_data...\n",
      "[nltk_data]   Package wordnet is already up-to-date!\n"
     ]
    },
    {
     "data": {
      "text/plain": [
       "True"
      ]
     },
     "execution_count": 38,
     "metadata": {},
     "output_type": "execute_result"
    }
   ],
   "source": [
    "import nltk\n",
    "nltk.download('wordnet')"
   ]
  },
  {
   "cell_type": "code",
   "execution_count": 39,
   "metadata": {},
   "outputs": [],
   "source": [
    "from nltk.corpus import wordnet as wn\n",
    "def get_lemma(word):\n",
    "    lemma = wn.morphy(word)\n",
    "    if lemma is None:\n",
    "        return word\n",
    "    else:\n",
    "        return lemma\n",
    "    \n",
    "from nltk.stem.wordnet import WordNetLemmatizer\n",
    "def get_lemma2(word):\n",
    "    return WordNetLemmatizer().lemmatize(word)"
   ]
  },
  {
   "cell_type": "code",
   "execution_count": 40,
   "metadata": {},
   "outputs": [
    {
     "name": "stdout",
     "output_type": "stream",
     "text": [
      "dogs dog dog\n",
      "ran run ran\n",
      "discouraged discourage discouraged\n"
     ]
    }
   ],
   "source": [
    "for w in ['dogs', 'ran', 'discouraged']:\n",
    "    print(w, get_lemma(w), get_lemma2(w))"
   ]
  },
  {
   "cell_type": "code",
   "execution_count": 41,
   "metadata": {},
   "outputs": [
    {
     "name": "stdout",
     "output_type": "stream",
     "text": [
      "[nltk_data] Downloading package stopwords to /home/argha/nltk_data...\n",
      "[nltk_data]   Package stopwords is already up-to-date!\n"
     ]
    }
   ],
   "source": [
    "nltk.download('stopwords')\n",
    "en_stop = set(nltk.corpus.stopwords.words('english'))"
   ]
  },
  {
   "cell_type": "code",
   "execution_count": 42,
   "metadata": {},
   "outputs": [],
   "source": [
    "def prepare_text_for_lda(text):\n",
    "    tokens = tokenize(text)\n",
    "    tokens = [token for token in tokens if len(token) > 4]\n",
    "    tokens = [token for token in tokens if token not in en_stop]\n",
    "    tokens = [get_lemma(token) for token in tokens]\n",
    "    return tokens"
   ]
  },
  {
   "cell_type": "code",
   "execution_count": 43,
   "metadata": {},
   "outputs": [
    {
     "name": "stdout",
     "output_type": "stream",
     "text": [
      "['The hospitality the first day was exceptional. Hotel lost power the next morning, it was very inconvenient in our room trying to get ready to check out. No mention was made at the front desk about the possible customer inconvenience. A little surprised']\n"
     ]
    }
   ],
   "source": [
    "all_pos_rev = [line[0] for line in data['PositiveReview'] if str(line)!='nan']\n",
    "all_pos_rev = [re.sub('/', ' ', sent) for sent in all_pos_rev]\n",
    "# Remove new line characters\n",
    "all_pos_rev = [re.sub('\\s+', ' ', sent) for sent in all_pos_rev]\n",
    "\n",
    "# Remove distracting single quotes\n",
    "all_pos_rev = [re.sub(\"\\'\", \"\", sent) for sent in all_pos_rev]\n",
    "\n",
    "print(all_pos_rev[:1])"
   ]
  },
  {
   "cell_type": "code",
   "execution_count": 44,
   "metadata": {},
   "outputs": [
    {
     "data": {
      "text/plain": [
       "307265"
      ]
     },
     "execution_count": 44,
     "metadata": {},
     "output_type": "execute_result"
    }
   ],
   "source": [
    "len(all_pos_rev)"
   ]
  },
  {
   "cell_type": "code",
   "execution_count": 45,
   "metadata": {},
   "outputs": [],
   "source": [
    "# def clean_text(text):\n",
    "#     lower_text = text.apply(lambda x: \" \".join(x.lower() for x in x.split()))\n",
    "#     no_punctuation = lower_text.str.replace('[^\\w\\s]','')\n",
    "#     tokenized_text = word_tokenize(text.lower())\n",
    "#     cleaned_text = [t for t in tokenized_text if t not in STOPWORDS and re.match('[a-zA-Z\\-][a-zA-Z\\-]{2,}', t)]\n",
    "#     return cleaned_text"
   ]
  },
  {
   "cell_type": "code",
   "execution_count": 46,
   "metadata": {
    "scrolled": true
   },
   "outputs": [],
   "source": [
    "import random\n",
    "text_data = []\n",
    "for line in all_pos_rev:\n",
    "    tokens = prepare_text_for_lda(line)\n",
    "#     if random.random() > .99:\n",
    "#         #print(tokens)\n",
    "    text_data.append(tokens)"
   ]
  },
  {
   "cell_type": "code",
   "execution_count": 47,
   "metadata": {},
   "outputs": [
    {
     "data": {
      "text/plain": [
       "307265"
      ]
     },
     "execution_count": 47,
     "metadata": {},
     "output_type": "execute_result"
    }
   ],
   "source": [
    "len(text_data)"
   ]
  },
  {
   "cell_type": "code",
   "execution_count": 48,
   "metadata": {},
   "outputs": [],
   "source": [
    "from gensim import corpora\n",
    "dictionary = corpora.Dictionary(text_data)\n",
    "corpus = [dictionary.doc2bow(text) for text in text_data]\n",
    "import pickle\n",
    "pickle.dump(corpus, open('corpus.pkl', 'wb'))\n",
    "dictionary.save('dictionary.gensim')"
   ]
  },
  {
   "cell_type": "code",
   "execution_count": 49,
   "metadata": {},
   "outputs": [],
   "source": [
    "import gensim\n",
    "NUM_TOPICS = 30\n",
    "ldamodel = gensim.models.ldamodel.LdaModel(corpus, num_topics = NUM_TOPICS, id2word=dictionary, passes=15)\n",
    "ldamodel.save('model5.gensim')"
   ]
  },
  {
   "cell_type": "code",
   "execution_count": 52,
   "metadata": {},
   "outputs": [
    {
     "name": "stdout",
     "output_type": "stream",
     "text": [
      "(18, '0.492*\"location\" + 0.369*\"great\" + 0.067*\"staff\" + 0.027*\"facility\" + 0.024*\"hotel\"')\n",
      "(28, '0.192*\"lobby\" + 0.065*\"morning\" + 0.054*\"drink\" + 0.042*\"stuff\" + 0.038*\"welcome\"')\n",
      "(25, '0.301*\"place\" + 0.105*\"wonderful\" + 0.064*\"always\" + 0.029*\"going\" + 0.027*\"walk\"')\n",
      "(0, '0.058*\"every\" + 0.058*\"hotel\" + 0.050*\"staff\" + 0.042*\"visit\" + 0.038*\"concierge\"')\n",
      "(9, '0.130*\"right\" + 0.084*\"street\" + 0.073*\"building\" + 0.056*\"minutes\" + 0.049*\"state\"')\n",
      "(15, '0.106*\"bathroom\" + 0.102*\"shower\" + 0.053*\"water\" + 0.052*\"suite\" + 0.051*\"kitchen\"')\n",
      "(7, '0.243*\"amaze\" + 0.213*\"love\" + 0.051*\"enough\" + 0.051*\"decor\" + 0.038*\"quality\"')\n",
      "(24, '0.157*\"front\" + 0.112*\"staff\" + 0.080*\"pleasant\" + 0.062*\"especially\" + 0.055*\"expect\"')\n",
      "(17, '0.215*\"walking\" + 0.182*\"distance\" + 0.090*\"within\" + 0.058*\"want\" + 0.056*\"location\"')\n",
      "(19, '0.343*\"excellent\" + 0.201*\"location\" + 0.142*\"service\" + 0.085*\"staff\" + 0.063*\"cleanliness\"')\n",
      "(13, '0.338*\"everything\" + 0.262*\"perfect\" + 0.106*\"need\" + 0.059*\"close\" + 0.036*\"decent\"')\n",
      "(16, '0.391*\"comfortable\" + 0.158*\"quiet\" + 0.133*\"location\" + 0.090*\"fantastic\" + 0.089*\"lovely\"')\n",
      "(26, '0.180*\"central\" + 0.134*\"location\" + 0.081*\"station\" + 0.061*\"close\" + 0.055*\"block\"')\n",
      "(23, '0.075*\"hotel\" + 0.070*\"family\" + 0.046*\"guest\" + 0.038*\"look\" + 0.036*\"never\"')\n",
      "(11, '0.272*\"really\" + 0.091*\"enjoy\" + 0.061*\"hotel\" + 0.055*\"manhattan\" + 0.042*\"service\"')\n",
      "(29, '0.261*\"convenient\" + 0.102*\"overall\" + 0.071*\"experience\" + 0.057*\"though\" + 0.046*\"charge\"')\n",
      "(27, '0.163*\"hotel\" + 0.138*\"stay\" + 0.099*\"beautiful\" + 0.090*\"night\" + 0.043*\"first\"')\n",
      "(3, '0.153*\"small\" + 0.107*\"floor\" + 0.082*\"access\" + 0.081*\"space\" + 0.079*\"rooftop\"')\n",
      "(10, '0.333*\"staff\" + 0.227*\"friendly\" + 0.166*\"helpful\" + 0.062*\"location\" + 0.053*\"clean\"')\n",
      "(1, '0.212*\"price\" + 0.212*\"check\" + 0.048*\"early\" + 0.034*\"reasonable\" + 0.031*\"offer\"')\n"
     ]
    }
   ],
   "source": [
    "topics = ldamodel.print_topics(num_words=5)\n",
    "for topic in topics:\n",
    "    print(topic)"
   ]
  },
  {
   "cell_type": "code",
   "execution_count": 53,
   "metadata": {},
   "outputs": [
    {
     "name": "stdout",
     "output_type": "stream",
     "text": [
      "[(877, 1), (1528, 1), (5104, 1), (9895, 1)]\n",
      "[(0, 0.011111786), (1, 0.011111786), (2, 0.011111786), (3, 0.011111786), (4, 0.011111786), (5, 0.011111786), (6, 0.011111786), (7, 0.011111786), (8, 0.011111786), (9, 0.011111786), (10, 0.011111786), (11, 0.011111786), (12, 0.3444565), (13, 0.011111786), (14, 0.011111786), (15, 0.011111786), (16, 0.011111786), (17, 0.011111786), (18, 0.011111786), (19, 0.011111786), (20, 0.011111786), (21, 0.011111786), (22, 0.011111786), (23, 0.011111786), (24, 0.011111786), (25, 0.3444135), (26, 0.011111786), (27, 0.011111786), (28, 0.011111786), (29, 0.011111786)]\n"
     ]
    }
   ],
   "source": [
    "new_doc = 'Practical Bayesian Optimization of Machine Learning Algorithms'\n",
    "new_doc = prepare_text_for_lda(new_doc)\n",
    "new_doc_bow = dictionary.doc2bow(new_doc)\n",
    "print(new_doc_bow)\n",
    "print(ldamodel.get_document_topics(new_doc_bow))"
   ]
  },
  {
   "cell_type": "code",
   "execution_count": 54,
   "metadata": {},
   "outputs": [
    {
     "name": "stdout",
     "output_type": "stream",
     "text": [
      "(0, '0.070*\"location\" + 0.057*\"hotel\" + 0.040*\"close\" + 0.030*\"great\"')\n",
      "(1, '0.027*\"hotel\" + 0.020*\"breakfast\" + 0.017*\"check\" + 0.012*\"small\"')\n",
      "(2, '0.160*\"location\" + 0.134*\"staff\" + 0.088*\"clean\" + 0.086*\"great\"')\n"
     ]
    }
   ],
   "source": [
    "ldamodel = gensim.models.ldamodel.LdaModel(corpus, num_topics = 3, id2word=dictionary, passes=15)\n",
    "ldamodel.save('model3.gensim')\n",
    "topics = ldamodel.print_topics(num_words=4)\n",
    "for topic in topics:\n",
    "    print(topic)"
   ]
  },
  {
   "cell_type": "code",
   "execution_count": 55,
   "metadata": {},
   "outputs": [
    {
     "name": "stdout",
     "output_type": "stream",
     "text": [
      "(0, '0.111*\"value\" + 0.082*\"like\" + 0.066*\"money\" + 0.052*\"cleanliness\"')\n",
      "(1, '0.312*\"breakfast\" + 0.051*\"great\" + 0.036*\"include\" + 0.025*\"comfortable\"')\n",
      "(2, '0.044*\"check\" + 0.040*\"bathroom\" + 0.038*\"clean\" + 0.034*\"comfortable\"')\n",
      "(3, '0.093*\"square\" + 0.089*\"location\" + 0.075*\"times\" + 0.074*\"central\"')\n",
      "(4, '0.097*\"everything\" + 0.048*\"hotel\" + 0.040*\"staff\" + 0.025*\"need\"')\n",
      "(5, '0.402*\"location\" + 0.190*\"great\" + 0.079*\"excellent\" + 0.073*\"staff\"')\n",
      "(6, '0.125*\"hotel\" + 0.045*\"would\" + 0.043*\"great\" + 0.041*\"place\"')\n",
      "(7, '0.205*\"staff\" + 0.144*\"clean\" + 0.139*\"friendly\" + 0.102*\"helpful\"')\n",
      "(8, '0.087*\"location\" + 0.069*\"close\" + 0.050*\"restaurant\" + 0.039*\"convenient\"')\n",
      "(9, '0.052*\"coffee\" + 0.042*\"lobby\" + 0.039*\"nothing\" + 0.028*\"hotel\"')\n"
     ]
    }
   ],
   "source": [
    "ldamodel = gensim.models.ldamodel.LdaModel(corpus, num_topics = 10, id2word=dictionary, passes=15)\n",
    "ldamodel.save('model10.gensim')\n",
    "topics = ldamodel.print_topics(num_words=4)\n",
    "for topic in topics:\n",
    "    print(topic)"
   ]
  },
  {
   "cell_type": "markdown",
   "metadata": {},
   "source": [
    "## pyLDAvis"
   ]
  },
  {
   "cell_type": "code",
   "execution_count": 56,
   "metadata": {},
   "outputs": [],
   "source": [
    "dictionary = gensim.corpora.Dictionary.load('dictionary.gensim')\n",
    "corpus = pickle.load(open('corpus.pkl', 'rb'))\n",
    "lda = gensim.models.ldamodel.LdaModel.load('model5.gensim')"
   ]
  },
  {
   "cell_type": "code",
   "execution_count": 1,
   "metadata": {},
   "outputs": [
    {
     "ename": "NameError",
     "evalue": "name 'lda' is not defined",
     "output_type": "error",
     "traceback": [
      "\u001b[0;31m---------------------------------------------------------------------------\u001b[0m",
      "\u001b[0;31mNameError\u001b[0m                                 Traceback (most recent call last)",
      "\u001b[0;32m<ipython-input-1-978c9a209cef>\u001b[0m in \u001b[0;36m<module>\u001b[0;34m\u001b[0m\n\u001b[1;32m      1\u001b[0m \u001b[0;32mimport\u001b[0m \u001b[0mpyLDAvis\u001b[0m\u001b[0;34m.\u001b[0m\u001b[0mgensim\u001b[0m\u001b[0;34m\u001b[0m\u001b[0m\n\u001b[0;32m----> 2\u001b[0;31m \u001b[0mlda_display\u001b[0m \u001b[0;34m=\u001b[0m \u001b[0mpyLDAvis\u001b[0m\u001b[0;34m.\u001b[0m\u001b[0mgensim\u001b[0m\u001b[0;34m.\u001b[0m\u001b[0mprepare\u001b[0m\u001b[0;34m(\u001b[0m\u001b[0mlda\u001b[0m\u001b[0;34m,\u001b[0m \u001b[0mcorpus\u001b[0m\u001b[0;34m,\u001b[0m \u001b[0mdictionary\u001b[0m\u001b[0;34m,\u001b[0m \u001b[0msort_topics\u001b[0m\u001b[0;34m=\u001b[0m\u001b[0;32mFalse\u001b[0m\u001b[0;34m)\u001b[0m\u001b[0;34m\u001b[0m\u001b[0m\n\u001b[0m\u001b[1;32m      3\u001b[0m \u001b[0mpyLDAvis\u001b[0m\u001b[0;34m.\u001b[0m\u001b[0mdisplay\u001b[0m\u001b[0;34m(\u001b[0m\u001b[0mlda_display\u001b[0m\u001b[0;34m)\u001b[0m\u001b[0;34m\u001b[0m\u001b[0m\n",
      "\u001b[0;31mNameError\u001b[0m: name 'lda' is not defined"
     ]
    }
   ],
   "source": [
    "import pyLDAvis.gensim\n",
    "lda_display = pyLDAvis.gensim.prepare(lda, corpus, dictionary, sort_topics=False)\n",
    "pyLDAvis.display(lda_display)"
   ]
  },
  {
   "cell_type": "code",
   "execution_count": 58,
   "metadata": {},
   "outputs": [
    {
     "name": "stderr",
     "output_type": "stream",
     "text": [
      "/home/argha/anaconda3/lib/python3.6/site-packages/pyLDAvis/_prepare.py:257: FutureWarning: Sorting because non-concatenation axis is not aligned. A future version\n",
      "of pandas will change to not sort by default.\n",
      "\n",
      "To accept the future behavior, pass 'sort=False'.\n",
      "\n",
      "To retain the current behavior and silence the warning, pass 'sort=True'.\n",
      "\n",
      "  return pd.concat([default_term_info] + list(topic_dfs))\n"
     ]
    },
    {
     "data": {
      "text/html": [
       "\n",
       "<link rel=\"stylesheet\" type=\"text/css\" href=\"https://cdn.rawgit.com/bmabey/pyLDAvis/files/ldavis.v1.0.0.css\">\n",
       "\n",
       "\n",
       "<div id=\"ldavis_el280021406773511449288795865988\"></div>\n",
       "<script type=\"text/javascript\">\n",
       "\n",
       "var ldavis_el280021406773511449288795865988_data = {\"mdsDat\": {\"x\": [0.08416683327884038, -0.3069314716960245, 0.22276463841718416], \"y\": [-0.2860211998117673, 0.07483896853324844, 0.21118223127851882], \"topics\": [1, 2, 3], \"cluster\": [1, 1, 1], \"Freq\": [28.11717414855957, 41.36933517456055, 30.513486862182617]}, \"tinfo\": {\"Category\": [\"Default\", \"Default\", \"Default\", \"Default\", \"Default\", \"Default\", \"Default\", \"Default\", \"Default\", \"Default\", \"Default\", \"Default\", \"Default\", \"Default\", \"Default\", \"Default\", \"Default\", \"Default\", \"Default\", \"Default\", \"Default\", \"Default\", \"Default\", \"Default\", \"Default\", \"Default\", \"Default\", \"Default\", \"Default\", \"Default\", \"Topic1\", \"Topic1\", \"Topic1\", \"Topic1\", \"Topic1\", \"Topic1\", \"Topic1\", \"Topic1\", \"Topic1\", \"Topic1\", \"Topic1\", \"Topic1\", \"Topic1\", \"Topic1\", \"Topic1\", \"Topic1\", \"Topic1\", \"Topic1\", \"Topic1\", \"Topic1\", \"Topic1\", \"Topic1\", \"Topic1\", \"Topic1\", \"Topic1\", \"Topic1\", \"Topic1\", \"Topic1\", \"Topic1\", \"Topic1\", \"Topic1\", \"Topic1\", \"Topic1\", \"Topic1\", \"Topic1\", \"Topic1\", \"Topic1\", \"Topic1\", \"Topic1\", \"Topic1\", \"Topic2\", \"Topic2\", \"Topic2\", \"Topic2\", \"Topic2\", \"Topic2\", \"Topic2\", \"Topic2\", \"Topic2\", \"Topic2\", \"Topic2\", \"Topic2\", \"Topic2\", \"Topic2\", \"Topic2\", \"Topic2\", \"Topic2\", \"Topic2\", \"Topic2\", \"Topic2\", \"Topic2\", \"Topic2\", \"Topic2\", \"Topic2\", \"Topic2\", \"Topic2\", \"Topic2\", \"Topic2\", \"Topic2\", \"Topic2\", \"Topic2\", \"Topic2\", \"Topic2\", \"Topic2\", \"Topic2\", \"Topic2\", \"Topic2\", \"Topic2\", \"Topic2\", \"Topic2\", \"Topic2\", \"Topic2\", \"Topic2\", \"Topic2\", \"Topic2\", \"Topic2\", \"Topic3\", \"Topic3\", \"Topic3\", \"Topic3\", \"Topic3\", \"Topic3\", \"Topic3\", \"Topic3\", \"Topic3\", \"Topic3\", \"Topic3\", \"Topic3\", \"Topic3\", \"Topic3\", \"Topic3\", \"Topic3\", \"Topic3\", \"Topic3\", \"Topic3\", \"Topic3\", \"Topic3\", \"Topic3\", \"Topic3\", \"Topic3\", \"Topic3\", \"Topic3\", \"Topic3\", \"Topic3\", \"Topic3\", \"Topic3\", \"Topic3\", \"Topic3\", \"Topic3\", \"Topic3\", \"Topic3\", \"Topic3\", \"Topic3\", \"Topic3\", \"Topic3\", \"Topic3\", \"Topic3\", \"Topic3\", \"Topic3\", \"Topic3\", \"Topic3\", \"Topic3\", \"Topic3\", \"Topic3\", \"Topic3\", \"Topic3\", \"Topic3\", \"Topic3\", \"Topic3\", \"Topic3\", \"Topic3\", \"Topic3\", \"Topic3\", \"Topic3\", \"Topic3\", \"Topic3\", \"Topic3\"], \"Freq\": [93805.0, 157864.0, 61557.0, 43778.0, 79796.0, 43925.0, 32096.0, 25712.0, 62867.0, 19282.0, 18517.0, 15065.0, 14956.0, 14790.0, 14705.0, 23241.0, 24460.0, 15882.0, 10971.0, 34255.0, 9455.0, 12527.0, 9136.0, 8172.0, 7968.0, 14852.0, 7930.0, 11309.0, 10327.0, 9344.0, 25711.74609375, 18516.376953125, 19281.50390625, 14704.16015625, 14956.0107421875, 14789.1162109375, 15064.8017578125, 10970.4072265625, 9454.2978515625, 8171.279296875, 7967.33447265625, 7929.13134765625, 5431.7822265625, 5104.23486328125, 4914.40283203125, 4909.57470703125, 4499.455078125, 4468.59423828125, 4850.08349609375, 4387.255859375, 3962.344970703125, 3801.948486328125, 3607.47119140625, 3402.985595703125, 2990.921630859375, 2902.000244140625, 2900.012939453125, 2765.642333984375, 2680.670654296875, 2639.400634765625, 5314.26904296875, 2787.39599609375, 36747.6328125, 10806.6611328125, 4707.75341796875, 45348.29296875, 8069.583984375, 19374.529296875, 5809.2705078125, 4308.98193359375, 15881.7509765625, 11308.138671875, 10326.9130859375, 9343.826171875, 8234.2646484375, 8278.5458984375, 7648.8310546875, 6919.37841796875, 5172.06298828125, 5370.26708984375, 5168.35693359375, 4746.0087890625, 4332.7294921875, 4391.3525390625, 4407.71826171875, 3959.961669921875, 3932.34375, 3769.15673828125, 3748.714111328125, 3592.708984375, 3688.905517578125, 3767.814208984375, 3648.341552734375, 3546.3603515625, 3832.4736328125, 3406.50390625, 3486.044189453125, 3267.027099609375, 3003.10302734375, 2775.273193359375, 9028.7880859375, 6826.1103515625, 5932.5439453125, 18593.103515625, 9332.6171875, 26079.775390625, 6016.703125, 8420.025390625, 7412.22509765625, 4851.1650390625, 7138.4482421875, 4396.72607421875, 5704.943359375, 6239.77587890625, 6464.189453125, 5363.1328125, 93804.5546875, 61556.80859375, 43777.234375, 32096.021484375, 9135.1396484375, 2238.223876953125, 2129.461669921875, 2031.145263671875, 541.8856811523438, 492.2160949707031, 491.3681640625, 489.649169921875, 362.2322692871094, 399.1710205078125, 363.62158203125, 244.53271484375, 259.5549621582031, 197.4310302734375, 194.18524169921875, 196.36106872558594, 183.49440002441406, 103.53862762451172, 95.8242416381836, 99.84600067138672, 80.49784851074219, 78.79190826416016, 74.82971954345703, 75.66809844970703, 69.60006713867188, 108.9544677734375, 81.95087432861328, 40125.01953125, 11357.59765625, 1438.4942626953125, 6514.12353515625, 19927.884765625, 4456.05029296875, 7544.44921875, 686.8023071289062, 60420.640625, 112515.984375, 4591.02099609375, 17995.763671875, 1466.9210205078125, 3032.35498046875, 3311.5830078125, 6316.8759765625, 3808.869140625, 8857.9833984375, 4080.05419921875, 15662.26953125, 1744.4984130859375, 6538.07275390625, 3134.109130859375, 3482.35888671875, 3075.9794921875, 4208.3017578125, 4121.53955078125, 4908.26123046875, 4081.970458984375, 4045.50537109375], \"Term\": [\"staff\", \"location\", \"clean\", \"friendly\", \"great\", \"comfortable\", \"helpful\", \"close\", \"hotel\", \"everything\", \"square\", \"restaurant\", \"times\", \"central\", \"subway\", \"excellent\", \"rooms\", \"check\", \"amaze\", \"breakfast\", \"walking\", \"comfy\", \"value\", \"station\", \"distance\", \"perfect\", \"right\", \"small\", \"coffee\", \"night\", \"close\", \"square\", \"everything\", \"subway\", \"times\", \"central\", \"restaurant\", \"amaze\", \"walking\", \"station\", \"distance\", \"right\", \"locate\", \"street\", \"manhattan\", \"access\", \"block\", \"building\", \"recommend\", \"cleanliness\", \"within\", \"attraction\", \"rooftop\", \"minutes\", \"state\", \"center\", \"nearby\", \"metro\", \"shopping\", \"empire\", \"definitely\", \"across\", \"hotel\", \"perfect\", \"around\", \"location\", \"place\", \"great\", \"convenient\", \"would\", \"check\", \"small\", \"coffee\", \"night\", \"like\", \"lobby\", \"shower\", \"nothing\", \"people\", \"pillow\", \"every\", \"water\", \"upgrade\", \"space\", \"include\", \"morning\", \"suite\", \"extra\", \"expect\", \"early\", \"available\", \"experience\", \"better\", \"sleep\", \"kitchen\", \"first\", \"happy\", \"towel\", \"provide\", \"elevator\", \"could\", \"stay\", \"floor\", \"breakfast\", \"bathroom\", \"hotel\", \"need\", \"would\", \"love\", \"little\", \"really\", \"enjoy\", \"front\", \"service\", \"rooms\", \"place\", \"staff\", \"clean\", \"friendly\", \"helpful\", \"value\", \"professional\", \"polite\", \"courteous\", \"helpfull\", \"knowledgeable\", \"accomodating\", \"exceptionally\", \"amazingly\", \"peaceful\", \"informative\", \"specially\", \"helpfulness\", \"spotlessly\", \"approachable\", \"cordial\", \"quietness\", \"cooperative\", \"cleaniness\", \"supportive\", \"freindly\", \"competent\", \"accomadating\", \"upbeat\", \"knowledgable\", \"wonderfull\", \"accomodations\", \"comfortable\", \"comfy\", \"attentive\", \"super\", \"excellent\", \"extremely\", \"spacious\", \"personnel\", \"great\", \"location\", \"money\", \"rooms\", \"atmosphere\", \"modern\", \"pleasant\", \"quiet\", \"accommodate\", \"price\", \"facility\", \"breakfast\", \"decor\", \"service\", \"fantastic\", \"large\", \"lovely\", \"convenient\", \"front\", \"really\", \"bathroom\", \"perfect\"], \"Total\": [93805.0, 157864.0, 61557.0, 43778.0, 79796.0, 43925.0, 32096.0, 25712.0, 62867.0, 19282.0, 18517.0, 15065.0, 14956.0, 14790.0, 14705.0, 23241.0, 24460.0, 15882.0, 10971.0, 34255.0, 9455.0, 12527.0, 9136.0, 8172.0, 7968.0, 14852.0, 7930.0, 11309.0, 10327.0, 9344.0, 25712.6484375, 18517.275390625, 19282.470703125, 14705.0595703125, 14956.93359375, 14790.0419921875, 15065.7470703125, 10971.4423828125, 9455.19140625, 8172.1767578125, 7968.220703125, 7930.08935546875, 5432.70361328125, 5105.171875, 4915.32080078125, 4910.51904296875, 4500.376953125, 4469.54150390625, 4851.1513671875, 4388.240234375, 3963.25830078125, 3802.85107421875, 3608.45849609375, 3403.955322265625, 2991.822021484375, 2902.90771484375, 2900.926025390625, 2766.5322265625, 2681.560302734375, 2640.285400390625, 5316.50830078125, 2788.331298828125, 62867.890625, 14852.724609375, 5789.1845703125, 157864.796875, 14931.1962890625, 79796.3359375, 10018.1044921875, 12729.455078125, 15882.61328125, 11309.060546875, 10327.7734375, 9344.7021484375, 8235.1826171875, 8279.4990234375, 7649.71875, 6920.189453125, 5172.93310546875, 5371.181640625, 5169.251953125, 4746.841796875, 4333.5966796875, 4392.23291015625, 4408.63134765625, 3960.805908203125, 3933.2373046875, 3770.02099609375, 3749.57763671875, 3593.542236328125, 3689.761962890625, 3768.70703125, 3649.21142578125, 3547.223388671875, 3833.428955078125, 3407.376953125, 3486.948486328125, 3267.87744140625, 3003.957763671875, 2776.126953125, 9043.435546875, 8298.162109375, 7086.89990234375, 34255.8125, 13415.033203125, 62867.890625, 7693.76220703125, 12729.455078125, 10780.2529296875, 6464.56591796875, 14758.072265625, 5312.54296875, 9826.9287109375, 12778.2978515625, 24460.41796875, 14931.1962890625, 93805.5390625, 61557.8125, 43778.17578125, 32096.990234375, 9136.13671875, 2239.259033203125, 2130.44873046875, 2032.1102294921875, 542.8194580078125, 493.1764831542969, 492.33856201171875, 490.6221923828125, 363.23162841796875, 400.27313232421875, 364.6482238769531, 245.53256225585938, 260.6670227050781, 198.3621368408203, 195.24325561523438, 197.45574951171875, 184.5380401611328, 104.46553802490234, 96.75457000732422, 100.85745239257812, 81.40595245361328, 79.7309341430664, 75.74711608886719, 76.6622543334961, 70.5275650024414, 110.45030975341797, 83.16360473632812, 43925.10546875, 12527.6259765625, 1540.862060546875, 7321.19921875, 23241.09375, 5229.20166015625, 9069.212890625, 747.2616577148438, 79796.3359375, 157864.796875, 5581.5107421875, 24460.41796875, 1765.435302734375, 4003.8486328125, 4745.39794921875, 9983.412109375, 5622.23095703125, 15333.7314453125, 6269.35546875, 34255.8125, 2330.8134765625, 12778.2978515625, 5671.5595703125, 6767.76806640625, 5834.63916015625, 10018.1044921875, 9826.9287109375, 14758.072265625, 13415.033203125, 14852.724609375], \"loglift\": [30.0, 29.0, 28.0, 27.0, 26.0, 25.0, 24.0, 23.0, 22.0, 21.0, 20.0, 19.0, 18.0, 17.0, 16.0, 15.0, 14.0, 13.0, 12.0, 11.0, 10.0, 9.0, 8.0, 7.0, 6.0, 5.0, 4.0, 3.0, 2.0, 1.0, 1.2688000202178955, 1.2687000036239624, 1.2687000036239624, 1.2687000036239624, 1.2687000036239624, 1.2687000036239624, 1.2687000036239624, 1.2687000036239624, 1.2687000036239624, 1.2687000036239624, 1.2687000036239624, 1.2687000036239624, 1.2685999870300293, 1.2685999870300293, 1.2685999870300293, 1.2685999870300293, 1.2685999870300293, 1.2685999870300293, 1.2685999870300293, 1.2685999870300293, 1.2685999870300293, 1.2685999870300293, 1.2684999704360962, 1.2684999704360962, 1.2684999704360962, 1.2684999704360962, 1.2684999704360962, 1.2684999704360962, 1.2684999704360962, 1.2684999704360962, 1.268399953842163, 1.2684999704360962, 0.7318000197410583, 0.9508000016212463, 1.062000036239624, 0.021400000900030136, 0.6534000039100647, -0.14669999480247498, 0.7239000201225281, 0.18559999763965607, 0.8826000094413757, 0.8824999928474426, 0.8824999928474426, 0.8824999928474426, 0.8824999928474426, 0.8824999928474426, 0.8824999928474426, 0.8824999928474426, 0.8824999928474426, 0.8824999928474426, 0.8824999928474426, 0.8824999928474426, 0.8823999762535095, 0.8823999762535095, 0.8823999762535095, 0.8823999762535095, 0.8823999762535095, 0.8823999762535095, 0.8823999762535095, 0.8823999762535095, 0.8823999762535095, 0.8823999762535095, 0.8823999762535095, 0.8823999762535095, 0.8823999762535095, 0.8823999762535095, 0.8823999762535095, 0.8823999762535095, 0.8823000192642212, 0.8823000192642212, 0.8809999823570251, 0.6873999834060669, 0.704800009727478, 0.27160000801086426, 0.5198000073432922, 0.00279999990016222, 0.6367999911308289, 0.4693000018596649, 0.5080000162124634, 0.5954999923706055, 0.15629999339580536, 0.6934000253677368, 0.33880001306533813, 0.16580000519752502, -0.4481000006198883, -0.1412999927997589, 1.187000036239624, 1.187000036239624, 1.187000036239624, 1.187000036239624, 1.186900019645691, 1.1864999532699585, 1.1864999532699585, 1.1864999532699585, 1.1852999925613403, 1.1850999593734741, 1.184999942779541, 1.184999942779541, 1.1842000484466553, 1.1842000484466553, 1.1842000484466553, 1.1828999519348145, 1.1827000379562378, 1.1822999715805054, 1.1815999746322632, 1.181399941444397, 1.1813000440597534, 1.1780999898910522, 1.177299976348877, 1.176900029182434, 1.1757999658584595, 1.1751999855041504, 1.1748000383377075, 1.1739000082015991, 1.173799991607666, 1.1734000444412231, 1.1722999811172485, 1.096500039100647, 1.0889999866485596, 1.118299961090088, 1.070199966430664, 1.0332000255584717, 1.0269999504089355, 1.0029000043869019, 1.1025999784469604, 0.9089000225067139, 0.8483999967575073, 0.991599977016449, 0.8801000118255615, 1.0017999410629272, 0.9090999960899353, 0.8273000121116638, 0.7293000221252441, 0.7975999712944031, 0.6383000016212463, 0.7573999762535095, 0.4043999910354614, 0.8973000049591064, 0.5169000029563904, 0.5939000248908997, 0.5224999785423279, 0.5468000173568726, 0.3197000026702881, 0.3181000053882599, 0.08609999716281891, -0.00279999990016222, -0.1136000007390976], \"logprob\": [30.0, 29.0, 28.0, 27.0, 26.0, 25.0, 24.0, 23.0, 22.0, 21.0, 20.0, 19.0, 18.0, 17.0, 16.0, 15.0, 14.0, 13.0, 12.0, 11.0, 10.0, 9.0, 8.0, 7.0, 6.0, 5.0, 4.0, 3.0, 2.0, 1.0, -3.225600004196167, -3.5539000034332275, -3.513400077819824, -3.78439998626709, -3.767400026321411, -3.778599977493286, -3.7600998878479004, -4.077300071716309, -4.22599983215332, -4.3719000816345215, -4.397200107574463, -4.4019999504089355, -4.780200004577637, -4.842400074005127, -4.880300045013428, -4.88129997253418, -4.968599796295166, -4.975399971008301, -4.893499851226807, -4.993800163269043, -5.095699787139893, -5.13700008392334, -5.189499855041504, -5.247900009155273, -5.3769001960754395, -5.407100200653076, -5.407800197601318, -5.4552001953125, -5.486400127410889, -5.501999855041504, -4.80210018157959, -5.447400093078613, -2.8684000968933105, -4.092299938201904, -4.923299789428711, -2.658099889755249, -4.384399890899658, -3.508500099182129, -4.713099956512451, -5.0117998123168945, -4.093500137329102, -4.43310022354126, -4.523900032043457, -4.624000072479248, -4.750400066375732, -4.744999885559082, -4.824100017547607, -4.924300193786621, -5.215400218963623, -5.177800178527832, -5.216100215911865, -5.301400184631348, -5.392499923706055, -5.379000186920166, -5.37529993057251, -5.482399940490723, -5.4893999099731445, -5.531799793243408, -5.537300109863281, -5.579800128936768, -5.553299903869629, -5.532199859619141, -5.5644001960754395, -5.592700004577637, -5.515200138092041, -5.632999897003174, -5.609899997711182, -5.674799919128418, -5.758999824523926, -5.837900161743164, -4.658199787139893, -4.937900066375732, -5.078199863433838, -3.9358999729156494, -4.625199794769287, -3.5975000858306885, -5.0640997886657715, -4.728099822998047, -4.855500221252441, -5.279399871826172, -4.893199920654297, -5.377799987792969, -5.117300033569336, -5.027699947357178, -4.992400169372559, -5.179100036621094, -2.0130999088287354, -2.434299945831299, -2.7751998901367188, -3.085599899291992, -4.342199802398682, -5.748600006103516, -5.798399925231934, -5.845699787139893, -7.166999816894531, -7.2631001472473145, -7.264900207519531, -7.268400192260742, -7.569799900054932, -7.472700119018555, -7.565899848937988, -7.962699890136719, -7.90310001373291, -8.1766996383667, -8.19320011138916, -8.182100296020508, -8.249899864196777, -8.822099685668945, -8.899499893188477, -8.858400344848633, -9.073800086975098, -9.095199584960938, -9.14680004119873, -9.135700225830078, -9.219300270080566, -8.771100044250488, -9.055899620056152, -2.862299919128418, -4.1244001388549805, -6.190700054168701, -4.680300235748291, -3.5622000694274902, -5.059999942779541, -4.5335001945495605, -6.929999828338623, -2.453000068664551, -1.8312000036239624, -5.030200004577637, -3.6642000675201416, -6.17110013961792, -5.445000171661377, -5.356900215148926, -4.711100101470947, -5.2170000076293945, -4.373000144958496, -5.148200035095215, -3.802999973297119, -5.997799873352051, -4.676700115203857, -5.4120001792907715, -5.306600093841553, -5.430699825286865, -5.117199897766113, -5.1381001472473145, -4.963399887084961, -5.14769983291626, -5.156700134277344]}, \"token.table\": {\"Topic\": [1, 2, 2, 3, 2, 3, 2, 3, 2, 3, 1, 2, 1, 2, 2, 3, 2, 3, 1, 2, 1, 2, 3, 2, 3, 1, 2, 2, 3, 2, 1, 2, 2, 3, 1, 2, 1, 2, 1, 2, 2, 2, 3, 3, 1, 2, 1, 2, 2, 3, 2, 3, 2, 3, 1, 2, 3, 2, 3, 2, 3, 1, 2, 2, 3, 2, 3, 1, 2, 1, 2, 2, 1, 1, 2, 2, 1, 2, 1, 2, 3, 2, 3, 2, 2, 2, 2, 3, 2, 3, 1, 2, 3, 2, 1, 2, 3, 2, 3, 2, 3, 1, 2, 3, 2, 2, 3, 3, 2, 3, 1, 2, 3, 2, 2, 3, 1, 2, 3, 2, 3, 2, 3, 2, 1, 2, 2, 1, 2, 1, 2, 3, 1, 2, 1, 2, 3, 1, 2, 1, 1, 2, 1, 2, 3, 2, 3, 2, 1, 2, 1, 2, 2, 2, 1, 2, 3, 2, 1, 2, 3, 2, 3, 2, 1, 2, 3, 2, 3, 2, 3, 1, 2, 3, 2, 3, 2, 1, 2, 3, 2, 3, 1, 2, 3, 1, 2, 1, 2, 1, 2, 1, 2, 2, 3, 2, 3, 1, 2, 2, 2, 2, 2, 3, 2, 3, 2, 3, 1, 2, 3, 1, 2, 1, 1, 2, 1, 2, 1, 2, 2, 3, 2, 3, 1, 2, 2, 2, 3, 2, 2, 3, 1, 2, 1, 2, 1, 2, 3, 1, 2], \"Freq\": [0.9998943209648132, 0.0002036444639088586, 0.013201822526752949, 0.9901366829872131, 0.3224698603153229, 0.6774890422821045, 0.0020311225671321154, 0.9972811937332153, 0.012024491094052792, 0.9860082268714905, 0.9995225667953491, 0.0003586374514270574, 0.9998685121536255, 9.114571730606258e-05, 0.0027530642691999674, 0.9966092705726624, 0.005121815949678421, 0.9936322569847107, 0.8132405877113342, 0.18672750890254974, 0.03965027630329132, 0.1297130584716797, 0.8309565186500549, 0.06619670987129211, 0.9332438111305237, 0.9997761845588684, 0.9997934699058533, 0.6957120299339294, 0.3042854964733124, 0.9996680021286011, 0.9996940493583679, 0.00022220361279323697, 0.542769193649292, 0.4572070837020874, 0.9998788237571716, 0.0002237365988548845, 0.9996873140335083, 0.00034448219230398536, 0.9999295473098755, 6.761305849067867e-05, 0.9999613761901855, 1.6244892321992666e-05, 0.9999868273735046, 0.9922012090682983, 0.9997173547744751, 0.00022788178466726094, 0.99997478723526, 0.9999251365661621, 0.08651088923215866, 0.9134867191314697, 0.09339359402656555, 0.9066362380981445, 0.012542183510959148, 0.990832507610321, 0.5798501968383789, 9.981928451452404e-05, 0.4200395345687866, 0.009572534821927547, 0.9955435991287231, 0.005064425989985466, 0.9926274418830872, 0.0015480841975659132, 0.9984037280082703, 0.0004920992651022971, 0.9994536638259888, 0.25141435861587524, 0.7482365965843201, 0.9995282292366028, 0.0003761867410503328, 0.9998468160629272, 0.9998490810394287, 0.9995940327644348, 0.9995131492614746, 0.17223389446735382, 0.8276638984680176, 0.9997578263282776, 0.9999755620956421, 5.186057387618348e-05, 0.14254923164844513, 4.302723391447216e-05, 0.8574467301368713, 0.002038228325545788, 0.9987318515777588, 0.9998459219932556, 0.9998123645782471, 0.9997291564941406, 0.14782370626926422, 0.8521377444267273, 0.34915870428085327, 0.6507846117019653, 0.3305968940258026, 0.11689906567335129, 0.5525816679000854, 0.9998893737792969, 0.16283565759658813, 0.8371784687042236, 0.9827291369438171, 2.2842432372272015e-05, 0.9999731183052063, 0.5805476307868958, 0.41945964097976685, 0.2428056299686432, 1.2531903848866932e-05, 0.7571901679039001, 0.9997279644012451, 3.1155570468399674e-05, 0.9999691247940063, 0.9984903931617737, 0.0038363118655979633, 0.9974411129951477, 0.584527313709259, 0.41483816504478455, 0.0006362548447214067, 0.9998567700386047, 0.0027423689607530832, 0.9982223510742188, 0.00026086304569616914, 0.9996272325515747, 0.992519736289978, 0.0020276717841625214, 0.9976145029067993, 0.48538896441459656, 0.5144975185394287, 0.9998564124107361, 0.24951404333114624, 0.7503983974456787, 0.9999397397041321, 0.9998704791069031, 0.000184070406248793, 0.28725847601890564, 6.334534646157408e-06, 0.7127364873886108, 0.31242311000823975, 0.6875534653663635, 0.14773835241794586, 0.3251272141933441, 0.5271962881088257, 0.9997313022613525, 0.0002034455246757716, 0.999807596206665, 0.9997193217277527, 0.0002937758981715888, 0.12288177013397217, 0.11988465487957001, 0.757271409034729, 0.1773713380098343, 0.8225371837615967, 0.9997965097427368, 0.999680757522583, 0.00034471749677322805, 0.21796879172325134, 0.7820621132850647, 0.9999248385429382, 0.9998281002044678, 0.0024982939939945936, 0.0024982939939945936, 0.9968193173408508, 0.9998196363449097, 0.7276105880737305, 6.732771726092324e-05, 0.2724079191684723, 0.08029316365718842, 0.9193567037582397, 0.999779999256134, 0.5404791235923767, 0.35918086767196655, 0.10032685846090317, 0.3019767701625824, 0.6979393362998962, 0.0004693846858572215, 0.9993199706077576, 0.2133205533027649, 0.20895110070705414, 0.5776806473731995, 0.00044657630496658385, 0.9994377493858337, 0.9996811747550964, 0.24620841443538666, 0.12110088020563126, 0.632749617099762, 0.005418936721980572, 0.9916654825210571, 0.18369607627391815, 0.4836674928665161, 0.33256375789642334, 0.9997626543045044, 0.0002061366249108687, 0.9999504089355469, 6.637573096668348e-05, 0.9998626112937927, 0.00012610197882167995, 0.9995958209037781, 0.00027712664450518787, 0.26426368951797485, 0.7357192635536194, 0.4883279502391815, 0.5116487145423889, 0.9997910261154175, 0.999906063079834, 0.9996551275253296, 0.9999062418937683, 0.9997193217277527, 0.16804105043411255, 0.8318251967430115, 0.004072779323905706, 0.9978309869766235, 0.005041284486651421, 0.9931330680847168, 0.9999310970306396, 1.0660351108526811e-05, 0.9999942779541016, 0.9997252225875854, 0.0003342444833833724, 0.9998559951782227, 0.17738868296146393, 0.8225917816162109, 0.99977046251297, 0.0001958797947736457, 0.9999279379844666, 0.9996854066848755, 0.11022784560918808, 0.8897449374198914, 0.009914983995258808, 0.9914983510971069, 0.9999375939369202, 6.68586217216216e-05, 0.9997314810752869, 0.01304422877728939, 0.9913613796234131, 0.9998623132705688, 0.00010945545363938436, 0.9998756051063538, 0.9998739957809448, 0.9998226761817932, 0.9996824860572815, 0.0002523176372051239, 0.009053844958543777, 0.009053844958543777, 0.9868690967559814, 0.3385062515735626, 0.6614580154418945], \"Term\": [\"access\", \"access\", \"accomadating\", \"accomadating\", \"accommodate\", \"accommodate\", \"accomodating\", \"accomodating\", \"accomodations\", \"accomodations\", \"across\", \"across\", \"amaze\", \"amaze\", \"amazingly\", \"amazingly\", \"approachable\", \"approachable\", \"around\", \"around\", \"atmosphere\", \"atmosphere\", \"atmosphere\", \"attentive\", \"attentive\", \"attraction\", \"available\", \"bathroom\", \"bathroom\", \"better\", \"block\", \"block\", \"breakfast\", \"breakfast\", \"building\", \"building\", \"center\", \"center\", \"central\", \"central\", \"check\", \"clean\", \"clean\", \"cleaniness\", \"cleanliness\", \"cleanliness\", \"close\", \"coffee\", \"comfortable\", \"comfortable\", \"comfy\", \"comfy\", \"competent\", \"competent\", \"convenient\", \"convenient\", \"convenient\", \"cooperative\", \"cooperative\", \"cordial\", \"cordial\", \"could\", \"could\", \"courteous\", \"courteous\", \"decor\", \"decor\", \"definitely\", \"definitely\", \"distance\", \"early\", \"elevator\", \"empire\", \"enjoy\", \"enjoy\", \"every\", \"everything\", \"everything\", \"excellent\", \"excellent\", \"excellent\", \"exceptionally\", \"exceptionally\", \"expect\", \"experience\", \"extra\", \"extremely\", \"extremely\", \"facility\", \"facility\", \"fantastic\", \"fantastic\", \"fantastic\", \"first\", \"floor\", \"floor\", \"freindly\", \"friendly\", \"friendly\", \"front\", \"front\", \"great\", \"great\", \"great\", \"happy\", \"helpful\", \"helpful\", \"helpfull\", \"helpfulness\", \"helpfulness\", \"hotel\", \"hotel\", \"hotel\", \"include\", \"informative\", \"informative\", \"kitchen\", \"kitchen\", \"knowledgable\", \"knowledgeable\", \"knowledgeable\", \"large\", \"large\", \"like\", \"little\", \"little\", \"lobby\", \"locate\", \"locate\", \"location\", \"location\", \"location\", \"love\", \"love\", \"lovely\", \"lovely\", \"lovely\", \"manhattan\", \"manhattan\", \"metro\", \"minutes\", \"minutes\", \"modern\", \"modern\", \"modern\", \"money\", \"money\", \"morning\", \"nearby\", \"nearby\", \"need\", \"need\", \"night\", \"nothing\", \"peaceful\", \"peaceful\", \"peaceful\", \"people\", \"perfect\", \"perfect\", \"perfect\", \"personnel\", \"personnel\", \"pillow\", \"place\", \"place\", \"place\", \"pleasant\", \"pleasant\", \"polite\", \"polite\", \"price\", \"price\", \"price\", \"professional\", \"professional\", \"provide\", \"quiet\", \"quiet\", \"quiet\", \"quietness\", \"quietness\", \"really\", \"really\", \"really\", \"recommend\", \"recommend\", \"restaurant\", \"restaurant\", \"right\", \"right\", \"rooftop\", \"rooftop\", \"rooms\", \"rooms\", \"service\", \"service\", \"shopping\", \"shower\", \"sleep\", \"small\", \"space\", \"spacious\", \"spacious\", \"specially\", \"specially\", \"spotlessly\", \"spotlessly\", \"square\", \"staff\", \"staff\", \"state\", \"state\", \"station\", \"stay\", \"stay\", \"street\", \"street\", \"subway\", \"suite\", \"super\", \"super\", \"supportive\", \"supportive\", \"times\", \"times\", \"towel\", \"upbeat\", \"upbeat\", \"upgrade\", \"value\", \"value\", \"walking\", \"water\", \"within\", \"within\", \"wonderfull\", \"wonderfull\", \"wonderfull\", \"would\", \"would\"]}, \"R\": 30, \"lambda.step\": 0.01, \"plot.opts\": {\"xlab\": \"PC1\", \"ylab\": \"PC2\"}, \"topic.order\": [1, 2, 3]};\n",
       "\n",
       "function LDAvis_load_lib(url, callback){\n",
       "  var s = document.createElement('script');\n",
       "  s.src = url;\n",
       "  s.async = true;\n",
       "  s.onreadystatechange = s.onload = callback;\n",
       "  s.onerror = function(){console.warn(\"failed to load library \" + url);};\n",
       "  document.getElementsByTagName(\"head\")[0].appendChild(s);\n",
       "}\n",
       "\n",
       "if(typeof(LDAvis) !== \"undefined\"){\n",
       "   // already loaded: just create the visualization\n",
       "   !function(LDAvis){\n",
       "       new LDAvis(\"#\" + \"ldavis_el280021406773511449288795865988\", ldavis_el280021406773511449288795865988_data);\n",
       "   }(LDAvis);\n",
       "}else if(typeof define === \"function\" && define.amd){\n",
       "   // require.js is available: use it to load d3/LDAvis\n",
       "   require.config({paths: {d3: \"https://cdnjs.cloudflare.com/ajax/libs/d3/3.5.5/d3.min\"}});\n",
       "   require([\"d3\"], function(d3){\n",
       "      window.d3 = d3;\n",
       "      LDAvis_load_lib(\"https://cdn.rawgit.com/bmabey/pyLDAvis/files/ldavis.v1.0.0.js\", function(){\n",
       "        new LDAvis(\"#\" + \"ldavis_el280021406773511449288795865988\", ldavis_el280021406773511449288795865988_data);\n",
       "      });\n",
       "    });\n",
       "}else{\n",
       "    // require.js not available: dynamically load d3 & LDAvis\n",
       "    LDAvis_load_lib(\"https://cdnjs.cloudflare.com/ajax/libs/d3/3.5.5/d3.min.js\", function(){\n",
       "         LDAvis_load_lib(\"https://cdn.rawgit.com/bmabey/pyLDAvis/files/ldavis.v1.0.0.js\", function(){\n",
       "                 new LDAvis(\"#\" + \"ldavis_el280021406773511449288795865988\", ldavis_el280021406773511449288795865988_data);\n",
       "            })\n",
       "         });\n",
       "}\n",
       "</script>"
      ],
      "text/plain": [
       "<IPython.core.display.HTML object>"
      ]
     },
     "execution_count": 58,
     "metadata": {},
     "output_type": "execute_result"
    }
   ],
   "source": [
    "lda3 = gensim.models.ldamodel.LdaModel.load('model3.gensim')\n",
    "lda_display3 = pyLDAvis.gensim.prepare(lda3, corpus, dictionary, sort_topics=False)\n",
    "pyLDAvis.display(lda_display3)"
   ]
  },
  {
   "cell_type": "code",
   "execution_count": 59,
   "metadata": {},
   "outputs": [
    {
     "name": "stderr",
     "output_type": "stream",
     "text": [
      "/home/argha/anaconda3/lib/python3.6/site-packages/pyLDAvis/_prepare.py:257: FutureWarning: Sorting because non-concatenation axis is not aligned. A future version\n",
      "of pandas will change to not sort by default.\n",
      "\n",
      "To accept the future behavior, pass 'sort=False'.\n",
      "\n",
      "To retain the current behavior and silence the warning, pass 'sort=True'.\n",
      "\n",
      "  return pd.concat([default_term_info] + list(topic_dfs))\n"
     ]
    },
    {
     "data": {
      "text/html": [
       "\n",
       "<link rel=\"stylesheet\" type=\"text/css\" href=\"https://cdn.rawgit.com/bmabey/pyLDAvis/files/ldavis.v1.0.0.css\">\n",
       "\n",
       "\n",
       "<div id=\"ldavis_el280021406784851330165517432453\"></div>\n",
       "<script type=\"text/javascript\">\n",
       "\n",
       "var ldavis_el280021406784851330165517432453_data = {\"mdsDat\": {\"x\": [-0.06984235504043428, -0.03505260540630467, -0.24163223853582183, 0.2748578566531349, -0.12174723605051745, 0.25748048109669563, -0.007225216665919292, -0.15772429347827163, 0.2430128439050652, -0.14212723647762698], \"y\": [0.3456790244260627, 0.19309968760878443, -0.12990839702680887, -0.058099868656823796, -0.14450836364900868, -0.06313148361925942, -0.026375867333767556, -0.21587255033771668, -0.015576440076811991, 0.11469425866534952], \"topics\": [1, 2, 3, 4, 5, 6, 7, 8, 9, 10], \"cluster\": [1, 1, 1, 1, 1, 1, 1, 1, 1, 1], \"Freq\": [4.498659610748291, 6.146886348724365, 14.496706008911133, 7.847623348236084, 10.393075942993164, 10.575883865356445, 12.03117561340332, 14.843994140625, 11.028087615966797, 8.137913703918457]}, \"tinfo\": {\"Category\": [\"Default\", \"Default\", \"Default\", \"Default\", \"Default\", \"Default\", \"Default\", \"Default\", \"Default\", \"Default\", \"Default\", \"Default\", \"Default\", \"Default\", \"Default\", \"Default\", \"Default\", \"Default\", \"Default\", \"Default\", \"Default\", \"Default\", \"Default\", \"Default\", \"Default\", \"Default\", \"Default\", \"Default\", \"Default\", \"Default\", \"Topic1\", \"Topic1\", \"Topic1\", \"Topic1\", \"Topic1\", \"Topic1\", \"Topic1\", \"Topic1\", \"Topic1\", \"Topic1\", \"Topic1\", \"Topic1\", \"Topic1\", \"Topic1\", \"Topic1\", \"Topic1\", \"Topic1\", \"Topic1\", \"Topic1\", \"Topic1\", \"Topic1\", \"Topic1\", \"Topic1\", \"Topic1\", \"Topic1\", \"Topic1\", \"Topic1\", \"Topic1\", \"Topic1\", \"Topic1\", \"Topic1\", \"Topic1\", \"Topic1\", \"Topic1\", \"Topic1\", \"Topic1\", \"Topic1\", \"Topic1\", \"Topic2\", \"Topic2\", \"Topic2\", \"Topic2\", \"Topic2\", \"Topic2\", \"Topic2\", \"Topic2\", \"Topic2\", \"Topic2\", \"Topic2\", \"Topic2\", \"Topic2\", \"Topic2\", \"Topic2\", \"Topic2\", \"Topic2\", \"Topic2\", \"Topic2\", \"Topic2\", \"Topic2\", \"Topic2\", \"Topic2\", \"Topic2\", \"Topic2\", \"Topic2\", \"Topic2\", \"Topic2\", \"Topic2\", \"Topic2\", \"Topic2\", \"Topic2\", \"Topic2\", \"Topic2\", \"Topic2\", \"Topic2\", \"Topic2\", \"Topic2\", \"Topic2\", \"Topic2\", \"Topic2\", \"Topic2\", \"Topic3\", \"Topic3\", \"Topic3\", \"Topic3\", \"Topic3\", \"Topic3\", \"Topic3\", \"Topic3\", \"Topic3\", \"Topic3\", \"Topic3\", \"Topic3\", \"Topic3\", \"Topic3\", \"Topic3\", \"Topic3\", \"Topic3\", \"Topic3\", \"Topic3\", \"Topic3\", \"Topic3\", \"Topic3\", \"Topic3\", \"Topic3\", \"Topic3\", \"Topic3\", \"Topic3\", \"Topic3\", \"Topic3\", \"Topic3\", \"Topic3\", \"Topic3\", \"Topic3\", \"Topic3\", \"Topic3\", \"Topic3\", \"Topic3\", \"Topic3\", \"Topic3\", \"Topic3\", \"Topic3\", \"Topic3\", \"Topic3\", \"Topic3\", \"Topic3\", \"Topic3\", \"Topic3\", \"Topic3\", \"Topic3\", \"Topic3\", \"Topic3\", \"Topic3\", \"Topic3\", \"Topic3\", \"Topic3\", \"Topic4\", \"Topic4\", \"Topic4\", \"Topic4\", \"Topic4\", \"Topic4\", \"Topic4\", \"Topic4\", \"Topic4\", \"Topic4\", \"Topic4\", \"Topic4\", \"Topic4\", \"Topic4\", \"Topic4\", \"Topic4\", \"Topic4\", \"Topic4\", \"Topic4\", \"Topic4\", \"Topic4\", \"Topic4\", \"Topic4\", \"Topic4\", \"Topic4\", \"Topic4\", \"Topic4\", \"Topic4\", \"Topic4\", \"Topic4\", \"Topic4\", \"Topic4\", \"Topic4\", \"Topic4\", \"Topic4\", \"Topic4\", \"Topic4\", \"Topic4\", \"Topic4\", \"Topic4\", \"Topic4\", \"Topic4\", \"Topic4\", \"Topic4\", \"Topic4\", \"Topic4\", \"Topic4\", \"Topic5\", \"Topic5\", \"Topic5\", \"Topic5\", \"Topic5\", \"Topic5\", \"Topic5\", \"Topic5\", \"Topic5\", \"Topic5\", \"Topic5\", \"Topic5\", \"Topic5\", \"Topic5\", \"Topic5\", \"Topic5\", \"Topic5\", \"Topic5\", \"Topic5\", \"Topic5\", \"Topic5\", \"Topic5\", \"Topic5\", \"Topic5\", \"Topic5\", \"Topic5\", \"Topic5\", \"Topic5\", \"Topic5\", \"Topic5\", \"Topic5\", \"Topic5\", \"Topic5\", \"Topic5\", \"Topic5\", \"Topic5\", \"Topic5\", \"Topic5\", \"Topic5\", \"Topic5\", \"Topic5\", \"Topic5\", \"Topic5\", \"Topic5\", \"Topic5\", \"Topic5\", \"Topic5\", \"Topic5\", \"Topic5\", \"Topic5\", \"Topic5\", \"Topic5\", \"Topic6\", \"Topic6\", \"Topic6\", \"Topic6\", \"Topic6\", \"Topic6\", \"Topic6\", \"Topic6\", \"Topic6\", \"Topic6\", \"Topic6\", \"Topic6\", \"Topic6\", \"Topic6\", \"Topic6\", \"Topic6\", \"Topic6\", \"Topic6\", \"Topic6\", \"Topic6\", \"Topic6\", \"Topic6\", \"Topic6\", \"Topic6\", \"Topic6\", \"Topic6\", \"Topic6\", \"Topic6\", \"Topic6\", \"Topic6\", \"Topic6\", \"Topic6\", \"Topic6\", \"Topic6\", \"Topic6\", \"Topic6\", \"Topic6\", \"Topic6\", \"Topic6\", \"Topic6\", \"Topic6\", \"Topic6\", \"Topic6\", \"Topic6\", \"Topic6\", \"Topic6\", \"Topic6\", \"Topic7\", \"Topic7\", \"Topic7\", \"Topic7\", \"Topic7\", \"Topic7\", \"Topic7\", \"Topic7\", \"Topic7\", \"Topic7\", \"Topic7\", \"Topic7\", \"Topic7\", \"Topic7\", \"Topic7\", \"Topic7\", \"Topic7\", \"Topic7\", \"Topic7\", \"Topic7\", \"Topic7\", \"Topic7\", \"Topic7\", \"Topic7\", \"Topic7\", \"Topic7\", \"Topic7\", \"Topic7\", \"Topic7\", \"Topic7\", \"Topic7\", \"Topic7\", \"Topic7\", \"Topic7\", \"Topic7\", \"Topic7\", \"Topic7\", \"Topic7\", \"Topic7\", \"Topic7\", \"Topic7\", \"Topic7\", \"Topic7\", \"Topic7\", \"Topic7\", \"Topic7\", \"Topic7\", \"Topic7\", \"Topic7\", \"Topic7\", \"Topic7\", \"Topic7\", \"Topic7\", \"Topic8\", \"Topic8\", \"Topic8\", \"Topic8\", \"Topic8\", \"Topic8\", \"Topic8\", \"Topic8\", \"Topic8\", \"Topic8\", \"Topic8\", \"Topic8\", \"Topic8\", \"Topic8\", \"Topic8\", \"Topic8\", \"Topic8\", \"Topic8\", \"Topic8\", \"Topic8\", \"Topic8\", \"Topic8\", \"Topic8\", \"Topic8\", \"Topic8\", \"Topic8\", \"Topic8\", \"Topic8\", \"Topic8\", \"Topic8\", \"Topic8\", \"Topic8\", \"Topic8\", \"Topic8\", \"Topic8\", \"Topic8\", \"Topic8\", \"Topic8\", \"Topic8\", \"Topic8\", \"Topic8\", \"Topic8\", \"Topic8\", \"Topic8\", \"Topic8\", \"Topic8\", \"Topic8\", \"Topic8\", \"Topic8\", \"Topic8\", \"Topic8\", \"Topic8\", \"Topic8\", \"Topic8\", \"Topic8\", \"Topic8\", \"Topic8\", \"Topic8\", \"Topic8\", \"Topic8\", \"Topic8\", \"Topic9\", \"Topic9\", \"Topic9\", \"Topic9\", \"Topic9\", \"Topic9\", \"Topic9\", \"Topic9\", \"Topic9\", \"Topic9\", \"Topic9\", \"Topic9\", \"Topic9\", \"Topic9\", \"Topic9\", \"Topic9\", \"Topic9\", \"Topic9\", \"Topic9\", \"Topic9\", \"Topic9\", \"Topic9\", \"Topic9\", \"Topic9\", \"Topic9\", \"Topic9\", \"Topic9\", \"Topic9\", \"Topic9\", \"Topic9\", \"Topic9\", \"Topic9\", \"Topic9\", \"Topic9\", \"Topic9\", \"Topic9\", \"Topic9\", \"Topic9\", \"Topic9\", \"Topic9\", \"Topic9\", \"Topic9\", \"Topic9\", \"Topic9\", \"Topic9\", \"Topic9\", \"Topic9\", \"Topic10\", \"Topic10\", \"Topic10\", \"Topic10\", \"Topic10\", \"Topic10\", \"Topic10\", \"Topic10\", \"Topic10\", \"Topic10\", \"Topic10\", \"Topic10\", \"Topic10\", \"Topic10\", \"Topic10\", \"Topic10\", \"Topic10\", \"Topic10\", \"Topic10\", \"Topic10\", \"Topic10\", \"Topic10\", \"Topic10\", \"Topic10\", \"Topic10\", \"Topic10\", \"Topic10\", \"Topic10\", \"Topic10\", \"Topic10\", \"Topic10\", \"Topic10\", \"Topic10\", \"Topic10\", \"Topic10\", \"Topic10\", \"Topic10\", \"Topic10\", \"Topic10\", \"Topic10\", \"Topic10\", \"Topic10\", \"Topic10\", \"Topic10\", \"Topic10\", \"Topic10\", \"Topic10\", \"Topic10\", \"Topic10\"], \"Freq\": [135997.0, 44073.0, 97269.0, 47305.0, 75410.0, 66749.0, 34682.0, 48121.0, 23095.0, 70212.0, 19278.0, 16831.0, 24616.0, 11490.0, 13595.0, 13443.0, 14747.0, 15368.0, 8482.0, 13293.0, 14826.0, 11125.0, 26442.0, 13999.0, 13359.0, 9922.0, 9703.0, 17386.0, 6794.0, 9248.0, 11488.927734375, 8481.31640625, 6793.2021484375, 5356.64599609375, 4404.4892578125, 2759.075439453125, 1976.8525390625, 1852.2198486328125, 1738.872802734375, 1701.217041015625, 1426.321044921875, 1255.2271728515625, 1244.240966796875, 1210.03662109375, 1206.6805419921875, 1157.54833984375, 1139.3453369140625, 1113.14111328125, 997.4326171875, 941.5025024414062, 713.3531494140625, 643.0548095703125, 636.4642944335938, 587.8983154296875, 571.9124145507812, 522.9201049804688, 506.867431640625, 475.0093994140625, 468.0040283203125, 466.7933044433594, 2397.634033203125, 1133.9141845703125, 2672.698486328125, 2078.2177734375, 653.9061279296875, 1619.767822265625, 1073.0390625, 815.1268310546875, 44072.6796875, 5150.505859375, 3223.919189453125, 2826.32373046875, 2378.492919921875, 1996.4339599609375, 1983.3372802734375, 1740.8028564453125, 1588.3533935546875, 1574.949951171875, 1569.82080078125, 1321.3519287109375, 1314.42041015625, 1189.0242919921875, 1104.835205078125, 946.9336547851562, 927.6203002929688, 813.2534790039062, 773.2915649414062, 732.1336669921875, 713.6993408203125, 708.1947631835938, 658.323486328125, 657.590087890625, 558.045654296875, 545.6659545898438, 468.43023681640625, 431.55133056640625, 423.2215576171875, 416.9766540527344, 3081.49169921875, 1007.0637817382812, 1655.53173828125, 863.5692138671875, 7242.056640625, 895.494140625, 1834.2305908203125, 1507.9913330078125, 3574.813720703125, 1797.619873046875, 1301.9935302734375, 889.6209716796875, 14745.880859375, 13292.439453125, 7101.77001953125, 4077.2158203125, 4022.75439453125, 3651.06005859375, 3335.595703125, 3292.614990234375, 2576.63525390625, 2485.110107421875, 1991.886962890625, 1828.9886474609375, 1566.91259765625, 1526.7552490234375, 1304.6954345703125, 1284.53955078125, 1145.69873046875, 1105.1298828125, 1100.31201171875, 1088.39599609375, 1070.748779296875, 1058.5814208984375, 1033.3294677734375, 1023.3390502929688, 1021.8436279296875, 1003.3750610351562, 928.8810424804688, 876.7734375, 864.4492797851562, 856.911865234375, 7581.74365234375, 3109.12109375, 5374.01123046875, 5432.05615234375, 3880.86572265625, 7090.86669921875, 2534.98828125, 1434.0601806640625, 1991.8875732421875, 1717.3094482421875, 1884.0806884765625, 1896.886962890625, 1855.097900390625, 11363.79296875, 12542.5361328125, 6690.4248046875, 1747.4356689453125, 3357.136962890625, 3858.7705078125, 2939.876953125, 2618.53271484375, 2017.924072265625, 2407.969970703125, 2106.11572265625, 2259.948486328125, 16830.55859375, 13594.349609375, 13442.642578125, 7427.2109375, 4061.683349609375, 2718.48046875, 2637.656005859375, 2409.13671875, 2398.94482421875, 2337.11083984375, 1522.4803466796875, 1511.584716796875, 1280.751220703125, 1070.114013671875, 953.8485107421875, 929.3861083984375, 902.6093139648438, 870.8184814453125, 861.8443603515625, 857.1596069335938, 787.9652099609375, 624.0452270507812, 601.736572265625, 571.8336181640625, 551.6171264648438, 549.3284301757812, 488.8636169433594, 478.49578857421875, 438.43902587890625, 431.2787170410156, 1387.765869140625, 3114.0029296875, 3131.593017578125, 2223.192626953125, 4017.841552734375, 1778.7913818359375, 5042.3349609375, 7014.79931640625, 15977.177734375, 1684.094482421875, 2551.046142578125, 4893.0625, 2176.23681640625, 1197.6826171875, 1110.9407958984375, 1164.6353759765625, 1565.3046875, 23094.80078125, 3022.88720703125, 2887.215087890625, 2572.11572265625, 2382.194580078125, 2149.96240234375, 2048.413818359375, 1759.676513671875, 1746.681396484375, 1459.1856689453125, 1214.18017578125, 1201.319091796875, 1190.632568359375, 1182.6627197265625, 1142.486572265625, 1137.3892822265625, 1115.931884765625, 1085.7611083984375, 917.473388671875, 908.2152099609375, 892.8343505859375, 888.9658813476562, 823.5098266601562, 817.7758178710938, 791.2302856445312, 763.964111328125, 749.0599975585938, 684.6790161132812, 659.6669921875, 655.531494140625, 695.6045532226562, 4216.1240234375, 6047.87060546875, 5486.1328125, 1326.0992431640625, 2265.216552734375, 3475.82421875, 2276.603759765625, 4177.76513671875, 11390.8984375, 1820.697021484375, 1871.88525390625, 9554.8408203125, 1897.30712890625, 2463.7646484375, 2872.92236328125, 2033.9500732421875, 1678.7640380859375, 2558.262451171875, 1993.5081787109375, 1292.5511474609375, 1318.4652099609375, 19277.171875, 9702.0048828125, 1977.35791015625, 1719.7423095703125, 1267.213134765625, 772.6261596679688, 727.1614379882812, 716.461181640625, 707.4907836914062, 671.5715942382812, 612.5179443359375, 478.5350036621094, 468.57562255859375, 421.7337341308594, 411.556640625, 399.9831848144531, 392.2612609863281, 390.3237609863281, 349.3711242675781, 281.93585205078125, 280.02935791015625, 275.8361511230469, 271.65704345703125, 270.5930480957031, 247.474365234375, 220.7658233642578, 218.39723205566406, 216.24832153320312, 216.16567993164062, 206.32850646972656, 97840.890625, 46197.53515625, 926.4644775390625, 2984.529052734375, 6422.49072265625, 1207.1878662109375, 1169.542236328125, 17762.80078125, 1857.4825439453125, 2035.4974365234375, 2121.622314453125, 927.7053833007812, 751.2678833007812, 750.1929321289062, 844.84716796875, 529.7711791992188, 528.2097778320312, 7155.646484375, 6977.6767578125, 6529.38671875, 5319.14892578125, 3385.303955078125, 3083.7841796875, 2386.588623046875, 2354.393798828125, 2065.23779296875, 2054.130859375, 2001.774658203125, 1883.377685546875, 1761.1209716796875, 1567.7945556640625, 1468.6292724609375, 1161.9803466796875, 1121.7581787109375, 1116.775390625, 1009.9647827148438, 958.4503173828125, 943.8438110351562, 884.735107421875, 872.7092895507812, 805.566650390625, 788.5470581054688, 717.96337890625, 711.680908203125, 671.0833129882812, 649.537109375, 623.927734375, 12417.501953125, 11236.6162109375, 10138.7763671875, 1678.683349609375, 11298.5849609375, 34602.9765625, 1584.3701171875, 2902.640869140625, 2270.206298828125, 1439.3128662109375, 4670.611328125, 1407.778076171875, 1509.3505859375, 2743.333984375, 2347.456787109375, 3180.00537109375, 5061.8857421875, 11912.7861328125, 3834.764404296875, 4551.57666015625, 2421.934326171875, 2017.4661865234375, 1912.270263671875, 47304.07421875, 34681.75, 2194.637939453125, 863.3414916992188, 585.33740234375, 528.95263671875, 359.56927490234375, 334.232421875, 308.1982116699219, 213.34104919433594, 213.11349487304688, 209.7593536376953, 175.16456604003906, 171.96212768554688, 158.63552856445312, 146.13404846191406, 142.46543884277344, 142.12149047851562, 137.6331787109375, 133.97756958007812, 131.56231689453125, 114.99935913085938, 107.71310424804688, 103.84117889404297, 97.79747009277344, 89.17420959472656, 82.2588882446289, 80.3790512084961, 76.13597869873047, 76.08538055419922, 2107.2763671875, 4856.240234375, 49305.14453125, 69950.5625, 6135.45068359375, 33181.49609375, 483.7464599609375, 2011.421142578125, 9629.2763671875, 3820.02392578125, 4052.83984375, 400.25079345703125, 6239.7177734375, 608.0353393554688, 14923.2255859375, 1507.6993408203125, 477.5122985839844, 4005.124755859375, 2006.5421142578125, 3461.484619140625, 732.9154663085938, 4243.55810546875, 1744.50048828125, 1659.05322265625, 1697.1378173828125, 5411.599609375, 1492.1160888671875, 1408.46533203125, 1038.3675537109375, 995.0592041015625, 821.6480712890625, 9921.62890625, 9247.1748046875, 7792.75732421875, 4801.97802734375, 3875.43994140625, 3718.544189453125, 3530.12158203125, 2836.360595703125, 2704.888671875, 2621.7685546875, 2565.697021484375, 2121.233154296875, 2021.25, 1578.5147705078125, 1479.277587890625, 1471.559814453125, 1428.4749755859375, 1382.5748291015625, 1369.6236572265625, 1260.501953125, 1213.123291015625, 1155.2603759765625, 1047.37548828125, 995.0067138671875, 894.5195922851562, 873.7757568359375, 848.7029418945312, 822.8798217773438, 817.2438354492188, 703.1163940429688, 12570.845703125, 17600.4609375, 2006.42529296875, 4112.28271484375, 8956.3134765625, 9414.6962890625, 1757.7386474609375, 3489.60498046875, 3218.385498046875, 22177.947265625, 2033.1671142578125, 2706.895751953125, 8764.9775390625, 8492.46875, 2660.20166015625, 3529.1416015625, 4901.34521484375, 7377.3828125, 3933.0078125, 2484.89794921875, 2292.021728515625, 1973.13818359375, 1825.362060546875, 1749.8131103515625, 1649.623046875, 1520.962646484375, 1475.60302734375, 1462.2930908203125, 1418.2880859375, 1301.7711181640625, 1219.66455078125, 1187.58154296875, 1166.890380859375, 1158.6072998046875, 1146.3883056640625, 1139.2667236328125, 1057.401123046875, 1022.1299438476562, 977.7118530273438, 967.0994873046875, 957.7014770507812, 879.9505004882812, 866.0595092773438, 827.609619140625, 772.989013671875, 739.4352416992188, 699.2570190429688, 9822.7109375, 7856.4345703125, 3237.303466796875, 3250.83447265625, 1219.3570556640625, 2194.09814453125, 1518.942626953125, 1606.7442626953125, 1986.931396484375, 1646.4735107421875, 2234.36474609375, 5148.14990234375, 2796.49853515625, 1498.023681640625, 1254.029052734375, 1397.3382568359375, 1289.743896484375, 1261.936767578125, 1259.5865478515625], \"Term\": [\"location\", \"breakfast\", \"staff\", \"friendly\", \"great\", \"clean\", \"helpful\", \"comfortable\", \"everything\", \"hotel\", \"excellent\", \"square\", \"close\", \"value\", \"times\", \"central\", \"check\", \"restaurant\", \"like\", \"bathroom\", \"would\", \"coffee\", \"rooms\", \"subway\", \"amaze\", \"convenient\", \"service\", \"place\", \"money\", \"walking\", \"value\", \"like\", \"money\", \"cleanliness\", \"rooftop\", \"fridge\", \"microwave\", \"stuff\", \"size\", \"kitchenette\", \"beach\", \"motel\", \"maker\", \"services\", \"balcony\", \"bagel\", \"refrigerator\", \"waffle\", \"conveniently\", \"try\", \"juice\", \"fluffy\", \"muffin\", \"outdoor\", \"laundry\", \"satisfy\", \"prompt\", \"cloud\", \"sweet\", \"number\", \"amenities\", \"terrace\", \"facility\", \"people\", \"dining\", \"price\", \"love\", \"locate\", \"breakfast\", \"include\", \"proximity\", \"choice\", \"fresh\", \"delicious\", \"continental\", \"buffet\", \"security\", \"adequate\", \"selection\", \"handy\", \"except\", \"linen\", \"swimming\", \"terrific\", \"child\", \"hudson\", \"bright\", \"adult\", \"cereal\", \"item\", \"tasty\", \"directly\", \"lift\", \"beside\", \"earlier\", \"destination\", \"promptly\", \"sausage\", \"decent\", \"fruit\", \"option\", \"serve\", \"great\", \"dinner\", \"enjoy\", \"morning\", \"comfortable\", \"price\", \"coffee\", \"complimentary\", \"check\", \"bathroom\", \"shower\", \"space\", \"upgrade\", \"suite\", \"early\", \"sleep\", \"elevator\", \"problem\", \"bedroom\", \"change\", \"share\", \"double\", \"ready\", \"allow\", \"light\", \"pressure\", \"queen\", \"mattress\", \"flight\", \"sheet\", \"question\", \"daughter\", \"bring\", \"windows\", \"actually\", \"dirty\", \"storage\", \"quickly\", \"night\", \"extra\", \"floor\", \"large\", \"pillow\", \"small\", \"towel\", \"without\", \"quick\", \"charge\", \"request\", \"arrive\", \"though\", \"comfortable\", \"clean\", \"rooms\", \"noise\", \"could\", \"comfy\", \"spacious\", \"quiet\", \"enough\", \"would\", \"little\", \"really\", \"square\", \"times\", \"central\", \"station\", \"building\", \"state\", \"center\", \"broadway\", \"empire\", \"grand\", \"ideal\", \"convenience\", \"theater\", \"madison\", \"theatre\", \"entrance\", \"centre\", \"rockefeller\", \"bigger\", \"equip\", \"steps\", \"history\", \"purpose\", \"receptionist\", \"fitness\", \"situate\", \"surprisingly\", \"carpet\", \"stops\", \"fancy\", \"garden\", \"block\", \"street\", \"minutes\", \"right\", \"across\", \"subway\", \"close\", \"location\", \"kitchen\", \"quiet\", \"hotel\", \"perfect\", \"corner\", \"minute\", \"short\", \"great\", \"everything\", \"want\", \"thing\", \"train\", \"falls\", \"thank\", \"manager\", \"cheap\", \"anything\", \"chelsea\", \"almost\", \"special\", \"line\", \"beyond\", \"museum\", \"thanks\", \"expectation\", \"member\", \"niagara\", \"hostel\", \"toilet\", \"review\", \"brooklyn\", \"smile\", \"willing\", \"birthday\", \"world\", \"greet\", \"entire\", \"bridge\", \"watson\", \"every\", \"need\", \"could\", \"help\", \"visit\", \"always\", \"better\", \"front\", \"hotel\", \"first\", \"expect\", \"staff\", \"especially\", \"stay\", \"perfect\", \"wonderful\", \"happy\", \"place\", \"really\", \"everyone\", \"people\", \"excellent\", \"service\", \"concierge\", \"customer\", \"attentive\", \"circle\", \"employee\", \"outstanding\", \"bedding\", \"friendliness\", \"personnel\", \"event\", \"bellman\", \"functional\", \"information\", \"mostly\", \"responsive\", \"assist\", \"horrible\", \"skyline\", \"maintenance\", \"blanket\", \"historic\", \"attitude\", \"university\", \"closeness\", \"comment\", \"helpfulness\", \"baggage\", \"necessary\", \"location\", \"great\", \"superb\", \"fantastic\", \"perfect\", \"housekeeping\", \"cleaning\", \"staff\", \"awesome\", \"facility\", \"amaze\", \"reception\", \"view\", \"wonderful\", \"front\", \"especially\", \"lovely\", \"definitely\", \"beautiful\", \"recommend\", \"overall\", \"comfort\", \"decor\", \"atmosphere\", \"midtown\", \"style\", \"design\", \"fabulous\", \"basic\", \"highly\", \"affordable\", \"smell\", \"lower\", \"charm\", \"doorman\", \"upper\", \"confortable\", \"others\", \"general\", \"older\", \"anyone\", \"reach\", \"interior\", \"boutique\", \"gorgeous\", \"party\", \"character\", \"would\", \"amaze\", \"love\", \"looking\", \"place\", \"hotel\", \"friend\", \"experience\", \"view\", \"relax\", \"stay\", \"worth\", \"absolutely\", \"modern\", \"family\", \"lovely\", \"really\", \"great\", \"price\", \"rooms\", \"enjoy\", \"property\", \"small\", \"friendly\", \"helpful\", \"courteous\", \"sights\", \"helpfull\", \"exceptionally\", \"attendant\", \"eatery\", \"response\", \"eager\", \"spotlessly\", \"approachable\", \"properly\", \"disturb\", \"lication\", \"female\", \"beat\", \"confort\", \"convient\", \"cross\", \"caring\", \"homey\", \"supportive\", \"opinion\", \"function\", \"stuffy\", \"rate\", \"thanksgiving\", \"spacey\", \"count\", \"polite\", \"extremely\", \"clean\", \"staff\", \"super\", \"comfortable\", \"knowledgeable\", \"professional\", \"comfy\", \"pleasant\", \"accommodate\", \"roomy\", \"spacious\", \"incredibly\", \"rooms\", \"efficient\", \"environment\", \"quiet\", \"welcome\", \"front\", \"nicely\", \"really\", \"modern\", \"always\", \"lovely\", \"hotel\", \"large\", \"facility\", \"quite\", \"wonderful\", \"pillow\", \"convenient\", \"walking\", \"distance\", \"access\", \"within\", \"attraction\", \"airport\", \"nearby\", \"metro\", \"shopping\", \"store\", \"reasonable\", \"shop\", \"position\", \"tourist\", \"neighborhood\", \"downtown\", \"market\", \"update\", \"stations\", \"avenue\", \"public\", \"accessible\", \"village\", \"renovate\", \"transport\", \"highway\", \"columbus\", \"reasonably\", \"activity\", \"restaurant\", \"close\", \"shuttle\", \"manhattan\", \"subway\", \"price\", \"luggage\", \"parking\", \"around\", \"location\", \"pretty\", \"locate\", \"hotel\", \"great\", \"right\", \"place\", \"clean\", \"nothing\", \"available\", \"drink\", \"standard\", \"lounge\", \"machine\", \"expensive\", \"however\", \"noisy\", \"hours\", \"cookie\", \"evening\", \"major\", \"snack\", \"date\", \"touch\", \"valet\", \"bottle\", \"downstairs\", \"larger\", \"centrally\", \"crowd\", \"everyday\", \"starbucks\", \"sightseeing\", \"seeing\", \"discount\", \"conditioning\", \"add\", \"terrible\", \"coffee\", \"lobby\", \"reception\", \"water\", \"daily\", \"quite\", \"bonus\", \"complimentary\", \"morning\", \"provide\", \"little\", \"hotel\", \"restaurant\", \"offer\", \"although\", \"small\", \"really\", \"parking\", \"lovely\"], \"Total\": [135997.0, 44073.0, 97269.0, 47305.0, 75410.0, 66749.0, 34682.0, 48121.0, 23095.0, 70212.0, 19278.0, 16831.0, 24616.0, 11490.0, 13595.0, 13443.0, 14747.0, 15368.0, 8482.0, 13293.0, 14826.0, 11125.0, 26442.0, 13999.0, 13359.0, 9922.0, 9703.0, 17386.0, 6794.0, 9248.0, 11490.123046875, 8482.51171875, 6794.39697265625, 5357.8408203125, 4405.68408203125, 2760.27001953125, 1978.047119140625, 1853.4144287109375, 1740.0673828125, 1702.41162109375, 1427.515625, 1256.4217529296875, 1245.435546875, 1211.231201171875, 1207.8751220703125, 1158.7430419921875, 1140.5399169921875, 1114.3358154296875, 998.627197265625, 942.6971435546875, 714.5477294921875, 644.2493896484375, 637.6588745117188, 589.0928955078125, 573.1069946289062, 524.11474609375, 508.0621337890625, 476.2039794921875, 469.1986389160156, 467.98797607421875, 2685.666015625, 1395.4599609375, 6117.634765625, 5114.96533203125, 980.3135986328125, 16667.6015625, 12544.6552734375, 5627.658203125, 44073.859375, 5151.68115234375, 3225.093994140625, 2827.498779296875, 2379.66796875, 1997.6090087890625, 1984.51220703125, 1741.977783203125, 1589.5284423828125, 1576.125, 1570.995849609375, 1322.5269775390625, 1315.595458984375, 1190.1993408203125, 1106.0103759765625, 948.1087036132812, 928.79541015625, 814.428466796875, 774.4666748046875, 733.308837890625, 714.8743896484375, 709.3698120117188, 659.4984741210938, 658.7653198242188, 559.2207641601562, 546.8411254882812, 469.6053466796875, 432.72650146484375, 424.3966979980469, 418.1516418457031, 3722.49609375, 1344.183837890625, 2756.77392578125, 1188.8155517578125, 75410.84375, 1406.1754150390625, 6090.66650390625, 4244.126953125, 48121.02734375, 16667.6015625, 11125.7294921875, 2497.389892578125, 14747.0908203125, 13293.6494140625, 7102.97900390625, 4078.424560546875, 4023.963134765625, 3652.268798828125, 3336.804443359375, 3293.82373046875, 2577.843994140625, 2486.31884765625, 1993.095947265625, 1830.1976318359375, 1568.12158203125, 1527.9642333984375, 1305.9044189453125, 1285.74853515625, 1146.90771484375, 1106.3388671875, 1101.52099609375, 1089.60498046875, 1071.957763671875, 1059.7904052734375, 1034.5384521484375, 1024.5482177734375, 1023.0526123046875, 1004.5839233398438, 930.0899658203125, 877.9822998046875, 865.6581420898438, 858.1207275390625, 8838.9013671875, 3558.558837890625, 6745.650390625, 6925.25634765625, 5009.8408203125, 10920.447265625, 3108.3056640625, 1560.5098876953125, 2380.81298828125, 2018.71923828125, 2337.0244140625, 2361.7744140625, 2507.48876953125, 48121.02734375, 66749.9921875, 26442.626953125, 2309.792724609375, 8844.3359375, 13489.130859375, 9578.36328125, 10134.12109375, 4040.34619140625, 14826.5205078125, 6620.32177734375, 16032.533203125, 16831.791015625, 13595.58203125, 13443.875, 7428.4423828125, 4062.9150390625, 2719.712158203125, 2638.8876953125, 2410.368408203125, 2400.176513671875, 2338.342529296875, 1523.712158203125, 1512.8165283203125, 1281.9830322265625, 1071.345703125, 955.0802001953125, 930.617919921875, 903.8410034179688, 872.0501708984375, 863.076171875, 858.391357421875, 789.1969604492188, 625.2769775390625, 602.9684448242188, 573.0654296875, 552.8488159179688, 550.5601196289062, 490.0954284667969, 479.7276306152344, 439.67083740234375, 432.51055908203125, 1603.158935546875, 4165.1201171875, 4755.33642578125, 3160.453369140625, 7624.31884765625, 2592.111328125, 13999.763671875, 24616.375, 135997.046875, 3204.48876953125, 10134.12109375, 70212.203125, 14019.2431640625, 2388.653564453125, 1951.57568359375, 2435.093994140625, 75410.84375, 23095.998046875, 3024.08447265625, 2888.412353515625, 2573.31298828125, 2383.391845703125, 2151.15966796875, 2049.611083984375, 1760.8740234375, 1747.8787841796875, 1460.3831787109375, 1215.3775634765625, 1202.5164794921875, 1191.8299560546875, 1183.860107421875, 1143.6839599609375, 1138.586669921875, 1117.1292724609375, 1086.9583740234375, 918.6707153320312, 909.41259765625, 894.03173828125, 890.163330078125, 824.7071533203125, 818.97314453125, 792.4276123046875, 765.1614379882812, 750.25732421875, 685.8763427734375, 660.8643188476562, 656.7288208007812, 696.9180908203125, 5278.9794921875, 7922.92529296875, 8844.3359375, 1597.9835205078125, 3421.00048828125, 6348.423828125, 3659.828125, 9833.7412109375, 70212.203125, 3311.619873046875, 3588.204345703125, 97269.1796875, 4090.558349609375, 9010.1533203125, 14019.2431640625, 5607.5244140625, 3718.7548828125, 17386.91015625, 16032.533203125, 2298.117431640625, 5114.96533203125, 19278.416015625, 9703.248046875, 1978.6016845703125, 1720.986083984375, 1268.4569091796875, 773.87060546875, 728.4052124023438, 717.704833984375, 708.7345581054688, 672.8152465820312, 613.7617797851562, 479.77880859375, 469.81951904296875, 422.9775695800781, 412.80059814453125, 401.22711181640625, 393.5050048828125, 391.56756591796875, 350.6150817871094, 283.1796875, 281.2732849121094, 277.080078125, 272.90087890625, 271.8368225097656, 248.71815490722656, 222.00958251953125, 219.6411590576172, 217.49203491210938, 217.40968322753906, 207.57249450683594, 135997.046875, 75410.84375, 1097.0240478515625, 5240.056640625, 14019.2431640625, 1928.5828857421875, 1853.3743896484375, 97269.1796875, 5002.4189453125, 6117.634765625, 13359.322265625, 4166.10205078125, 3022.5576171875, 5607.5244140625, 9833.7412109375, 4090.558349609375, 6665.74755859375, 7156.826171875, 6978.8564453125, 6530.56640625, 5320.32861328125, 3386.483642578125, 3084.9638671875, 2387.768310546875, 2355.573486328125, 2066.41748046875, 2055.310546875, 2002.9544677734375, 1884.5574951171875, 1762.30078125, 1568.974365234375, 1469.80908203125, 1163.16015625, 1122.93798828125, 1117.9552001953125, 1011.1444702148438, 959.6300048828125, 945.0234985351562, 885.914794921875, 873.8890380859375, 806.746337890625, 789.726806640625, 719.1430053710938, 712.8605346679688, 672.262939453125, 650.716796875, 625.1073608398438, 14826.5205078125, 13359.322265625, 12544.6552734375, 1888.668701171875, 17386.91015625, 70212.203125, 1888.6065673828125, 4128.36181640625, 3022.5576171875, 1696.81640625, 9010.1533203125, 1666.0286865234375, 1856.6632080078125, 4778.251953125, 3944.801513671875, 6665.74755859375, 16032.533203125, 75410.84375, 16667.6015625, 26442.626953125, 6090.66650390625, 4216.17138671875, 10920.447265625, 47305.29296875, 34682.96875, 2195.85302734375, 864.556884765625, 586.552490234375, 530.167724609375, 360.78448486328125, 335.4478759765625, 309.4136047363281, 214.55638122558594, 214.3285675048828, 210.9745330810547, 176.37986755371094, 173.17759704589844, 159.85060119628906, 147.34947204589844, 143.6809539794922, 143.33657836914062, 138.84841918945312, 135.193115234375, 132.7773895263672, 116.21458435058594, 108.92829132080078, 105.0565414428711, 99.0127944946289, 90.38987731933594, 83.47463989257812, 81.5947036743164, 77.35220336914062, 77.30167388916016, 2329.562255859375, 5531.03759765625, 66749.9921875, 97269.1796875, 7832.8857421875, 48121.02734375, 539.6832885742188, 2477.410888671875, 13489.130859375, 4992.970703125, 5886.3935546875, 451.6479797363281, 9578.36328125, 725.0220947265625, 26442.626953125, 2036.0406494140625, 636.7152099609375, 10134.12109375, 4328.34716796875, 9833.7412109375, 1185.642578125, 16032.533203125, 4778.251953125, 6348.423828125, 6665.74755859375, 70212.203125, 6925.25634765625, 6117.634765625, 3865.794921875, 5607.5244140625, 5009.8408203125, 9922.8525390625, 9248.3984375, 7793.98095703125, 4803.20166015625, 3876.663330078125, 3719.767578125, 3531.344970703125, 2837.583984375, 2706.112060546875, 2622.991943359375, 2566.920654296875, 2122.456787109375, 2022.4735107421875, 1579.73828125, 1480.5010986328125, 1472.7833251953125, 1429.698486328125, 1383.7984619140625, 1370.8472900390625, 1261.7254638671875, 1214.3468017578125, 1156.48388671875, 1048.5989990234375, 996.2301635742188, 895.7431030273438, 874.999267578125, 849.9263916015625, 824.1036376953125, 818.4673461914062, 704.3399047851562, 15368.41796875, 24616.375, 2211.3310546875, 5069.14794921875, 13999.763671875, 16667.6015625, 2085.574462890625, 5493.2939453125, 5679.74365234375, 135997.046875, 3137.16796875, 5627.658203125, 70212.203125, 75410.84375, 7624.31884765625, 17386.91015625, 66749.9921875, 7378.572265625, 3934.197265625, 2486.08740234375, 2293.211181640625, 1974.32763671875, 1826.551513671875, 1751.002685546875, 1650.8126220703125, 1522.1522216796875, 1476.7926025390625, 1463.4825439453125, 1419.4775390625, 1302.960693359375, 1220.85400390625, 1188.7711181640625, 1168.079833984375, 1159.796875, 1147.5777587890625, 1140.456298828125, 1058.5906982421875, 1023.3194580078125, 978.9014282226562, 968.2890625, 958.8910522460938, 881.1400756835938, 867.2490844726562, 828.7991943359375, 774.1785278320312, 740.624755859375, 700.446533203125, 11125.7294921875, 8891.1591796875, 4166.10205078125, 4827.51171875, 1495.0816650390625, 3865.794921875, 2225.32275390625, 2497.389892578125, 4244.126953125, 3044.01904296875, 6620.32177734375, 70212.203125, 15368.41796875, 2944.585205078125, 2416.106201171875, 10920.447265625, 16032.533203125, 5493.2939453125, 6665.74755859375], \"loglift\": [30.0, 29.0, 28.0, 27.0, 26.0, 25.0, 24.0, 23.0, 22.0, 21.0, 20.0, 19.0, 18.0, 17.0, 16.0, 15.0, 14.0, 13.0, 12.0, 11.0, 10.0, 9.0, 8.0, 7.0, 6.0, 5.0, 4.0, 3.0, 2.0, 1.0, 3.101300001144409, 3.1012001037597656, 3.1012001037597656, 3.1012001037597656, 3.101099967956543, 3.1010000705718994, 3.100800037384033, 3.1006999015808105, 3.1006999015808105, 3.1006999015808105, 3.100600004196167, 3.100399971008301, 3.100399971008301, 3.100399971008301, 3.100399971008301, 3.100399971008301, 3.1003000736236572, 3.1003000736236572, 3.1001999378204346, 3.100100040435791, 3.0996999740600586, 3.0994999408721924, 3.0994999408721924, 3.099400043487549, 3.099299907684326, 3.099100112915039, 3.0989999771118164, 3.098900079727173, 3.09879994392395, 3.09879994392395, 2.9879000186920166, 2.8938000202178955, 2.2732999324798584, 2.200700044631958, 2.696500062942505, 0.7702000141143799, 0.6425999999046326, 1.1692999601364136, 2.7892000675201416, 2.7890000343322754, 2.7888998985290527, 2.788800001144409, 2.7887001037597656, 2.788599967956543, 2.788599967956543, 2.7885000705718994, 2.7885000705718994, 2.7885000705718994, 2.7885000705718994, 2.788300037384033, 2.788300037384033, 2.7881999015808105, 2.7881999015808105, 2.7880001068115234, 2.7880001068115234, 2.7878000736236572, 2.7876999378204346, 2.787600040435791, 2.787600040435791, 2.787600040435791, 2.787400007247925, 2.787400007247925, 2.787100076675415, 2.787100076675415, 2.7867000102996826, 2.7864999771118164, 2.7864999771118164, 2.786400079727173, 2.6001999378204346, 2.500499963760376, 2.2792999744415283, 2.469599962234497, 0.44620001316070557, 2.3380000591278076, 1.5891000032424927, 1.7545000314712524, 0.18940000236034393, 0.5622000098228455, 0.6438999772071838, 1.7569999694824219, 1.9312000274658203, 1.9312000274658203, 1.9311000108718872, 1.930999994277954, 1.930899977684021, 1.930899977684021, 1.930899977684021, 1.930899977684021, 1.930799961090088, 1.930799961090088, 1.9306000471115112, 1.9306000471115112, 1.9305000305175781, 1.9305000305175781, 1.930299997329712, 1.930299997329712, 1.9301999807357788, 1.9301999807357788, 1.9301999807357788, 1.9300999641418457, 1.9300999641418457, 1.9300999641418457, 1.9300999641418457, 1.9300999641418457, 1.9300999641418457, 1.9299999475479126, 1.929900050163269, 1.929900050163269, 1.929900050163269, 1.929800033569336, 1.7777999639511108, 1.7962000370025635, 1.7038999795913696, 1.6884000301361084, 1.6758999824523926, 1.499400019645691, 1.7273999452590942, 1.8466999530792236, 1.7529000043869019, 1.7695000171661377, 1.7158000469207764, 1.7120000123977661, 1.6298999786376953, 0.4880000054836273, 0.25940001010894775, 0.5569000244140625, 1.6521999835968018, 0.9625999927520752, 0.6797000169754028, 0.7501000165939331, 0.578000009059906, 1.2369999885559082, 0.1136000007390976, 0.7860000133514404, -0.02800000086426735, 2.5448999404907227, 2.5448999404907227, 2.5448999404907227, 2.544800043106079, 2.5446999073028564, 2.5445001125335693, 2.5445001125335693, 2.5443999767303467, 2.5443999767303467, 2.5443999767303467, 2.5441999435424805, 2.544100046157837, 2.5439999103546143, 2.543800115585327, 2.5436999797821045, 2.543600082397461, 2.543600082397461, 2.5434999465942383, 2.5434999465942383, 2.5434999465942383, 2.5434000492095947, 2.5429999828338623, 2.5429000854492188, 2.542799949645996, 2.5427000522613525, 2.5427000522613525, 2.5423998832702637, 2.5423998832702637, 2.5422000885009766, 2.542099952697754, 2.400700092315674, 2.2541000843048096, 2.12719988822937, 2.19320011138916, 1.9043999910354614, 2.1684000492095947, 1.523800015449524, 1.2896000146865845, 0.4034999907016754, 1.9016000032424927, 1.1655999422073364, -0.11869999766349792, 0.6820999979972839, 1.854599952697754, 1.9815000295639038, 1.8073999881744385, -1.3299000263214111, 2.2639999389648438, 2.2636001110076904, 2.2636001110076904, 2.2636001110076904, 2.2634999752044678, 2.2634999752044678, 2.263400077819824, 2.263400077819824, 2.2632999420166016, 2.263200044631958, 2.263000011444092, 2.263000011444092, 2.263000011444092, 2.263000011444092, 2.263000011444092, 2.263000011444092, 2.263000011444092, 2.2629001140594482, 2.262700080871582, 2.262700080871582, 2.262700080871582, 2.262700080871582, 2.2625999450683594, 2.2625999450683594, 2.262500047683716, 2.262500047683716, 2.262399911880493, 2.2623000144958496, 2.262200117111206, 2.262200117111206, 2.2620999813079834, 2.0392000675201416, 1.99399995803833, 1.7864999771118164, 2.077500104904175, 1.8517999649047852, 1.6617000102996826, 1.7892999649047852, 1.4079999923706055, 0.44530001282691956, 1.6657999753952026, 1.6132999658584595, -0.05640000104904175, 1.4958000183105469, 0.9674000144004822, 0.6789000034332275, 1.249899983406067, 1.4687000513076782, 0.3476000130176544, 0.179299995303154, 1.688599944114685, 0.90829998254776, 2.246500015258789, 2.246500015258789, 2.246000051498413, 2.2458999156951904, 2.2455999851226807, 2.244999885559082, 2.2448999881744385, 2.2448999881744385, 2.244800090789795, 2.2446999549865723, 2.2446000576019287, 2.24399995803833, 2.2439000606536865, 2.2435998916625977, 2.2435998916625977, 2.243499994277954, 2.2434000968933105, 2.2434000968933105, 2.243000030517578, 2.2421998977661133, 2.2421998977661133, 2.2421000003814697, 2.242000102996826, 2.242000102996826, 2.2416000366210938, 2.240999937057495, 2.2409000396728516, 2.2409000396728516, 2.2409000396728516, 2.240600109100342, 1.9172999858856201, 1.756600022315979, 2.0776000022888184, 1.6836999654769897, 1.465999960899353, 1.7781000137329102, 1.7862000465393066, 0.5461999773979187, 1.2559000253677368, 1.1461999416351318, 0.4065999984741211, 0.7445999979972839, 0.8544999957084656, 0.23510000109672546, -0.2078000009059906, 0.20260000228881836, -0.28870001435279846, 2.117500066757202, 2.117500066757202, 2.117500066757202, 2.1173999309539795, 2.117300033569336, 2.117300033569336, 2.1171998977661133, 2.1171998977661133, 2.1171000003814697, 2.1171000003814697, 2.1171000003814697, 2.117000102996826, 2.117000102996826, 2.1168999671936035, 2.1168999671936035, 2.1166999340057373, 2.1166000366210938, 2.1166000366210938, 2.116499900817871, 2.1164000034332275, 2.1164000034332275, 2.116300106048584, 2.116300106048584, 2.1161999702453613, 2.1161999702453613, 2.115999937057495, 2.115999937057495, 2.1159000396728516, 2.1159000396728516, 2.115799903869629, 1.9404000043869019, 1.944599986076355, 1.9047000408172607, 1.9997999668121338, 1.6865999698638916, 1.410099983215332, 1.9420000314712524, 1.7654000520706177, 1.8314000368118286, 1.9530999660491943, 1.4606000185012817, 1.9492000341415405, 1.910599946975708, 1.5628000497817993, 1.5986000299453735, 1.3775999546051025, 0.9648000001907349, 0.27230000495910645, 0.6482999920845032, 0.3582000136375427, 1.1955000162124634, 1.3805999755859375, 0.37529999017715454, 1.9075000286102295, 1.9075000286102295, 1.906999945640564, 1.9062000513076782, 1.905500054359436, 1.9053000211715698, 1.9041999578475952, 1.9039000272750854, 1.9035999774932861, 1.901900053024292, 1.901900053024292, 1.9018000364303589, 1.9006999731063843, 1.9005000591278076, 1.899899959564209, 1.8992999792099, 1.8990999460220337, 1.8990999460220337, 1.898800015449524, 1.8984999656677246, 1.8983999490737915, 1.8970999717712402, 1.896399974822998, 1.895900011062622, 1.8952000141143799, 1.8940000534057617, 1.892899990081787, 1.8926000595092773, 1.891700029373169, 1.891700029373169, 1.8072999715805054, 1.777500033378601, 1.604599952697754, 1.5779000520706177, 1.6633000373840332, 1.5357999801635742, 1.798200011253357, 1.6992000341415405, 1.5705000162124634, 1.639799952507019, 1.5342999696731567, 1.7868000268936157, 1.4789999723434448, 1.731600046157837, 1.3355000019073486, 1.607200026512146, 1.6197999715805054, 0.979200005531311, 1.138800024986267, 0.8634999990463257, 1.4265999794006348, 0.5784000158309937, 0.8999999761581421, 0.5655999779701233, 0.5394999980926514, -0.6553999781608582, 0.3725999891757965, 0.4388999938964844, 0.5931000113487244, 0.1784999966621399, 0.09969999641180038, 2.2046000957489014, 2.2046000957489014, 2.2046000957489014, 2.2044999599456787, 2.204400062561035, 2.204400062561035, 2.204400062561035, 2.2042999267578125, 2.2042999267578125, 2.2042999267578125, 2.204200029373169, 2.2040998935699463, 2.2040998935699463, 2.2039999961853027, 2.203900098800659, 2.203900098800659, 2.203900098800659, 2.2037999629974365, 2.2037999629974365, 2.2037999629974365, 2.203700065612793, 2.203700065612793, 2.2035999298095703, 2.2035000324249268, 2.203399896621704, 2.2032999992370605, 2.2032999992370605, 2.203200101852417, 2.203200101852417, 2.203000068664551, 2.0037999153137207, 1.8691999912261963, 2.1075000762939453, 1.9954999685287476, 1.7580000162124634, 1.6334999799728394, 2.0336999893188477, 1.7510000467300415, 1.6367000341415405, 0.3912000060081482, 1.7710000276565552, 1.4728000164031982, 0.12399999797344208, 0.020999999716877937, 1.1518000364303589, 0.6100999712944031, -0.4066999852657318, 2.508500099182129, 2.5083000659942627, 2.50819993019104, 2.5081000328063965, 2.507999897003174, 2.507999897003174, 2.507999897003174, 2.5078999996185303, 2.5078999996185303, 2.5078001022338867, 2.5078001022338867, 2.5078001022338867, 2.507699966430664, 2.507699966430664, 2.5076000690460205, 2.5076000690460205, 2.5076000690460205, 2.5076000690460205, 2.5076000690460205, 2.507499933242798, 2.507499933242798, 2.5074000358581543, 2.5074000358581543, 2.5074000358581543, 2.5072999000549316, 2.5072999000549316, 2.507200002670288, 2.5071001052856445, 2.506999969482422, 2.5069000720977783, 2.3840999603271484, 2.3849000930786133, 2.2564001083374023, 2.1131999492645264, 2.304800033569336, 1.942199945449829, 2.126699924468994, 2.0676000118255615, 1.7496999502182007, 1.8940999507904053, 1.4223999977111816, -0.10419999808073044, 0.8047000169754028, 1.832800030708313, 1.8528000116348267, 0.45260000228881836, -0.011500000022351742, 1.0377999544143677, 0.8424000144004822], \"logprob\": [30.0, 29.0, 28.0, 27.0, 26.0, 25.0, 24.0, 23.0, 22.0, 21.0, 20.0, 19.0, 18.0, 17.0, 16.0, 15.0, 14.0, 13.0, 12.0, 11.0, 10.0, 9.0, 8.0, 7.0, 6.0, 5.0, 4.0, 3.0, 2.0, 1.0, -2.1979000568389893, -2.5013999938964844, -2.723400115966797, -2.9609999656677246, -3.1566998958587646, -3.6243999004364014, -3.9577999114990234, -4.022900104522705, -4.086100101470947, -4.107900142669678, -4.284200191497803, -4.4120001792907715, -4.42080020904541, -4.448599815368652, -4.451399803161621, -4.493000030517578, -4.508800029754639, -4.532100200653076, -4.641900062561035, -4.6996002197265625, -4.977099895477295, -5.0808000564575195, -5.091100215911865, -5.170499801635742, -5.1981000900268555, -5.287600040435791, -5.31879997253418, -5.383699893951416, -5.398600101470947, -5.401199817657471, -3.7648000717163086, -4.513599872589111, -3.6561999320983887, -3.9077999591827393, -5.0640997886657715, -4.1570000648498535, -4.56879997253418, -4.843699932098389, -1.1655999422073364, -3.3124001026153564, -3.780900001525879, -3.9124999046325684, -4.085000038146973, -4.2600998878479, -4.26669979095459, -4.39709997177124, -4.488800048828125, -4.497200012207031, -4.500500202178955, -4.672800064086914, -4.678100109100342, -4.778299808502197, -4.851799964904785, -5.00600004196167, -5.026599884033203, -5.158199787139893, -5.208600044250488, -5.263199806213379, -5.28879976272583, -5.296500205993652, -5.369500160217285, -5.37060022354126, -5.534800052642822, -5.557199954986572, -5.709799766540527, -5.791800022125244, -5.811299800872803, -5.826200008392334, -3.8259999752044678, -4.944399833679199, -4.447299957275391, -5.098100185394287, -2.97160005569458, -5.061800003051758, -4.344799995422363, -4.5406999588012695, -3.677500009536743, -4.364999771118164, -4.687600135803223, -5.068399906158447, -3.118499994277954, -3.2221999168395996, -3.849100112915039, -4.4039998054504395, -4.417500019073486, -4.514400005340576, -4.604800224304199, -4.617800235748291, -4.8628997802734375, -4.899099826812744, -5.1203999519348145, -5.205699920654297, -5.360300064086914, -5.386300086975098, -5.543499946594238, -5.559000015258789, -5.673399925231934, -5.709499835968018, -5.713799953460693, -5.724699974060059, -5.741099834442139, -5.752500057220459, -5.776599884033203, -5.786399841308594, -5.787799835205078, -5.806099891662598, -5.883200168609619, -5.940899848937988, -5.955100059509277, -5.963900089263916, -3.7836999893188477, -4.675099849700928, -4.127900123596191, -4.117099761962891, -4.453400135040283, -3.850600004196167, -4.879199981689453, -5.44890022277832, -5.1203999519348145, -5.268700122833252, -5.176000118255615, -5.1691999435424805, -5.191500186920166, -3.378999948501587, -3.2802999019622803, -3.908799886703491, -5.251299858093262, -4.598299980163574, -4.459099769592285, -4.731100082397461, -4.846799850463867, -5.107399940490723, -4.930600166320801, -5.064599990844727, -4.994100093841553, -2.372499942779541, -2.5861001014709473, -2.5973000526428223, -3.1905999183654785, -3.794100046157837, -4.1956000328063965, -4.225800037384033, -4.316500186920166, -4.320700168609619, -4.346799850463867, -4.775400161743164, -4.782599925994873, -4.948299884796143, -5.127999782562256, -5.243000030517578, -5.269000053405762, -5.2982001304626465, -5.334000110626221, -5.344399929046631, -5.349899768829346, -5.434000015258789, -5.667300224304199, -5.703700065612793, -5.7546000480651855, -5.790599822998047, -5.7947998046875, -5.911399841308594, -5.932799816131592, -6.020299911499023, -6.0366997718811035, -4.868000030517578, -4.059800148010254, -4.054200172424316, -4.3968000411987305, -3.805000066757202, -4.619800090789795, -3.577899932861328, -3.2476999759674072, -2.4245998859405518, -4.674499988555908, -4.259200096130371, -3.6078999042510986, -4.418099880218506, -5.0152997970581055, -5.0904998779296875, -5.043300151824951, -4.747600078582764, -2.3369998931884766, -4.3703999519348145, -4.416399955749512, -4.531899929046631, -4.60860013961792, -4.71120023727417, -4.7596001625061035, -4.911499977111816, -4.918900012969971, -5.098800182342529, -5.282599925994873, -5.2932000160217285, -5.302199840545654, -5.308899879455566, -5.343400001525879, -5.347899913787842, -5.367000102996826, -5.394400119781494, -5.56279993057251, -5.57289981842041, -5.590000152587891, -5.594299793243408, -5.67080020904541, -5.677800178527832, -5.7108001708984375, -5.7459001541137695, -5.765600204467773, -5.855500221252441, -5.8927001953125, -5.89900016784668, -5.839600086212158, -4.037700176239014, -3.6768999099731445, -3.774399995803833, -5.194399833679199, -4.658999919891357, -4.230800151824951, -4.6539998054504395, -4.046899795532227, -3.043800115585327, -4.877399921417236, -4.849699974060059, -3.219599962234497, -4.83620023727417, -4.574999809265137, -4.421299934387207, -4.76669979095459, -4.958600044250488, -4.537300109863281, -4.786799907684326, -5.21999979019165, -5.200200080871582, -2.5352001190185547, -3.2218000888824463, -4.812300205230713, -4.951900005340576, -5.257299900054932, -5.751999855041504, -5.812699794769287, -5.827499866485596, -5.840099811553955, -5.892199993133545, -5.984300136566162, -6.231100082397461, -6.252099990844727, -6.357500076293945, -6.381899833679199, -6.410399913787842, -6.429900169372559, -6.434899806976318, -6.5457000732421875, -6.760200023651123, -6.766900062561035, -6.7820000648498535, -6.797299861907959, -6.801199913024902, -6.890500068664551, -7.004700183868408, -7.015500068664551, -7.025400161743164, -7.0258002281188965, -7.072400093078613, -0.9107000231742859, -1.6612000465393066, -5.570499897003174, -4.400599956512451, -3.6342999935150146, -5.305799961090088, -5.337500095367432, -2.617000102996826, -4.874899864196777, -4.783299922943115, -4.7418999671936035, -5.5690999031066895, -5.780099868774414, -5.781499862670898, -5.662700176239014, -6.12939977645874, -6.132299900054932, -3.655100107192993, -3.680299997329712, -3.7467000484466553, -3.95169997215271, -4.403600215911865, -4.4969000816345215, -4.7530999183654785, -4.76669979095459, -4.897799968719482, -4.903200149536133, -4.928999900817871, -4.9899001121521, -5.05709981918335, -5.173299789428711, -5.238699913024902, -5.472899913787842, -5.5081000328063965, -5.512599945068359, -5.613100051879883, -5.665500164031982, -5.680799961090088, -5.745500087738037, -5.759200096130371, -5.839200019836426, -5.860599994659424, -5.9542999267578125, -5.963099956512451, -6.021900177001953, -6.054500102996826, -6.094699859619141, -3.1038999557495117, -3.2037999629974365, -3.3066000938415527, -5.105000019073486, -3.1982998847961426, -2.0790998935699463, -5.162799835205078, -4.557400226593018, -4.803100109100342, -5.258800029754639, -4.081699848175049, -5.281000137329102, -5.211299896240234, -4.613800048828125, -4.769700050354004, -4.466100215911865, -4.001299858093262, -3.145400047302246, -4.278900146484375, -4.107500076293945, -4.738399982452393, -4.921199798583984, -4.974699974060059, -1.9765000343322754, -2.286900043487549, -5.047100067138672, -5.980100154876709, -6.36870002746582, -6.46999979019165, -6.855999946594238, -6.928999900817871, -7.0100998878479, -7.377999782562256, -7.379000186920166, -7.394899845123291, -7.575099945068359, -7.593599796295166, -7.674300193786621, -7.75629997253418, -7.781799793243408, -7.784200191497803, -7.816299915313721, -7.843200206756592, -7.861400127410889, -7.9959001541137695, -8.061400413513184, -8.097999572753906, -8.157999992370605, -8.250300407409668, -8.331000328063965, -8.354100227355957, -8.408300399780273, -8.409000396728516, -5.087699890136719, -4.252799987792969, -1.9350999593734741, -1.5852999687194824, -4.019000053405762, -2.3310999870300293, -6.559299945831299, -5.134300231933594, -3.5683000087738037, -4.4928998947143555, -4.433700084686279, -6.748799800872803, -4.002200126647949, -6.330599784851074, -3.130199909210205, -5.422500133514404, -6.572299957275391, -4.445499897003174, -5.13670015335083, -4.591400146484375, -6.143799781799316, -4.387700080871582, -5.276599884033203, -5.326900005340576, -5.304200172424316, -4.144599914550781, -5.4328999519348145, -5.490600109100342, -5.795499801635742, -5.838099956512451, -6.029600143432617, -3.2411999702453613, -3.3115999698638916, -3.482800006866455, -3.966900110244751, -4.181300163269043, -4.222599983215332, -4.274600028991699, -4.4934000968933105, -4.540900230407715, -4.5721001625061035, -4.593699932098389, -4.783999919891357, -4.832200050354004, -5.079500198364258, -5.144400119781494, -5.149600028991699, -5.1793999671936035, -5.211999893188477, -5.221399784088135, -5.3043999671936035, -5.342800140380859, -5.391600131988525, -5.489699840545654, -5.540999889373779, -5.64739990234375, -5.670899868011475, -5.699999809265137, -5.730899810791016, -5.737800121307373, -5.888199806213379, -3.0046000480651855, -2.6679999828338623, -4.839600086212158, -4.122000217437744, -3.343600034713745, -3.2936999797821045, -4.97189998626709, -4.286200046539307, -4.367099761962891, -2.4368999004364014, -4.826399803161621, -4.540200233459473, -3.3652000427246094, -3.3968000411987305, -4.557600021362305, -4.274899959564209, -3.9463999271392822, -3.233599901199341, -3.862600088119507, -4.321800231933594, -4.402599811553955, -4.5524001121521, -4.630300045013428, -4.672500133514404, -4.731500148773193, -4.812699794769287, -4.8429999351501465, -4.8520002365112305, -4.882599830627441, -4.968299865722656, -5.0335001945495605, -5.060100078582764, -5.077700138092041, -5.084799766540527, -5.095399856567383, -5.1016998291015625, -5.176199913024902, -5.21019983291626, -5.2546000480651855, -5.265500068664551, -5.275300025939941, -5.359899997711182, -5.375800132751465, -5.421299934387207, -5.489500045776367, -5.533899784088135, -5.589799880981445, -2.9472999572753906, -3.1707000732421875, -4.057300090789795, -4.053100109100342, -5.033699989318848, -4.446300029754639, -4.814000129699707, -4.757800102233887, -4.545499801635742, -4.733399868011475, -4.428100109100342, -3.593400001525879, -4.203700065612793, -4.827899932861328, -5.00570011138916, -4.897500038146973, -4.97760009765625, -4.9994001388549805, -5.001299858093262]}, \"token.table\": {\"Topic\": [5, 7, 9, 9, 3, 5, 8, 4, 9, 9, 3, 10, 2, 2, 7, 9, 3, 5, 3, 10, 5, 8, 10, 6, 7, 1, 7, 7, 5, 8, 3, 4, 5, 9, 3, 5, 6, 7, 8, 6, 6, 9, 10, 9, 2, 3, 5, 6, 7, 8, 1, 6, 1, 7, 3, 1, 8, 7, 6, 3, 6, 2, 2, 3, 5, 5, 4, 5, 6, 4, 9, 2, 10, 10, 7, 2, 5, 2, 3, 4, 5, 2, 4, 8, 4, 4, 4, 10, 4, 2, 3, 7, 3, 10, 7, 5, 3, 5, 2, 2, 6, 3, 8, 9, 3, 6, 1, 4, 9, 6, 1, 2, 10, 9, 7, 2, 3, 8, 3, 8, 6, 2, 10, 6, 10, 8, 7, 2, 4, 9, 1, 8, 10, 3, 4, 9, 3, 5, 8, 8, 8, 10, 6, 2, 10, 10, 3, 2, 9, 7, 7, 2, 7, 2, 1, 10, 2, 5, 10, 2, 3, 10, 9, 8, 7, 3, 10, 9, 10, 8, 2, 3, 8, 3, 8, 3, 4, 6, 2, 5, 7, 10, 2, 3, 4, 5, 9, 5, 4, 5, 8, 10, 4, 2, 3, 5, 6, 7, 10, 10, 6, 5, 10, 10, 5, 7, 8, 5, 6, 2, 8, 3, 4, 5, 5, 10, 5, 7, 3, 10, 3, 8, 7, 1, 6, 8, 5, 2, 3, 5, 7, 4, 4, 6, 7, 8, 3, 5, 4, 3, 3, 4, 10, 1, 2, 1, 3, 7, 6, 8, 3, 5, 6, 8, 2, 10, 8, 6, 4, 7, 7, 7, 4, 2, 4, 6, 7, 9, 5, 2, 2, 5, 7, 10, 3, 5, 8, 8, 6, 7, 9, 6, 4, 8, 6, 5, 4, 5, 7, 8, 9, 10, 10, 3, 6, 10, 2, 4, 2, 7, 8, 6, 7, 2, 1, 3, 4, 1, 5, 8, 3, 8, 10, 1, 8, 2, 3, 1, 5, 2, 3, 7, 9, 10, 7, 10, 1, 4, 9, 10, 4, 6, 9, 3, 7, 10, 1, 3, 7, 6, 7, 8, 10, 7, 6, 9, 10, 4, 6, 10, 1, 5, 7, 9, 9, 3, 5, 9, 1, 7, 4, 5, 4, 9, 4, 7, 8, 1, 2, 3, 10, 6, 1, 1, 5, 9, 6, 3, 5, 9, 5, 3, 8, 10, 3, 10, 3, 4, 10, 10, 1, 2, 3, 5, 10, 7, 8, 2, 9, 10, 7, 1, 6, 7, 2, 9, 10, 7, 1, 3, 5, 4, 5, 6, 7, 9, 6, 2, 3, 8, 5, 7, 9, 5, 8, 5, 8, 9, 3, 7, 9, 1, 2, 7, 9, 3, 5, 8, 1, 2, 8, 1, 5, 7, 8, 9, 3, 5, 10, 2, 9, 4, 3, 3, 3, 9, 3, 3, 4, 8, 9, 8, 9, 10, 8, 7, 3, 3, 4, 5, 7, 8, 9, 10, 9, 9, 6, 10, 4, 7, 1, 7, 10, 9, 3, 5, 8, 6, 9, 10, 5, 4, 5, 9, 4, 1, 3, 4, 7, 8, 4, 8, 1, 2, 2, 10, 2, 2, 10, 6, 1, 3, 3, 9, 9, 4, 5, 9, 3, 6, 9, 8, 10, 4, 1, 6, 3, 3, 4, 7, 10, 7, 5, 10, 3, 8, 3, 4, 8, 5, 8, 4, 5, 6, 8, 10, 10, 4, 4, 9, 3, 5, 7, 4, 4, 3, 9, 4, 9, 1, 8, 7, 4, 9, 3, 3, 8, 4, 6, 8, 4, 1, 2, 2, 1, 10, 10, 2, 5, 5, 8, 4, 4, 5, 3, 10, 4, 5, 10, 9, 3, 10, 5, 9, 1, 6, 9, 3, 7, 10, 1, 6, 7, 9, 5, 7, 1, 9, 5, 3, 10, 5, 5, 7, 8, 10, 5, 3, 9, 3, 9, 2, 5, 6, 7, 8, 5, 5, 7, 3, 7], \"Freq\": [0.1863558292388916, 0.812748372554779, 0.9997498393058777, 0.9984751343727112, 0.1359066516160965, 0.17548945546150208, 0.688537061214447, 0.6863130927085876, 0.3132581412792206, 0.9980976581573486, 0.998828113079071, 0.9978062510490417, 0.9992862343788147, 0.9982151389122009, 0.9993789792060852, 0.9996191263198853, 0.9994178414344788, 0.9988665580749512, 0.4805252254009247, 0.5190169215202332, 0.5475375056266785, 0.2613247036933899, 0.1910710483789444, 0.1588403880596161, 0.8411355018615723, 0.8928883671760559, 0.10686362534761429, 0.9990748763084412, 0.9994972348213196, 0.9953808188438416, 0.158105731010437, 0.138386532664299, 0.13662588596343994, 0.5665748715400696, 0.803209662437439, 0.1964624524116516, 0.9959967136383057, 0.9996782541275024, 0.9978256225585938, 0.9988514184951782, 0.9969215989112854, 0.9997936487197876, 0.9996956586837769, 0.9988909363746643, 0.08415928483009338, 0.11314526200294495, 0.15812350809574127, 0.3712204098701477, 0.22828955948352814, 0.04497823864221573, 0.9993587732315063, 0.9935160279273987, 0.9992755055427551, 0.9991735219955444, 0.9998759031295776, 0.998938262462616, 0.9883008003234863, 0.9998772740364075, 0.9975525736808777, 0.999450147151947, 0.9982556700706482, 0.9984618425369263, 0.11530596017837524, 0.26230740547180176, 0.6221603751182556, 0.9992734789848328, 0.9987530708312988, 0.9984821081161499, 0.9961019158363342, 0.7476375102996826, 0.2520935833454132, 0.31680798530578613, 0.6825976371765137, 0.9986251592636108, 0.998792827129364, 0.9999805092811584, 0.998890221118927, 0.9981062412261963, 0.9989711046218872, 0.9994322657585144, 0.9991425275802612, 0.9994387030601501, 0.9997747540473938, 0.9941451549530029, 0.9963987469673157, 0.9996635913848877, 0.9999349117279053, 0.9987106323242188, 0.9990695118904114, 0.9987768530845642, 0.999345600605011, 0.9982285499572754, 0.8505392670631409, 0.14860907196998596, 0.9991647005081177, 0.9995036125183105, 0.9999260306358337, 0.999052882194519, 0.9991436004638672, 0.9994699358940125, 0.9988750219345093, 0.18791013956069946, 0.7386517524719238, 0.07342322915792465, 0.3685170114040375, 0.6312809586524963, 0.9998430609703064, 0.2849729061126709, 0.7149712443351746, 0.9954525232315063, 0.9974716901779175, 0.11702603101730347, 0.8829084038734436, 0.9986608028411865, 0.9995619058609009, 0.07429184764623642, 0.23615455627441406, 0.6895322203636169, 0.2860821783542633, 0.7138339877128601, 0.9925280213356018, 0.35637205839157104, 0.6434718370437622, 0.9991905093193054, 0.9984776973724365, 0.9906752705574036, 0.9983014464378357, 0.9992380142211914, 0.9994602799415588, 0.9999141097068787, 0.9983705878257751, 0.9938896298408508, 0.9989869594573975, 0.22439420223236084, 0.5015377998352051, 0.27379441261291504, 0.37956497073173523, 0.6202840209007263, 0.9831610918045044, 0.9996115565299988, 0.9911747574806213, 0.999079167842865, 0.9994270205497742, 0.1839364469051361, 0.8153401017189026, 0.9993513226509094, 0.9984889030456543, 0.8276704549789429, 0.17192764580249786, 0.9996875524520874, 0.9998845458030701, 0.9991945624351501, 0.9993623495101929, 0.9983211159706116, 0.6671334505081177, 0.33152657747268677, 0.6364781856536865, 0.14578551054000854, 0.21690039336681366, 0.9988382458686829, 0.9988811612129211, 0.9990357160568237, 0.9998741149902344, 0.9932000637054443, 0.9991455674171448, 0.9993689656257629, 0.998723030090332, 0.9988120198249817, 0.9995626211166382, 0.9927460551261902, 0.996581494808197, 0.9997588992118835, 0.9956837296485901, 0.25883570313453674, 0.7406532168388367, 0.9996725916862488, 0.9995098114013672, 0.9980708360671997, 0.3011164665222168, 0.18832093477249146, 0.3976576328277588, 0.11279553920030594, 0.06311340630054474, 0.49946215748786926, 0.13637445867061615, 0.1997353583574295, 0.10122895240783691, 0.9986921548843384, 0.9982614517211914, 0.1272154301404953, 0.7507280707359314, 0.12093318998813629, 0.998379111289978, 0.0767621397972107, 0.08556289225816727, 0.4637508690357208, 0.12956666946411133, 0.14545691013336182, 0.09851955622434616, 0.9989591240882874, 0.998376727104187, 0.798639178276062, 0.2011752426624298, 0.9986687302589417, 0.5626344084739685, 0.14403092861175537, 0.29328352212905884, 0.9999567866325378, 0.9999265670776367, 0.9987872838973999, 0.997797429561615, 0.4183150827884674, 0.05991854891180992, 0.5217094421386719, 0.9989891052246094, 0.9994273781776428, 0.29672786593437195, 0.7031844854354858, 0.8736683130264282, 0.12589366734027863, 0.12185778468847275, 0.8779546022415161, 0.9995234608650208, 0.43693357706069946, 0.33264490962028503, 0.23015430569648743, 0.9994159936904907, 0.06058606505393982, 0.20330554246902466, 0.14069148898124695, 0.5949602127075195, 0.996507465839386, 0.15801355242729187, 0.5696503520011902, 0.2723253071308136, 0.9908416867256165, 0.449930876493454, 0.5498819351196289, 0.9984646439552307, 0.9991065263748169, 0.7966614961624146, 0.09176283329725266, 0.1114792451262474, 0.9980607032775879, 0.9992990493774414, 0.9995399117469788, 0.160435751080513, 0.8387135863304138, 0.9987882971763611, 0.9999726414680481, 0.13718074560165405, 0.42486372590065, 0.08592864125967026, 0.3519515097141266, 0.7491534948348999, 0.24996580183506012, 0.9897710680961609, 0.9976888298988342, 0.8657906651496887, 0.13348644971847534, 0.9989674091339111, 0.9981213808059692, 0.9994258880615234, 0.09603393077850342, 0.020752983167767525, 0.6126174926757812, 0.15797463059425354, 0.11260979622602463, 0.9987223148345947, 0.9988453984260559, 0.20490729808807373, 0.4514952003955841, 0.11778135597705841, 0.22561314702033997, 0.16958872973918915, 0.829795777797699, 0.9999720454216003, 0.997353196144104, 0.9931398034095764, 0.9992618560791016, 0.9989100098609924, 0.9966988563537598, 0.9979577660560608, 0.9895488023757935, 0.9953935742378235, 0.9984467029571533, 0.06968873739242554, 0.162236750125885, 0.49283456802368164, 0.0770806148648262, 0.12483584880828857, 0.07332058995962143, 0.9994633197784424, 0.37333112955093384, 0.625848114490509, 0.9995077252388, 0.9982460737228394, 0.9988763332366943, 0.9998677968978882, 0.15999512374401093, 0.8385951519012451, 0.9980605840682983, 0.9984105825424194, 0.9980689883232117, 0.9978339672088623, 0.4740225672721863, 0.5255128145217896, 0.9991708397865295, 0.10191162675619125, 0.8968222737312317, 0.7843753099441528, 0.21544328331947327, 0.9984973669052124, 0.9980684518814087, 0.994678795337677, 0.9978170394897461, 0.9992085695266724, 0.9998217821121216, 0.9993036389350891, 0.9989923238754272, 0.3181114196777344, 0.16555087268352509, 0.17869222164154053, 0.33744582533836365, 0.11629530042409897, 0.8835743069648743, 0.1448204517364502, 0.19066545367240906, 0.481017142534256, 0.18338000774383545, 0.11748049408197403, 0.7194347381591797, 0.16307707130908966, 0.11065995693206787, 0.8889859914779663, 0.999327540397644, 0.08553443849086761, 0.10618067532777786, 0.8082326650619507, 0.07921092212200165, 0.477065771818161, 0.2545850872993469, 0.18902605772018433, 0.9990025758743286, 0.1567913293838501, 0.8429332375526428, 0.9991505742073059, 0.9987438917160034, 0.9954731464385986, 0.9992626905441284, 0.9988473653793335, 0.9992139339447021, 0.1885918527841568, 0.8111816644668579, 0.9994229674339294, 0.9985269904136658, 0.9991182684898376, 0.9995890855789185, 0.9994706511497498, 0.9993320107460022, 0.5692836046218872, 0.4304214417934418, 0.7033801078796387, 0.2961600422859192, 0.060482367873191833, 0.5740593075752258, 0.3651963174343109, 0.9997943639755249, 0.3553145229816437, 0.17624354362487793, 0.46817639470100403, 0.9969416260719299, 0.9988684058189392, 0.9973984956741333, 0.9985275864601135, 0.9994418025016785, 0.9924243688583374, 0.23652879893779755, 0.7633544206619263, 0.9994681477546692, 0.9981814026832581, 0.24627995491027832, 0.6182301640510559, 0.13494792580604553, 0.8577989339828491, 0.14209911227226257, 0.7563449144363403, 0.24287894368171692, 0.9992430210113525, 0.999786913394928, 0.9978888630867004, 0.15180405974388123, 0.1501060277223587, 0.1891607642173767, 0.508730411529541, 0.9989826679229736, 0.9899430871009827, 0.600702166557312, 0.2970863878726959, 0.10193073749542236, 0.9989169836044312, 0.998144805431366, 0.9976245760917664, 0.9997502565383911, 0.13489174842834473, 0.6353200674057007, 0.2297346591949463, 0.998898446559906, 0.40625885128974915, 0.33568164706230164, 0.25767526030540466, 0.15521523356437683, 0.20493260025978088, 0.4580846428871155, 0.09322899580001831, 0.08844985067844391, 0.998758852481842, 0.061079785227775574, 0.7746753096580505, 0.16407707333564758, 0.14712217450141907, 0.649856686592102, 0.2029687762260437, 0.23472999036312103, 0.7650755643844604, 0.09486760944128036, 0.9044617414474487, 0.9995326399803162, 0.9987898468971252, 0.35159099102020264, 0.6480367183685303, 0.09719454497098923, 0.10787394642829895, 0.23008708655834198, 0.5648683309555054, 0.9994695782661438, 0.1876959502696991, 0.8117345571517944, 0.997909426689148, 0.9967089891433716, 0.9921767115592957, 0.08752015978097916, 0.13092446327209473, 0.47839611768722534, 0.14634129405021667, 0.1565401256084442, 0.2884344756603241, 0.17016977071762085, 0.5407325029373169, 0.9996607899665833, 0.9987168908119202, 0.9983938932418823, 0.9986191987991333, 0.9985129237174988, 0.8366889953613281, 0.16296954452991486, 0.9986940026283264, 0.25843384861946106, 0.25172385573387146, 0.3951995372772217, 0.09463080018758774, 0.26850882172584534, 0.16348513960838318, 0.5675417184829712, 0.9823342561721802, 0.9990796446800232, 0.9993074536323547, 0.1409633755683899, 0.02844216860830784, 0.12437210977077484, 0.31573301553726196, 0.26471176743507385, 0.04534529894590378, 0.08046139776706696, 0.9993136525154114, 0.9982072114944458, 0.22275018692016602, 0.7769852876663208, 0.998140811920166, 0.9997601509094238, 0.9986498355865479, 0.8480587601661682, 0.15087077021598816, 0.9991704225540161, 0.8061532974243164, 0.19340834021568298, 0.9954313635826111, 0.9961754083633423, 0.817976176738739, 0.1819315403699875, 0.9986931085586548, 0.5269979238510132, 0.12394549697637558, 0.34888362884521484, 0.998795747756958, 0.9996177554130554, 0.2530005872249603, 0.01047550980001688, 0.1721462905406952, 0.5643539428710938, 0.11070568859577179, 0.8856455087661743, 0.997873067855835, 0.9972458481788635, 0.9990384578704834, 0.9985597133636475, 0.9993661046028137, 0.7267737984657288, 0.2725401818752289, 0.9998713731765747, 0.9989835023880005, 0.9992847442626953, 0.9992541670799255, 0.9992714524269104, 0.9996218085289001, 0.4784209430217743, 0.19752830266952515, 0.32360148429870605, 0.9998621940612793, 0.09225212782621384, 0.9071459174156189, 0.9981992244720459, 0.9987061619758606, 0.9971662759780884, 0.9993866086006165, 0.9958341121673584, 0.9997498989105225, 0.6493324041366577, 0.04752552509307861, 0.17508439719676971, 0.12792515754699707, 0.9994495511054993, 0.9988117218017578, 0.999300479888916, 0.9996507167816162, 0.9825188517570496, 0.30694180727005005, 0.04155198484659195, 0.6514682769775391, 0.9987388849258423, 0.9938012361526489, 0.999953031539917, 0.09823255240917206, 0.1826169341802597, 0.7191486358642578, 0.9994718432426453, 0.9990707635879517, 0.9993704557418823, 0.9998058080673218, 0.9994249939918518, 0.20809856057167053, 0.2734692692756653, 0.5184151530265808, 0.9984833002090454, 0.9961997866630554, 0.998084545135498, 0.9996413588523865, 0.6586284637451172, 0.3413007855415344, 0.9992368817329407, 0.9846235513687134, 0.99931401014328, 0.36014893651008606, 0.6397250890731812, 0.999652624130249, 0.21652300655841827, 0.7832362651824951, 0.15405313670635223, 0.8441018462181091, 0.9914779663085938, 0.9977648854255676, 0.9974453449249268, 0.9990864396095276, 0.9977278709411621, 0.8126353025436401, 0.18703509867191315, 0.9979348182678223, 0.9988306164741516, 0.9994609355926514, 0.9986064434051514, 0.9804558157920837, 0.9992331862449646, 0.998869001865387, 0.9995110034942627, 0.7397839426994324, 0.2596223056316376, 0.9998836517333984, 0.9988459944725037, 0.9990755319595337, 0.9989860653877258, 0.8155568838119507, 0.18402308225631714, 0.9994897842407227, 0.9988579750061035, 0.9992604851722717, 0.9930919408798218, 0.9993818998336792, 0.999760627746582, 0.9988681674003601, 0.9993129372596741, 0.9999022483825684, 0.24846507608890533, 0.7510195970535278, 0.9987651705741882, 0.6620870232582092, 0.3376205265522003, 0.9988012313842773, 0.9998487830162048, 0.9996413588523865, 0.32646217942237854, 0.6734318137168884, 0.9986826181411743, 0.24466614425182343, 0.08040020614862442, 0.46368739008903503, 0.21116605401039124, 0.9981984496116638, 0.9984232783317566, 0.9995709657669067, 0.9189304113388062, 0.08010202646255493, 0.056709516793489456, 0.3627268970012665, 0.133748859167099, 0.26910269260406494, 0.17744015157222748, 0.9983241558074951, 0.15425905585289001, 0.8451235294342041, 0.1624116748571396, 0.8375532031059265], \"Term\": [\"absolutely\", \"absolutely\", \"access\", \"accessible\", \"accommodate\", \"accommodate\", \"accommodate\", \"across\", \"across\", \"activity\", \"actually\", \"add\", \"adequate\", \"adult\", \"affordable\", \"airport\", \"allow\", \"almost\", \"although\", \"although\", \"always\", \"always\", \"always\", \"amaze\", \"amaze\", \"amenities\", \"amenities\", \"anyone\", \"anything\", \"approachable\", \"around\", \"around\", \"around\", \"around\", \"arrive\", \"arrive\", \"assist\", \"atmosphere\", \"attendant\", \"attentive\", \"attitude\", \"attraction\", \"available\", \"avenue\", \"awesome\", \"awesome\", \"awesome\", \"awesome\", \"awesome\", \"awesome\", \"bagel\", \"baggage\", \"balcony\", \"basic\", \"bathroom\", \"beach\", \"beat\", \"beautiful\", \"bedding\", \"bedroom\", \"bellman\", \"beside\", \"better\", \"better\", \"better\", \"beyond\", \"bigger\", \"birthday\", \"blanket\", \"block\", \"block\", \"bonus\", \"bonus\", \"bottle\", \"boutique\", \"breakfast\", \"bridge\", \"bright\", \"bring\", \"broadway\", \"brooklyn\", \"buffet\", \"building\", \"caring\", \"carpet\", \"center\", \"central\", \"centrally\", \"centre\", \"cereal\", \"change\", \"character\", \"charge\", \"charge\", \"charm\", \"cheap\", \"check\", \"chelsea\", \"child\", \"choice\", \"circle\", \"clean\", \"clean\", \"clean\", \"cleaning\", \"cleaning\", \"cleanliness\", \"close\", \"close\", \"closeness\", \"cloud\", \"coffee\", \"coffee\", \"columbus\", \"comfort\", \"comfortable\", \"comfortable\", \"comfortable\", \"comfy\", \"comfy\", \"comment\", \"complimentary\", \"complimentary\", \"concierge\", \"conditioning\", \"confort\", \"confortable\", \"continental\", \"convenience\", \"convenient\", \"conveniently\", \"convient\", \"cookie\", \"corner\", \"corner\", \"corner\", \"could\", \"could\", \"count\", \"courteous\", \"cross\", \"crowd\", \"customer\", \"daily\", \"daily\", \"date\", \"daughter\", \"decent\", \"decent\", \"decor\", \"definitely\", \"delicious\", \"design\", \"destination\", \"dining\", \"dining\", \"dinner\", \"dinner\", \"dinner\", \"directly\", \"dirty\", \"discount\", \"distance\", \"disturb\", \"doorman\", \"double\", \"downstairs\", \"downtown\", \"drink\", \"eager\", \"earlier\", \"early\", \"eatery\", \"efficient\", \"efficient\", \"elevator\", \"empire\", \"employee\", \"enjoy\", \"enjoy\", \"enjoy\", \"enjoy\", \"enough\", \"enough\", \"enough\", \"enough\", \"enough\", \"entire\", \"entrance\", \"environment\", \"environment\", \"environment\", \"equip\", \"especially\", \"especially\", \"especially\", \"especially\", \"especially\", \"especially\", \"evening\", \"event\", \"every\", \"every\", \"everyday\", \"everyone\", \"everyone\", \"everyone\", \"everything\", \"excellent\", \"except\", \"exceptionally\", \"expect\", \"expect\", \"expect\", \"expectation\", \"expensive\", \"experience\", \"experience\", \"extra\", \"extra\", \"extremely\", \"extremely\", \"fabulous\", \"facility\", \"facility\", \"facility\", \"falls\", \"family\", \"family\", \"family\", \"family\", \"fancy\", \"fantastic\", \"fantastic\", \"fantastic\", \"female\", \"first\", \"first\", \"fitness\", \"flight\", \"floor\", \"floor\", \"floor\", \"fluffy\", \"fresh\", \"fridge\", \"friend\", \"friend\", \"friendliness\", \"friendly\", \"front\", \"front\", \"front\", \"front\", \"fruit\", \"fruit\", \"function\", \"functional\", \"garden\", \"garden\", \"general\", \"gorgeous\", \"grand\", \"great\", \"great\", \"great\", \"great\", \"great\", \"greet\", \"handy\", \"happy\", \"happy\", \"happy\", \"happy\", \"help\", \"help\", \"helpful\", \"helpfull\", \"helpfulness\", \"highly\", \"highway\", \"historic\", \"history\", \"homey\", \"horrible\", \"hostel\", \"hotel\", \"hotel\", \"hotel\", \"hotel\", \"hotel\", \"hotel\", \"hours\", \"housekeeping\", \"housekeeping\", \"however\", \"hudson\", \"ideal\", \"include\", \"incredibly\", \"incredibly\", \"information\", \"interior\", \"item\", \"juice\", \"kitchen\", \"kitchen\", \"kitchenette\", \"knowledgeable\", \"knowledgeable\", \"large\", \"large\", \"larger\", \"laundry\", \"lication\", \"lift\", \"light\", \"like\", \"line\", \"linen\", \"little\", \"little\", \"little\", \"little\", \"lobby\", \"lobby\", \"locate\", \"locate\", \"locate\", \"locate\", \"location\", \"location\", \"location\", \"looking\", \"looking\", \"lounge\", \"love\", \"love\", \"love\", \"lovely\", \"lovely\", \"lovely\", \"lovely\", \"lower\", \"luggage\", \"luggage\", \"machine\", \"madison\", \"maintenance\", \"major\", \"maker\", \"manager\", \"manhattan\", \"manhattan\", \"market\", \"mattress\", \"member\", \"metro\", \"microwave\", \"midtown\", \"minute\", \"minute\", \"minutes\", \"minutes\", \"modern\", \"modern\", \"modern\", \"money\", \"morning\", \"morning\", \"morning\", \"mostly\", \"motel\", \"muffin\", \"museum\", \"nearby\", \"necessary\", \"need\", \"need\", \"neighborhood\", \"niagara\", \"nicely\", \"nicely\", \"nicely\", \"night\", \"night\", \"noise\", \"noise\", \"noisy\", \"nothing\", \"number\", \"offer\", \"offer\", \"offer\", \"offer\", \"older\", \"opinion\", \"option\", \"option\", \"option\", \"others\", \"outdoor\", \"outstanding\", \"overall\", \"parking\", \"parking\", \"parking\", \"party\", \"people\", \"people\", \"people\", \"perfect\", \"perfect\", \"perfect\", \"perfect\", \"perfect\", \"personnel\", \"pillow\", \"pillow\", \"pillow\", \"place\", \"place\", \"place\", \"pleasant\", \"pleasant\", \"polite\", \"polite\", \"position\", \"pressure\", \"pretty\", \"pretty\", \"price\", \"price\", \"price\", \"price\", \"problem\", \"professional\", \"professional\", \"prompt\", \"promptly\", \"properly\", \"property\", \"property\", \"property\", \"property\", \"property\", \"provide\", \"provide\", \"provide\", \"proximity\", \"public\", \"purpose\", \"queen\", \"question\", \"quick\", \"quick\", \"quickly\", \"quiet\", \"quiet\", \"quiet\", \"quiet\", \"quite\", \"quite\", \"quite\", \"rate\", \"reach\", \"ready\", \"really\", \"really\", \"really\", \"really\", \"really\", \"really\", \"really\", \"reasonable\", \"reasonably\", \"reception\", \"reception\", \"receptionist\", \"recommend\", \"refrigerator\", \"relax\", \"relax\", \"renovate\", \"request\", \"request\", \"response\", \"responsive\", \"restaurant\", \"restaurant\", \"review\", \"right\", \"right\", \"right\", \"rockefeller\", \"rooftop\", \"rooms\", \"rooms\", \"rooms\", \"rooms\", \"roomy\", \"roomy\", \"satisfy\", \"sausage\", \"security\", \"seeing\", \"selection\", \"serve\", \"serve\", \"service\", \"services\", \"share\", \"sheet\", \"shop\", \"shopping\", \"short\", \"short\", \"short\", \"shower\", \"shuttle\", \"shuttle\", \"sights\", \"sightseeing\", \"situate\", \"size\", \"skyline\", \"sleep\", \"small\", \"small\", \"small\", \"small\", \"smell\", \"smile\", \"snack\", \"space\", \"spacey\", \"spacious\", \"spacious\", \"spacious\", \"special\", \"spotlessly\", \"square\", \"staff\", \"staff\", \"staff\", \"standard\", \"starbucks\", \"state\", \"station\", \"stations\", \"stay\", \"stay\", \"stay\", \"steps\", \"stops\", \"storage\", \"store\", \"street\", \"street\", \"stuff\", \"stuffy\", \"style\", \"subway\", \"subway\", \"suite\", \"super\", \"super\", \"superb\", \"superb\", \"supportive\", \"surprisingly\", \"sweet\", \"swimming\", \"tasty\", \"terrace\", \"terrace\", \"terrible\", \"terrific\", \"thank\", \"thanks\", \"thanksgiving\", \"theater\", \"theatre\", \"thing\", \"though\", \"though\", \"times\", \"toilet\", \"touch\", \"tourist\", \"towel\", \"towel\", \"train\", \"transport\", \"try\", \"university\", \"update\", \"upgrade\", \"upper\", \"valet\", \"value\", \"view\", \"view\", \"village\", \"visit\", \"visit\", \"waffle\", \"walking\", \"want\", \"water\", \"water\", \"watson\", \"welcome\", \"welcome\", \"welcome\", \"welcome\", \"willing\", \"windows\", \"within\", \"without\", \"without\", \"wonderful\", \"wonderful\", \"wonderful\", \"wonderful\", \"wonderful\", \"world\", \"worth\", \"worth\", \"would\", \"would\"]}, \"R\": 30, \"lambda.step\": 0.01, \"plot.opts\": {\"xlab\": \"PC1\", \"ylab\": \"PC2\"}, \"topic.order\": [1, 2, 3, 4, 5, 6, 7, 8, 9, 10]};\n",
       "\n",
       "function LDAvis_load_lib(url, callback){\n",
       "  var s = document.createElement('script');\n",
       "  s.src = url;\n",
       "  s.async = true;\n",
       "  s.onreadystatechange = s.onload = callback;\n",
       "  s.onerror = function(){console.warn(\"failed to load library \" + url);};\n",
       "  document.getElementsByTagName(\"head\")[0].appendChild(s);\n",
       "}\n",
       "\n",
       "if(typeof(LDAvis) !== \"undefined\"){\n",
       "   // already loaded: just create the visualization\n",
       "   !function(LDAvis){\n",
       "       new LDAvis(\"#\" + \"ldavis_el280021406784851330165517432453\", ldavis_el280021406784851330165517432453_data);\n",
       "   }(LDAvis);\n",
       "}else if(typeof define === \"function\" && define.amd){\n",
       "   // require.js is available: use it to load d3/LDAvis\n",
       "   require.config({paths: {d3: \"https://cdnjs.cloudflare.com/ajax/libs/d3/3.5.5/d3.min\"}});\n",
       "   require([\"d3\"], function(d3){\n",
       "      window.d3 = d3;\n",
       "      LDAvis_load_lib(\"https://cdn.rawgit.com/bmabey/pyLDAvis/files/ldavis.v1.0.0.js\", function(){\n",
       "        new LDAvis(\"#\" + \"ldavis_el280021406784851330165517432453\", ldavis_el280021406784851330165517432453_data);\n",
       "      });\n",
       "    });\n",
       "}else{\n",
       "    // require.js not available: dynamically load d3 & LDAvis\n",
       "    LDAvis_load_lib(\"https://cdnjs.cloudflare.com/ajax/libs/d3/3.5.5/d3.min.js\", function(){\n",
       "         LDAvis_load_lib(\"https://cdn.rawgit.com/bmabey/pyLDAvis/files/ldavis.v1.0.0.js\", function(){\n",
       "                 new LDAvis(\"#\" + \"ldavis_el280021406784851330165517432453\", ldavis_el280021406784851330165517432453_data);\n",
       "            })\n",
       "         });\n",
       "}\n",
       "</script>"
      ],
      "text/plain": [
       "<IPython.core.display.HTML object>"
      ]
     },
     "execution_count": 59,
     "metadata": {},
     "output_type": "execute_result"
    }
   ],
   "source": [
    "lda10 = gensim.models.ldamodel.LdaModel.load('model10.gensim')\n",
    "lda_display10 = pyLDAvis.gensim.prepare(lda10, corpus, dictionary, sort_topics=False)\n",
    "pyLDAvis.display(lda_display10)"
   ]
  },
  {
   "cell_type": "code",
   "execution_count": null,
   "metadata": {},
   "outputs": [],
   "source": []
  }
 ],
 "metadata": {
  "kernelspec": {
   "display_name": "Python 3",
   "language": "python",
   "name": "python3"
  },
  "language_info": {
   "codemirror_mode": {
    "name": "ipython",
    "version": 3
   },
   "file_extension": ".py",
   "mimetype": "text/x-python",
   "name": "python",
   "nbconvert_exporter": "python",
   "pygments_lexer": "ipython3",
   "version": "3.6.6"
  }
 },
 "nbformat": 4,
 "nbformat_minor": 2
}
