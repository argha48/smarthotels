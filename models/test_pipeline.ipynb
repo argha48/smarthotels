{
 "cells": [
  {
   "cell_type": "code",
   "execution_count": 1,
   "metadata": {},
   "outputs": [
    {
     "name": "stderr",
     "output_type": "stream",
     "text": [
      "/home/argha/anaconda3/lib/python3.6/site-packages/nltk/twitter/__init__.py:20: UserWarning: The twython library has not been installed. Some functionality from the twitter package will not be available.\n",
      "  warnings.warn(\"The twython library has not been installed. \"\n"
     ]
    },
    {
     "name": "stdout",
     "output_type": "stream",
     "text": [
      "[nltk_data] Downloading package vader_lexicon to\n",
      "[nltk_data]     /home/argha/nltk_data...\n",
      "[nltk_data]   Package vader_lexicon is already up-to-date!\n"
     ]
    }
   ],
   "source": [
    "import nltk\n",
    "import pandas as pd\n",
    "import numpy as np\n",
    "import re\n",
    "import codecs\n",
    "import json\n",
    "\n",
    "import re\n",
    "import numpy as np\n",
    "import pandas as pd\n",
    "from pprint import pprint\n",
    "import pickle\n",
    "# Gensim\n",
    "import gensim\n",
    "import gensim.corpora as corpora\n",
    "from gensim.utils import simple_preprocess\n",
    "from gensim.models import CoherenceModel\n",
    "from gensim.models import Phrases\n",
    "from gensim.corpora import Dictionary, MmCorpus\n",
    "from gensim.models.word2vec import LineSentence\n",
    "from gensim.models.ldamulticore import LdaMulticore\n",
    "# spacy for lemmatization\n",
    "import spacy\n",
    "# NLTK for text cleaning\n",
    "from nltk.tokenize import sent_tokenize, word_tokenize, RegexpTokenizer\n",
    "from nltk.classify import NaiveBayesClassifier\n",
    "from nltk.corpus import stopwords, names\n",
    "from nltk.tokenize import RegexpTokenizer\n",
    "from nltk import tokenize\n",
    "from nltk.corpus import stopwords\n",
    "from nltk.stem.porter import PorterStemmer\n",
    "from nltk.sentiment.vader import SentimentIntensityAnalyzer\n",
    "nltk.download('vader_lexicon')\n",
    "# TextBlob package for translation and spelling correction\n",
    "from textblob import TextBlob\n",
    "\n",
    "nlp = spacy.load('en')\n",
    "# Plotting tools\n",
    "import pyLDAvis\n",
    "import pyLDAvis.gensim  # don't skip this\n",
    "import matplotlib.pyplot as plt\n",
    "# %matplotlib inline\n",
    "\n",
    "# Enable logging for gensim - optional\n",
    "import logging\n",
    "logging.basicConfig(format='%(asctime)s : %(levelname)s : %(message)s', level=logging.ERROR)\n",
    "\n",
    "import warnings\n",
    "warnings.filterwarnings(\"ignore\",category=DeprecationWarning)"
   ]
  },
  {
   "cell_type": "code",
   "execution_count": 2,
   "metadata": {},
   "outputs": [],
   "source": [
    "nydata = pd.read_json('/home/argha/Dropbox/data-files/reviews/NY_State_hotels_reviews.json',\n",
    "                    lines=True, encoding='utf-8')\n",
    "calidata = pd.read_json('/home/argha/Dropbox/data-files/reviews/CaliforniaState_hotels_reviews.json',\n",
    "                    lines=True, encoding='utf-8')"
   ]
  },
  {
   "cell_type": "code",
   "execution_count": 3,
   "metadata": {},
   "outputs": [
    {
     "data": {
      "text/html": [
       "<div>\n",
       "<style scoped>\n",
       "    .dataframe tbody tr th:only-of-type {\n",
       "        vertical-align: middle;\n",
       "    }\n",
       "\n",
       "    .dataframe tbody tr th {\n",
       "        vertical-align: top;\n",
       "    }\n",
       "\n",
       "    .dataframe thead th {\n",
       "        text-align: right;\n",
       "    }\n",
       "</style>\n",
       "<table border=\"1\" class=\"dataframe\">\n",
       "  <thead>\n",
       "    <tr style=\"text-align: right;\">\n",
       "      <th></th>\n",
       "      <th>Cleanliness</th>\n",
       "      <th>Comfort</th>\n",
       "      <th>Facilities</th>\n",
       "      <th>FreeWifi</th>\n",
       "      <th>GivenScore</th>\n",
       "      <th>Heading</th>\n",
       "      <th>HotelName</th>\n",
       "      <th>Location</th>\n",
       "      <th>NegativeReview</th>\n",
       "      <th>NumReviewGiven</th>\n",
       "      <th>PositiveReview</th>\n",
       "      <th>SelfTag</th>\n",
       "      <th>Staff</th>\n",
       "      <th>StayDate</th>\n",
       "      <th>UserAgeGroup</th>\n",
       "      <th>UserCountry</th>\n",
       "      <th>UserName</th>\n",
       "      <th>ValueForMoney</th>\n",
       "    </tr>\n",
       "  </thead>\n",
       "  <tbody>\n",
       "    <tr>\n",
       "      <th>0</th>\n",
       "      <td>[9.9]</td>\n",
       "      <td>[10]</td>\n",
       "      <td>[9.8]</td>\n",
       "      <td>[8]</td>\n",
       "      <td>[\\n10\\n]</td>\n",
       "      <td>[Would love to stay age.  Let me know of any s...</td>\n",
       "      <td>[Adelphi Hotel]</td>\n",
       "      <td>[9.9]</td>\n",
       "      <td>[Not a thing.]</td>\n",
       "      <td>[\\n1 review\\n]</td>\n",
       "      <td>[I really enjoyed the personal.  I live locall...</td>\n",
       "      <td>[\\n,  Leisure trip\\n, \\n,  Couple\\n, \\n,  King...</td>\n",
       "      <td>[9.6]</td>\n",
       "      <td>[\\nStayed in January 2019\\n]</td>\n",
       "      <td>[\\n]</td>\n",
       "      <td>[USA]</td>\n",
       "      <td>[Rose]</td>\n",
       "      <td>[9.3]</td>\n",
       "    </tr>\n",
       "  </tbody>\n",
       "</table>\n",
       "</div>"
      ],
      "text/plain": [
       "  Cleanliness Comfort Facilities FreeWifi GivenScore  \\\n",
       "0       [9.9]    [10]      [9.8]      [8]   [\\n10\\n]   \n",
       "\n",
       "                                             Heading        HotelName  \\\n",
       "0  [Would love to stay age.  Let me know of any s...  [Adelphi Hotel]   \n",
       "\n",
       "  Location  NegativeReview  NumReviewGiven  \\\n",
       "0    [9.9]  [Not a thing.]  [\\n1 review\\n]   \n",
       "\n",
       "                                      PositiveReview  \\\n",
       "0  [I really enjoyed the personal.  I live locall...   \n",
       "\n",
       "                                             SelfTag  Staff  \\\n",
       "0  [\\n,  Leisure trip\\n, \\n,  Couple\\n, \\n,  King...  [9.6]   \n",
       "\n",
       "                       StayDate UserAgeGroup UserCountry UserName  \\\n",
       "0  [\\nStayed in January 2019\\n]         [\\n]       [USA]   [Rose]   \n",
       "\n",
       "  ValueForMoney  \n",
       "0         [9.3]  "
      ]
     },
     "execution_count": 3,
     "metadata": {},
     "output_type": "execute_result"
    }
   ],
   "source": [
    "nydata.head(1)"
   ]
  },
  {
   "cell_type": "code",
   "execution_count": 4,
   "metadata": {},
   "outputs": [],
   "source": [
    "def get_text(rev):\n",
    "    return rev[0] if str(rev)!='nan' else ''"
   ]
  },
  {
   "cell_type": "code",
   "execution_count": 7,
   "metadata": {},
   "outputs": [
    {
     "data": {
      "text/html": [
       "<div>\n",
       "<style scoped>\n",
       "    .dataframe tbody tr th:only-of-type {\n",
       "        vertical-align: middle;\n",
       "    }\n",
       "\n",
       "    .dataframe tbody tr th {\n",
       "        vertical-align: top;\n",
       "    }\n",
       "\n",
       "    .dataframe thead th {\n",
       "        text-align: right;\n",
       "    }\n",
       "</style>\n",
       "<table border=\"1\" class=\"dataframe\">\n",
       "  <thead>\n",
       "    <tr style=\"text-align: right;\">\n",
       "      <th></th>\n",
       "      <th>HotelName</th>\n",
       "      <th>PositiveReview</th>\n",
       "      <th>NegativeReview</th>\n",
       "      <th>StayDate</th>\n",
       "    </tr>\n",
       "  </thead>\n",
       "  <tbody>\n",
       "    <tr>\n",
       "      <th>1052246</th>\n",
       "      <td>Studio Inn &amp; Suites Downey</td>\n",
       "      <td>I liked the room it was clean carpet was a plu...</td>\n",
       "      <td></td>\n",
       "      <td></td>\n",
       "    </tr>\n",
       "  </tbody>\n",
       "</table>\n",
       "</div>"
      ],
      "text/plain": [
       "                          HotelName  \\\n",
       "1052246  Studio Inn & Suites Downey   \n",
       "\n",
       "                                            PositiveReview NegativeReview  \\\n",
       "1052246  I liked the room it was clean carpet was a plu...                  \n",
       "\n",
       "        StayDate  \n",
       "1052246           "
      ]
     },
     "execution_count": 7,
     "metadata": {},
     "output_type": "execute_result"
    }
   ],
   "source": [
    "ny_df = nydata[['HotelName','PositiveReview','NegativeReview','StayDate']].copy().applymap(get_text)\n",
    "cal_df = calidata[['HotelName','PositiveReview','NegativeReview','StayDate']].copy().applymap(get_text)\n",
    "demo_data = pd.concat([ny_df,cal_df],ignore_index=True)\n",
    "demo_data['StayDate'] = demo_data['StayDate'].apply(lambda x: x.replace('\\n','')).apply(lambda x: x.replace('Stayed in ',''))\n",
    "\n",
    "demo_data.to_json('demo_data.json', orient='columns')\n",
    "demo_data = pd.read_json('demo_data.json',orient='columns', encoding='utf-8')\n",
    "demo_data.sample()"
   ]
  },
  {
   "cell_type": "code",
   "execution_count": 8,
   "metadata": {},
   "outputs": [
    {
     "data": {
      "text/html": [
       "<div>\n",
       "<style scoped>\n",
       "    .dataframe tbody tr th:only-of-type {\n",
       "        vertical-align: middle;\n",
       "    }\n",
       "\n",
       "    .dataframe tbody tr th {\n",
       "        vertical-align: top;\n",
       "    }\n",
       "\n",
       "    .dataframe thead th {\n",
       "        text-align: right;\n",
       "    }\n",
       "</style>\n",
       "<table border=\"1\" class=\"dataframe\">\n",
       "  <thead>\n",
       "    <tr style=\"text-align: right;\">\n",
       "      <th></th>\n",
       "      <th>HotelName</th>\n",
       "      <th>PositiveReview</th>\n",
       "      <th>NegativeReview</th>\n",
       "      <th>StayDate</th>\n",
       "    </tr>\n",
       "  </thead>\n",
       "  <tbody>\n",
       "    <tr>\n",
       "      <th>271270</th>\n",
       "      <td>Hotel Stanford NYC</td>\n",
       "      <td></td>\n",
       "      <td>Friendliness of staff\\nOverall condition - pre...</td>\n",
       "      <td>July 2018</td>\n",
       "    </tr>\n",
       "  </tbody>\n",
       "</table>\n",
       "</div>"
      ],
      "text/plain": [
       "                 HotelName PositiveReview  \\\n",
       "271270  Hotel Stanford NYC                  \n",
       "\n",
       "                                           NegativeReview   StayDate  \n",
       "271270  Friendliness of staff\\nOverall condition - pre...  July 2018  "
      ]
     },
     "execution_count": 8,
     "metadata": {},
     "output_type": "execute_result"
    }
   ],
   "source": [
    "demo_data.sample()"
   ]
  },
  {
   "cell_type": "code",
   "execution_count": null,
   "metadata": {},
   "outputs": [],
   "source": [
    "ny_df.sample()"
   ]
  },
  {
   "cell_type": "code",
   "execution_count": null,
   "metadata": {},
   "outputs": [],
   "source": [
    "ny_df = nydata[['HotelName','PositiveReview','NegativeReview','StayDate']].copy().applymap(get_text)\n",
    "cal_df = calidata[['HotelName','PositiveReview','NegativeReview','StayDate']].copy().applymap(get_text)\n",
    "\n",
    "ny_df['FullReview'] = [pos+' '+neg for pos,neg in zip(ny_df['PositiveReview'],ny_df['NegativeReview'])]\n",
    "cal_df['FullReview'] = [pos+' '+neg for pos,neg in zip(cal_df['PositiveReview'],cal_df['NegativeReview'])]"
   ]
  },
  {
   "cell_type": "code",
   "execution_count": null,
   "metadata": {},
   "outputs": [],
   "source": [
    "all_data = pd.concat([ny_df,cal_df],ignore_index=True)\n",
    "all_data['StayDate'] = all_data['StayDate'].apply(lambda x: x.replace('\\n','')).apply(lambda x: x.replace('Stayed in ',''))"
   ]
  },
  {
   "cell_type": "code",
   "execution_count": 3,
   "metadata": {},
   "outputs": [
    {
     "data": {
      "text/plain": [
       "(1000, 18)"
      ]
     },
     "execution_count": 3,
     "metadata": {},
     "output_type": "execute_result"
    }
   ],
   "source": [
    "sampledf = nydata.head(n=1000)\n",
    "sampledf.shape"
   ]
  },
  {
   "cell_type": "code",
   "execution_count": 13,
   "metadata": {},
   "outputs": [
    {
     "data": {
      "text/html": [
       "<div>\n",
       "<style scoped>\n",
       "    .dataframe tbody tr th:only-of-type {\n",
       "        vertical-align: middle;\n",
       "    }\n",
       "\n",
       "    .dataframe tbody tr th {\n",
       "        vertical-align: top;\n",
       "    }\n",
       "\n",
       "    .dataframe thead th {\n",
       "        text-align: right;\n",
       "    }\n",
       "</style>\n",
       "<table border=\"1\" class=\"dataframe\">\n",
       "  <thead>\n",
       "    <tr style=\"text-align: right;\">\n",
       "      <th></th>\n",
       "      <th>Cleanliness</th>\n",
       "      <th>Comfort</th>\n",
       "      <th>Facilities</th>\n",
       "      <th>FreeWifi</th>\n",
       "      <th>GivenScore</th>\n",
       "      <th>Heading</th>\n",
       "      <th>HotelName</th>\n",
       "      <th>Location</th>\n",
       "      <th>NegativeReview</th>\n",
       "      <th>NumReviewGiven</th>\n",
       "      <th>PositiveReview</th>\n",
       "      <th>SelfTag</th>\n",
       "      <th>Staff</th>\n",
       "      <th>StayDate</th>\n",
       "      <th>UserAgeGroup</th>\n",
       "      <th>UserCountry</th>\n",
       "      <th>UserName</th>\n",
       "      <th>ValueForMoney</th>\n",
       "    </tr>\n",
       "  </thead>\n",
       "  <tbody>\n",
       "    <tr>\n",
       "      <th>971</th>\n",
       "      <td>[9.8]</td>\n",
       "      <td>[9.7]</td>\n",
       "      <td>[9.4]</td>\n",
       "      <td>[8.8]</td>\n",
       "      <td>[\\n10\\n]</td>\n",
       "      <td>[Would definitely return.]</td>\n",
       "      <td>[Pine Knoll Lodge &amp; Cabins, Inc.]</td>\n",
       "      <td>[9.8]</td>\n",
       "      <td>NaN</td>\n",
       "      <td>[\\n1 review\\n]</td>\n",
       "      <td>[Homey. Very friendly staff. Updated rooms]</td>\n",
       "      <td>[\\n,  Leisure trip\\n, \\n,  Couple\\n, \\n,  Room...</td>\n",
       "      <td>[9.7]</td>\n",
       "      <td>[\\nStayed in August 2017\\n]</td>\n",
       "      <td>[\\n]</td>\n",
       "      <td>[USA]</td>\n",
       "      <td>[Robert]</td>\n",
       "      <td>[8.9]</td>\n",
       "    </tr>\n",
       "  </tbody>\n",
       "</table>\n",
       "</div>"
      ],
      "text/plain": [
       "    Cleanliness Comfort Facilities FreeWifi GivenScore  \\\n",
       "971       [9.8]   [9.7]      [9.4]    [8.8]   [\\n10\\n]   \n",
       "\n",
       "                        Heading                          HotelName Location  \\\n",
       "971  [Would definitely return.]  [Pine Knoll Lodge & Cabins, Inc.]    [9.8]   \n",
       "\n",
       "    NegativeReview  NumReviewGiven  \\\n",
       "971            NaN  [\\n1 review\\n]   \n",
       "\n",
       "                                  PositiveReview  \\\n",
       "971  [Homey. Very friendly staff. Updated rooms]   \n",
       "\n",
       "                                               SelfTag  Staff  \\\n",
       "971  [\\n,  Leisure trip\\n, \\n,  Couple\\n, \\n,  Room...  [9.7]   \n",
       "\n",
       "                        StayDate UserAgeGroup UserCountry  UserName  \\\n",
       "971  [\\nStayed in August 2017\\n]         [\\n]       [USA]  [Robert]   \n",
       "\n",
       "    ValueForMoney  \n",
       "971         [8.9]  "
      ]
     },
     "execution_count": 13,
     "metadata": {},
     "output_type": "execute_result"
    }
   ],
   "source": [
    "sampledf.sample()"
   ]
  },
  {
   "cell_type": "code",
   "execution_count": 4,
   "metadata": {},
   "outputs": [],
   "source": [
    "def get_text(rev):\n",
    "    return rev[0] if str(rev)!='nan' else ''\n",
    "\n",
    "def review_cleaned(review_df):\n",
    "    df = review_df[['HotelName','PositiveReview','NegativeReview','StayDate']].copy().applymap(get_text)\n",
    "    df['FullReview'] = [pos+' '+neg for pos,neg in zip(df['PositiveReview'],df['NegativeReview'])]\n",
    "    df['StayDate'] = df['StayDate'].apply(lambda x: x.replace('\\n','')).apply(lambda x: x.replace('Stayed in ',''))\n",
    "    return df\n",
    "\n",
    "def review_to_sentence(df):\n",
    "    all_sentences = []\n",
    "    from nltk.tokenize import sent_tokenize\n",
    "    import pandas as pd\n",
    "    allreview = df['FullReview']\n",
    "    for areview in allreview:\n",
    "        all_sentences.extend(sent_tokenize(areview))\n",
    "    tokensentence = pd.DataFrame(data=all_sentences,columns=['TokenSentence'])\n",
    "    return tokensentence\n",
    "\n",
    "def sentence_sentiment(text):\n",
    "    from vaderSentiment.vaderSentiment import SentimentIntensityAnalyzer\n",
    "    analyzer = SentimentIntensityAnalyzer()\n",
    "    compound_sentiment = analyzer.polarity_scores(text)['compound']\n",
    "    return compound_sentiment\n",
    "\n",
    "def token_to_sentiment(df):\n",
    "    df['CompoundSentiment'] = df['TokenSentence'].apply(sentence_sentiment)\n",
    "    return df"
   ]
  },
  {
   "cell_type": "code",
   "execution_count": 5,
   "metadata": {},
   "outputs": [],
   "source": [
    "text = review_cleaned(sampledf)\n",
    "tokensentence = review_to_sentence(text)\n",
    "sentencesentiment = token_to_sentiment(tokensentence)\n",
    "# sentencesentiment.sample()"
   ]
  },
  {
   "cell_type": "code",
   "execution_count": 6,
   "metadata": {},
   "outputs": [],
   "source": [
    "mallet_lda_topics={\n",
    "                0:'Hotel Staff',\n",
    "                1:'Accessibility',\n",
    "                2:'Food',\n",
    "                3:'Overall Experience',\n",
    "                4:'Noise',\n",
    "                5:'Value for Money',\n",
    "                6:'Room Amenities',\n",
    "                7:'Location in the city',\n",
    "                8:'Overall Experience',\n",
    "                9:'Cleanliness',\n",
    "                10:'Early Check-in/Late Check-out',\n",
    "                11:'Health and Wellness Amenities',\n",
    "                12:'Booking Experience',\n",
    "                13:'Sleep Quality',\n",
    "                14:'Parking Facility'\n",
    "            }"
   ]
  },
  {
   "cell_type": "code",
   "execution_count": 7,
   "metadata": {},
   "outputs": [],
   "source": [
    "# helper functions for text preprocessing & LDA modeling:\n",
    "\n",
    "def punct_space(token):\n",
    "    \"\"\"\n",
    "    helper function to eliminate tokens\n",
    "    that are pure punctuation or whitespace\n",
    "    \"\"\"\n",
    "\n",
    "    return token.is_punct or token.is_space or token.like_num or token.is_digit\n",
    "\n",
    "def line_review(filename):\n",
    "    \"\"\"\n",
    "    generator function to read in reviews from Pandas Series\n",
    "    and un-escape the original line breaks in the text\n",
    "    \"\"\"\n",
    "\n",
    "    #with codecs.open(filename, encoding='utf_8') as f:\n",
    "    for review in filename:\n",
    "        yield review.replace('\\\\n', '\\n')\n",
    "\n",
    "def lemmatized_sentence_corpus(filename):\n",
    "    \"\"\"\n",
    "    generator function to use spaCy to parse reviews,\n",
    "    lemmatize the text, and yield sentences\n",
    "    \"\"\"\n",
    "\n",
    "    for parsed_review in nlp.pipe(line_review(filename), batch_size=10000, n_threads=10):\n",
    "        for sent in parsed_review.sents:\n",
    "            yield u' '.join([token.lemma_ for token in sent\n",
    "                             if not punct_space(token)])\n",
    "\n",
    "def trigram_bow_generator(filepath):\n",
    "    \"\"\"\n",
    "    generator function to read reviews from a file\n",
    "    and yield a bag-of-words representation\n",
    "    \"\"\"\n",
    "    # load finished dictionary from disk\n",
    "    trigram_dictionary = Dictionary.load('./models2/trigram_dict_all.dict')\n",
    "\n",
    "    for review in LineSentence(filepath):\n",
    "        yield trigram_dictionary.doc2bow(review)\n",
    "        \n",
    "def nCPU():\n",
    "    import multiprocessing\n",
    "    N = multiprocessing.cpu_count()-1\n",
    "    return N"
   ]
  },
  {
   "cell_type": "code",
   "execution_count": 8,
   "metadata": {},
   "outputs": [],
   "source": [
    "def topic_extractor(df, min_topic_freq=0.10):\n",
    "    from tqdm import tqdm\n",
    "    from operator import itemgetter\n",
    "    ncpu = nCPU()\n",
    "    dfc=df.copy()\n",
    "    text = dfc['TokenSentence'].copy()\n",
    "    trigram_dictionary = Dictionary.load('./models2/trigram_dict_all.dict')\n",
    "    lda = LdaMulticore.load('./models2/mallet_lda_model')\n",
    "    trigram_review = LineSentence('./tri_temporary.txt')\n",
    "    bigram_model = Phrases.load('./models2/bigram_model.txt')\n",
    "    trigram_model = Phrases.load('./models2/trigram_model.txt')\n",
    "    topic_list = []\n",
    "    trigram_list = []\n",
    "    freq_list = []\n",
    "    # parse the review text with spaCy\n",
    "    for parsed_review in tqdm(nlp.pipe(line_review(text),\n",
    "                                    batch_size=10000, n_threads=ncpu)):\n",
    "        # lemmatize the text, removing punctuation and whitespace\n",
    "        unigram_review = [token.lemma_ for token in parsed_review\n",
    "                            if not punct_space(token)]\n",
    "        # apply the first-order and second-order phrase models\n",
    "        bigram_review = bigram_model[unigram_review]\n",
    "        trigram_review = trigram_model[bigram_review]\n",
    "\n",
    "        common_terms = ['-PRON-','hotel'] #'service',\n",
    "        # remove any remaining stopwords\n",
    "        trigram_review = [term for term in trigram_review\n",
    "                            if term not in spacy.lang.en.stop_words.STOP_WORDS]\n",
    "        trigram_review = [term for term in trigram_review\n",
    "                            if term not in common_terms]\n",
    "        if len(trigram_review)==0:\n",
    "            topic_number=-1\n",
    "            freq = 0.0\n",
    "            tri = str([])\n",
    "        else:\n",
    "            # create a bag-of-words representation\n",
    "            review_bow = trigram_dictionary.doc2bow(trigram_review)\n",
    "            # create an LDA representation\n",
    "            review_lda = lda.get_document_topics(review_bow)\n",
    "            # print the most highly related topic name and frequency\n",
    "            review_lda = sorted(review_lda, key=itemgetter(1),reverse=True)[0]\n",
    "            topic_number = review_lda[0]\n",
    "            freq = review_lda[1]\n",
    "            if freq < min_topic_freq:\n",
    "                topic_number=-1\n",
    "                freq = 0.0\n",
    "            \n",
    "        topic_list.append(topic_number)\n",
    "        freq_list.append(round(freq,2))\n",
    "        trigram_list.append(trigram_review)\n",
    "    dfc['Topic']=topic_list\n",
    "    dfc['TopicFrequency']=freq_list\n",
    "    dfc['Trigram']=trigram_list\n",
    "    return dfc\n"
   ]
  },
  {
   "cell_type": "code",
   "execution_count": 9,
   "metadata": {},
   "outputs": [
    {
     "name": "stderr",
     "output_type": "stream",
     "text": [
      "4058it [00:10, 391.32it/s]\n"
     ]
    }
   ],
   "source": [
    "topicdf = topic_extractor(sentencesentiment)"
   ]
  },
  {
   "cell_type": "markdown",
   "metadata": {},
   "source": [
    "topicdf.head()"
   ]
  },
  {
   "cell_type": "code",
   "execution_count": 10,
   "metadata": {},
   "outputs": [],
   "source": [
    "def topic_scorer(df):\n",
    "    xdf = pd.get_dummies(df,prefix='Topic', \n",
    "                     prefix_sep='_', dummy_na=False, \n",
    "                     columns=['Topic'])\n",
    "    topics = ['Topic_0', 'Topic_1', 'Topic_2','Topic_3',\n",
    "              'Topic_4', 'Topic_5', 'Topic_6', 'Topic_7', \n",
    "              'Topic_8','Topic_9', 'Topic_10', 'Topic_11',\n",
    "              'Topic_12', 'Topic_13','Topic_14']\n",
    "    topic_dict = {}\n",
    "    for atopic in topics:\n",
    "        if atopic in xdf.columns.values:\n",
    "            xdf[atopic] = xdf[atopic] * xdf.CompoundSentiment\n",
    "            m = np.mean(list(filter(lambda a: a != 0, xdf[atopic])))\n",
    "    #         print(mallet_lda_topics[int(atopic.replace('Topic_',''))],round(m,2))\n",
    "            topic_dict[mallet_lda_topics[int(atopic.replace('Topic_',''))]] = round(m,2)\n",
    "        else:\n",
    "            topic_dict[mallet_lda_topics[int(atopic.replace('Topic_',''))]] = 'No information available'\n",
    "    return topic_dict"
   ]
  },
  {
   "cell_type": "code",
   "execution_count": 11,
   "metadata": {},
   "outputs": [],
   "source": [
    "dd = topic_scorer(topicdf)"
   ]
  },
  {
   "cell_type": "code",
   "execution_count": 12,
   "metadata": {},
   "outputs": [
    {
     "name": "stdout",
     "output_type": "stream",
     "text": [
      "Hotel Staff 0.71\n",
      "Accessibility 0.67\n",
      "Food 0.52\n",
      "Overall Experience 0.52\n",
      "Noise 0.03\n",
      "Value for Money 0.46\n",
      "Room Amenities 0.15\n",
      "Location in the city 0.54\n",
      "Cleanliness 0.1\n",
      "Early Check-in/Late Check-out 0.22\n",
      "Health and Wellness Amenities 0.66\n",
      "Booking Experience 0.12\n",
      "Sleep Quality 0.41\n",
      "Parking Facility 0.32\n"
     ]
    }
   ],
   "source": [
    "for key in dd:\n",
    "    print(key,dd[key])"
   ]
  },
  {
   "cell_type": "markdown",
   "metadata": {},
   "source": [
    "odf=topicdf[['CompoundSentiment','Topic']].copy()"
   ]
  },
  {
   "cell_type": "markdown",
   "metadata": {},
   "source": [
    "xdf = pd.get_dummies(odf,prefix='Topic', \n",
    "                     prefix_sep='_', dummy_na=False, \n",
    "                     columns=['Topic'])"
   ]
  },
  {
   "cell_type": "markdown",
   "metadata": {},
   "source": [
    "xdf.head()"
   ]
  },
  {
   "cell_type": "markdown",
   "metadata": {},
   "source": [
    "topics = ['Topic_0', 'Topic_1', 'Topic_2',\n",
    "       'Topic_3', 'Topic_4', 'Topic_5', 'Topic_6', 'Topic_7', 'Topic_8',\n",
    "       'Topic_9', 'Topic_10', 'Topic_11', 'Topic_12', 'Topic_13',\n",
    "       'Topic_14']\n",
    "for atopic in topics:\n",
    "    xdf[atopic] = xdf[atopic] * xdf.CompoundSentiment"
   ]
  },
  {
   "cell_type": "markdown",
   "metadata": {},
   "source": [
    "xdf.head()"
   ]
  },
  {
   "cell_type": "markdown",
   "metadata": {},
   "source": [
    "for atopic in topics:\n",
    "    m = np.mean(list(filter(lambda a: a != 0, xdf[atopic])))\n",
    "#     print(mallet_lda_topics[int(atopic.replace('Topic_',''))],round(m,2))\n",
    "    topic_dict[mallet_lda_topics[int(atopic.replace('Topic_',''))]] = round(m,2)"
   ]
  },
  {
   "cell_type": "code",
   "execution_count": 7,
   "metadata": {},
   "outputs": [],
   "source": [
    "nystar_data = pd.read_json('/home/argha/Dropbox/data-files/hotel_info/NewYorkState_hotels_stars.json', lines=True,encoding='utf-8')\n",
    "calistar_data = pd.read_json('/home/argha/Dropbox/data-files/hotel_info/CaliforniaState_hotels_stars.json',lines=True, encoding='utf-8')"
   ]
  },
  {
   "cell_type": "code",
   "execution_count": null,
   "metadata": {},
   "outputs": [],
   "source": []
  }
 ],
 "metadata": {
  "kernelspec": {
   "display_name": "Python 3",
   "language": "python",
   "name": "python3"
  },
  "language_info": {
   "codemirror_mode": {
    "name": "ipython",
    "version": 3
   },
   "file_extension": ".py",
   "mimetype": "text/x-python",
   "name": "python",
   "nbconvert_exporter": "python",
   "pygments_lexer": "ipython3",
   "version": "3.6.6"
  }
 },
 "nbformat": 4,
 "nbformat_minor": 2
}
