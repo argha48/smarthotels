{
 "cells": [
  {
   "cell_type": "code",
   "execution_count": 1,
   "metadata": {},
   "outputs": [
    {
     "name": "stderr",
     "output_type": "stream",
     "text": [
      "/home/argha/anaconda3/lib/python3.6/site-packages/nltk/twitter/__init__.py:20: UserWarning: The twython library has not been installed. Some functionality from the twitter package will not be available.\n",
      "  warnings.warn(\"The twython library has not been installed. \"\n"
     ]
    },
    {
     "name": "stdout",
     "output_type": "stream",
     "text": [
      "[nltk_data] Downloading package vader_lexicon to\n",
      "[nltk_data]     /home/argha/nltk_data...\n",
      "[nltk_data]   Package vader_lexicon is already up-to-date!\n"
     ]
    }
   ],
   "source": [
    "import nltk\n",
    "import pandas as pd\n",
    "import numpy as np\n",
    "import re\n",
    "import codecs\n",
    "import json\n",
    "\n",
    "import re\n",
    "import numpy as np\n",
    "import pandas as pd\n",
    "from pprint import pprint\n",
    "import pickle\n",
    "# Gensim\n",
    "import gensim\n",
    "import gensim.corpora as corpora\n",
    "from gensim.utils import simple_preprocess\n",
    "from gensim.models import CoherenceModel\n",
    "from gensim.models import Phrases\n",
    "from gensim.corpora import Dictionary, MmCorpus\n",
    "from gensim.models.word2vec import LineSentence\n",
    "from gensim.models.ldamulticore import LdaMulticore\n",
    "# spacy for lemmatization\n",
    "import spacy\n",
    "# NLTK for text cleaning\n",
    "from nltk.tokenize import sent_tokenize, word_tokenize, RegexpTokenizer\n",
    "from nltk.classify import NaiveBayesClassifier\n",
    "from nltk.corpus import stopwords, names\n",
    "from nltk.tokenize import RegexpTokenizer\n",
    "from nltk import tokenize\n",
    "from nltk.corpus import stopwords\n",
    "from nltk.stem.porter import PorterStemmer\n",
    "from nltk.sentiment.vader import SentimentIntensityAnalyzer\n",
    "nltk.download('vader_lexicon')\n",
    "# TextBlob package for translation and spelling correction\n",
    "from textblob import TextBlob\n",
    "\n",
    "nlp = spacy.load('en')\n",
    "# Plotting tools\n",
    "import pyLDAvis\n",
    "import pyLDAvis.gensim  # don't skip this\n",
    "import matplotlib.pyplot as plt\n",
    "# %matplotlib inline\n",
    "\n",
    "# Enable logging for gensim - optional\n",
    "import logging\n",
    "logging.basicConfig(format='%(asctime)s : %(levelname)s : %(message)s', level=logging.ERROR)\n",
    "\n",
    "import warnings\n",
    "warnings.filterwarnings(\"ignore\",category=DeprecationWarning)"
   ]
  },
  {
   "cell_type": "markdown",
   "metadata": {},
   "source": [
    "demo_data = pd.read_json('demo_data.json',orient='columns', encoding='utf-8')\n",
    "demo_data.sample()"
   ]
  },
  {
   "cell_type": "markdown",
   "metadata": {},
   "source": [
    "def review_to_sentence(df, sentiment):\n",
    "    all_sentences = []\n",
    "    from nltk.tokenize import sent_tokenize\n",
    "    import pandas as pd\n",
    "    allreview = df\n",
    "    for areview in allreview:\n",
    "        all_sentences.extend(sent_tokenize(areview))\n",
    "    tokensentence = pd.DataFrame(data=all_sentences,columns=['TokenSentence'])\n",
    "    tokensentence['Sentiment_Value']=sentiment\n",
    "    return tokensentence\n",
    "\n",
    "def sentence_sentiment(text):\n",
    "    from vaderSentiment.vaderSentiment import SentimentIntensityAnalyzer\n",
    "    analyzer = SentimentIntensityAnalyzer()\n",
    "    compound_sentiment = analyzer.polarity_scores(text)['compound']\n",
    "    return compound_sentiment\n",
    "\n",
    "def token_to_sentiment(df):\n",
    "    df['CompoundSentiment'] = df['TokenSentence'].apply(sentence_sentiment)\n",
    "    return df"
   ]
  },
  {
   "cell_type": "markdown",
   "metadata": {},
   "source": [
    "# sentiment_sentence=[]\n",
    "# sentiment_score=[]\n",
    "\n",
    "tokensentence1 = review_to_sentence(demo_data['PositiveReview'],1)\n",
    "sentencesentiment1 = token_to_sentiment(tokensentence1)\n",
    "sentencesentiment1.head()"
   ]
  },
  {
   "cell_type": "markdown",
   "metadata": {},
   "source": [
    "tokensentence2 = review_to_sentence(demo_data['NegativeReview'],-1)\n",
    "sentencesentiment2 = token_to_sentiment(tokensentence2)\n",
    "sentencesentiment2.head()"
   ]
  },
  {
   "cell_type": "markdown",
   "metadata": {},
   "source": [
    "truthdf = pd.concat([sentencesentiment1,sentencesentiment2], ignore_index=True)"
   ]
  },
  {
   "cell_type": "markdown",
   "metadata": {},
   "source": [
    "truthdf.head()"
   ]
  },
  {
   "cell_type": "markdown",
   "metadata": {},
   "source": [
    "# truthdf.to_json('./truthdf.json')"
   ]
  },
  {
   "cell_type": "markdown",
   "metadata": {},
   "source": [
    "N = truthdf.shape[0]\n",
    "TP = truthdf.loc[(truthdf['Sentiment_Value']==1) & (truthdf['CompoundSentiment']>0)].shape[0]\n",
    "TN = truthdf.ix[(truthdf['Sentiment_Value']==-1) & (truthdf['CompoundSentiment']<=0)].shape[0]\n",
    "FP = truthdf.ix[(truthdf['Sentiment_Value']==-1) & (truthdf['CompoundSentiment']>0)].shape[0]\n",
    "FN = truthdf.ix[(truthdf['Sentiment_Value']==1) & (truthdf['CompoundSentiment']<=0)].shape[0]"
   ]
  },
  {
   "cell_type": "markdown",
   "metadata": {},
   "source": [
    "print(TP,TN,FP,FN)"
   ]
  },
  {
   "cell_type": "markdown",
   "metadata": {},
   "source": [
    "truthdf.shape[0]"
   ]
  },
  {
   "cell_type": "markdown",
   "metadata": {},
   "source": [
    "TP+TN+FP+FN"
   ]
  },
  {
   "cell_type": "markdown",
   "metadata": {},
   "source": [
    "import tmtoolkit"
   ]
  },
  {
   "cell_type": "code",
   "execution_count": 3,
   "metadata": {},
   "outputs": [],
   "source": [
    "import matplotlib.pyplot as plt   # for plotting the results\n",
    "plt.style.use('ggplot')\n",
    "\n",
    "# for loading the data:\n",
    "from tmtoolkit.utils import unpickle_file\n",
    "# for model evaluation with the lda package:\n",
    "from tmtoolkit.topicmod import tm_lda\n",
    "# for constructing the evaluation plot:\n",
    "from tmtoolkit.topicmod.evaluate import results_by_parameter\n",
    "from tmtoolkit.topicmod.visualize import plot_eval_results"
   ]
  },
  {
   "cell_type": "code",
   "execution_count": 7,
   "metadata": {},
   "outputs": [],
   "source": [
    "from gensim.corpora import Dictionary, MmCorpus\n",
    "trigram_dictionary = Dictionary.load('./models2/trigram_dict_all.dict')\n",
    "trigram_bow_corpus = MmCorpus('./models2/trigram_bow_corpus.nm')\n",
    "trigram_text = LineSentence('./models2/trigram_sentences.txt')\n",
    "# Document to matrix\n",
    "# import numpy as np\n",
    "# from scipy.sparse import csr_matrix\n",
    "# rows=[]\n",
    "# cols=[]\n",
    "# data=[]\n",
    "# for i in range(0,len(trigram_bow_corpus)):\n",
    "#     line = trigram_bow_corpus[i]\n",
    "#     for indx,freq in line:\n",
    "#         rows.append(i)\n",
    "#         cols.append(indx)\n",
    "#         data.append(freq)\n",
    "# dtm = csr_matrix((data,(rows,cols)), shape = (len(trigram_bow_corpus),len(trigram_dictionary)), dtype=int)"
   ]
  },
  {
   "cell_type": "code",
   "execution_count": 8,
   "metadata": {},
   "outputs": [],
   "source": [
    "# const_params = dict(n_iter=1000)\n",
    "# ks = list(range(5, 50, 5))# + list(range(50, 200, 50)) + list(range(200, 400, 100))\n",
    "# varying_params = [dict(n_topics=k, alpha=1.0/k) for k in ks]"
   ]
  },
  {
   "cell_type": "code",
   "execution_count": 9,
   "metadata": {
    "scrolled": true
   },
   "outputs": [],
   "source": [
    "# eval_results = tm_lda.evaluate_topic_models(dtm,varying_params,const_params,n_max_processes=10)"
   ]
  },
  {
   "cell_type": "code",
   "execution_count": 10,
   "metadata": {
    "scrolled": true
   },
   "outputs": [
    {
     "name": "stdout",
     "output_type": "stream",
     "text": [
      "NumTopis: 3 -- Coherence Score: 0.12394709905314573\n",
      "NumTopis: 4 -- Coherence Score: 0.1629895450955815\n",
      "NumTopis: 5 -- Coherence Score: 0.19138226194705005\n",
      "NumTopis: 6 -- Coherence Score: 0.20838539083547833\n",
      "NumTopis: 7 -- Coherence Score: 0.22251905428828994\n",
      "NumTopis: 8 -- Coherence Score: 0.24824857814761137\n",
      "NumTopis: 9 -- Coherence Score: 0.27239148893023163\n",
      "NumTopis: 10 -- Coherence Score: 0.25076295132542503\n",
      "NumTopis: 11 -- Coherence Score: 0.27473962129676094\n",
      "NumTopis: 12 -- Coherence Score: 0.27531266858455056\n",
      "NumTopis: 13 -- Coherence Score: 0.28444964268441747\n",
      "NumTopis: 14 -- Coherence Score: 0.26708506251750935\n",
      "NumTopis: 15 -- Coherence Score: 0.27754115103746396\n",
      "NumTopis: 16 -- Coherence Score: 0.315720137989901\n",
      "NumTopis: 17 -- Coherence Score: 0.2802244140601607\n",
      "NumTopis: 18 -- Coherence Score: 0.29782460027331165\n",
      "NumTopis: 19 -- Coherence Score: 0.30615146859428377\n",
      "NumTopis: 20 -- Coherence Score: 0.2876768631030215\n",
      "NumTopis: 21 -- Coherence Score: 0.3022267408682512\n",
      "NumTopis: 22 -- Coherence Score: 0.301741289875838\n",
      "NumTopis: 23 -- Coherence Score: 0.33355443866133216\n",
      "NumTopis: 24 -- Coherence Score: 0.320959641858853\n",
      "NumTopis: 25 -- Coherence Score: 0.31285727724426193\n",
      "NumTopis: 26 -- Coherence Score: 0.31841991066803277\n",
      "NumTopis: 27 -- Coherence Score: 0.3089197538037081\n",
      "NumTopis: 28 -- Coherence Score: 0.31576573864292606\n",
      "NumTopis: 29 -- Coherence Score: 0.32099491222616827\n",
      "NumTopis: 30 -- Coherence Score: 0.32102530217090414\n",
      "NumTopis: 31 -- Coherence Score: 0.32234292102199374\n",
      "NumTopis: 32 -- Coherence Score: 0.3119271398042662\n",
      "NumTopis: 33 -- Coherence Score: 0.3206127010157893\n",
      "NumTopis: 34 -- Coherence Score: 0.3487751348544884\n",
      "NumTopis: 35 -- Coherence Score: 0.33329122627431507\n",
      "NumTopis: 36 -- Coherence Score: 0.3254833875308043\n",
      "NumTopis: 37 -- Coherence Score: 0.3370106421619029\n",
      "NumTopis: 38 -- Coherence Score: 0.3272741008768427\n",
      "NumTopis: 39 -- Coherence Score: 0.34075160531995957\n",
      "NumTopis: 40 -- Coherence Score: 0.34408487277295385\n",
      "NumTopis: 41 -- Coherence Score: 0.32833291891209887\n",
      "NumTopis: 42 -- Coherence Score: 0.3310551394876171\n",
      "NumTopis: 43 -- Coherence Score: 0.3395719861775725\n",
      "NumTopis: 44 -- Coherence Score: 0.3386961648306604\n",
      "NumTopis: 45 -- Coherence Score: 0.33131420981469634\n",
      "NumTopis: 46 -- Coherence Score: 0.3402948431444054\n",
      "NumTopis: 47 -- Coherence Score: 0.32712657382820154\n",
      "NumTopis: 48 -- Coherence Score: 0.3212445308736591\n",
      "NumTopis: 49 -- Coherence Score: 0.32638921301605245\n",
      "NumTopis: 50 -- Coherence Score: 0.32251818010950595\n",
      "NumTopis: 51 -- Coherence Score: 0.3377838126741083\n",
      "NumTopis: 52 -- Coherence Score: 0.3274746167598002\n",
      "NumTopis: 53 -- Coherence Score: 0.3315324406404747\n",
      "NumTopis: 54 -- Coherence Score: 0.31870409986319503\n",
      "NumTopis: 55 -- Coherence Score: 0.3526408990774816\n",
      "NumTopis: 56 -- Coherence Score: 0.32969638387944056\n",
      "NumTopis: 57 -- Coherence Score: 0.3272141162863805\n",
      "NumTopis: 58 -- Coherence Score: 0.3377123950576168\n",
      "NumTopis: 59 -- Coherence Score: 0.33833500128339966\n",
      "NumTopis: 60 -- Coherence Score: 0.3353218865189289\n",
      "NumTopis: 61 -- Coherence Score: 0.3333782321309405\n",
      "NumTopis: 62 -- Coherence Score: 0.3375560496830828\n",
      "NumTopis: 63 -- Coherence Score: 0.33279921508887395\n",
      "NumTopis: 64 -- Coherence Score: 0.31586392733314944\n",
      "NumTopis: 65 -- Coherence Score: 0.316366563172517\n",
      "NumTopis: 66 -- Coherence Score: 0.3260433012124948\n",
      "NumTopis: 67 -- Coherence Score: 0.32855522428143463\n",
      "NumTopis: 68 -- Coherence Score: 0.3255276736763686\n",
      "NumTopis: 69 -- Coherence Score: 0.31582680959914317\n",
      "NumTopis: 70 -- Coherence Score: 0.33696333879992446\n",
      "NumTopis: 71 -- Coherence Score: 0.3144348969940481\n",
      "NumTopis: 72 -- Coherence Score: 0.3346913033765605\n",
      "NumTopis: 73 -- Coherence Score: 0.31887191830882927\n",
      "NumTopis: 74 -- Coherence Score: 0.3209937535130373\n",
      "NumTopis: 75 -- Coherence Score: 0.32079669107510667\n",
      "NumTopis: 76 -- Coherence Score: 0.3186533389770754\n",
      "NumTopis: 77 -- Coherence Score: 0.3326557150064658\n",
      "NumTopis: 78 -- Coherence Score: 0.3193108982279784\n",
      "NumTopis: 79 -- Coherence Score: 0.3237202922005223\n",
      "NumTopis: 80 -- Coherence Score: 0.31877167495369757\n",
      "NumTopis: 81 -- Coherence Score: 0.30795993796282717\n",
      "NumTopis: 82 -- Coherence Score: 0.3200909258388274\n",
      "NumTopis: 83 -- Coherence Score: 0.30704256048075607\n",
      "NumTopis: 84 -- Coherence Score: 0.30575367719057966\n",
      "NumTopis: 85 -- Coherence Score: 0.3150196562480531\n",
      "NumTopis: 86 -- Coherence Score: 0.3176896326272586\n",
      "NumTopis: 87 -- Coherence Score: 0.31545587505321204\n",
      "NumTopis: 88 -- Coherence Score: 0.3042028014353862\n",
      "NumTopis: 89 -- Coherence Score: 0.31388034546511867\n",
      "NumTopis: 90 -- Coherence Score: 0.32334948205689684\n",
      "NumTopis: 91 -- Coherence Score: 0.31422518238238667\n",
      "NumTopis: 92 -- Coherence Score: 0.3146325351064446\n",
      "NumTopis: 93 -- Coherence Score: 0.3064771918146665\n",
      "NumTopis: 94 -- Coherence Score: 0.3123487088685183\n",
      "NumTopis: 95 -- Coherence Score: 0.2949498830931411\n",
      "NumTopis: 96 -- Coherence Score: 0.30474896620931585\n",
      "NumTopis: 97 -- Coherence Score: 0.31022257153182264\n",
      "NumTopis: 98 -- Coherence Score: 0.3066640809827541\n",
      "NumTopis: 99 -- Coherence Score: 0.31901115807642816\n"
     ]
    }
   ],
   "source": [
    "coherScores = {}\n",
    "from gensim.models import CoherenceModel\n",
    "for numTopics in range(3,100):\n",
    "    ldamodel = LdaMulticore(trigram_bow_corpus, num_topics = numTopics, id2word=trigram_dictionary, passes=1)\n",
    "\n",
    "    #filename = 'model_cv_' + str(numTopics) + '.gensim'\n",
    "    #ldamodel.save(filename)\n",
    "    coherence_model_lda = CoherenceModel(model=ldamodel, texts=trigram_text, dictionary=trigram_dictionary, coherence='c_v')\n",
    "    coherence_lda = coherence_model_lda.get_coherence()\n",
    "    print('NumTopis:', numTopics, '-- Coherence Score:', coherence_lda)\n",
    "\n",
    "    coherScores[numTopics] = coherence_lda"
   ]
  },
  {
   "cell_type": "code",
   "execution_count": 11,
   "metadata": {},
   "outputs": [],
   "source": [
    "coherdf = pd.DataFrame.from_dict(coherScores, orient='index')"
   ]
  },
  {
   "cell_type": "code",
   "execution_count": 12,
   "metadata": {},
   "outputs": [
    {
     "data": {
      "text/html": [
       "<div>\n",
       "<style scoped>\n",
       "    .dataframe tbody tr th:only-of-type {\n",
       "        vertical-align: middle;\n",
       "    }\n",
       "\n",
       "    .dataframe tbody tr th {\n",
       "        vertical-align: top;\n",
       "    }\n",
       "\n",
       "    .dataframe thead th {\n",
       "        text-align: right;\n",
       "    }\n",
       "</style>\n",
       "<table border=\"1\" class=\"dataframe\">\n",
       "  <thead>\n",
       "    <tr style=\"text-align: right;\">\n",
       "      <th></th>\n",
       "      <th>0</th>\n",
       "    </tr>\n",
       "  </thead>\n",
       "  <tbody>\n",
       "    <tr>\n",
       "      <th>3</th>\n",
       "      <td>0.123947</td>\n",
       "    </tr>\n",
       "    <tr>\n",
       "      <th>4</th>\n",
       "      <td>0.162990</td>\n",
       "    </tr>\n",
       "    <tr>\n",
       "      <th>5</th>\n",
       "      <td>0.191382</td>\n",
       "    </tr>\n",
       "    <tr>\n",
       "      <th>6</th>\n",
       "      <td>0.208385</td>\n",
       "    </tr>\n",
       "    <tr>\n",
       "      <th>7</th>\n",
       "      <td>0.222519</td>\n",
       "    </tr>\n",
       "  </tbody>\n",
       "</table>\n",
       "</div>"
      ],
      "text/plain": [
       "          0\n",
       "3  0.123947\n",
       "4  0.162990\n",
       "5  0.191382\n",
       "6  0.208385\n",
       "7  0.222519"
      ]
     },
     "execution_count": 12,
     "metadata": {},
     "output_type": "execute_result"
    }
   ],
   "source": [
    "coherdf.head()"
   ]
  },
  {
   "cell_type": "code",
   "execution_count": 28,
   "metadata": {},
   "outputs": [
    {
     "data": {
      "image/png": "[encoded data removed]",
      "text/plain": [
       "<Figure size 1296x576 with 1 Axes>"
      ]
     },
     "metadata": {},
     "output_type": "display_data"
    }
   ],
   "source": [
    "import seaborn as sns\n",
    "# fig,ax = plt.subplots()\n",
    "plt.figure(figsize=(18,8))\n",
    "# palette = sns.color_palette(\"mako_r\", 1)\n",
    "fig=sns.lineplot(data=coherdf,size=40);\n",
    "plt.savefig('fig1.png', dpi = 300)"
   ]
  },
  {
   "cell_type": "code",
   "execution_count": 29,
   "metadata": {},
   "outputs": [],
   "source": [
    "coherdf.to_json('coherence_score.json')"
   ]
  },
  {
   "cell_type": "code",
   "execution_count": 39,
   "metadata": {},
   "outputs": [],
   "source": [
    "from bokeh.plotting import figure, output_file, show\n",
    "\n",
    "from bokeh.io import export_png\n",
    "\n",
    "\n",
    "\n",
    "p = figure(plot_width=800, plot_height=400)\n",
    "X = coherdf.index.values\n",
    "Y = coherdf.ix[:,0]\n",
    "# add a line renderer\n",
    "p.line(X, Y, line_width=5)\n",
    "export_png(p, filename=\"fig1.png\")\n",
    "show(p)"
   ]
  },
  {
   "cell_type": "code",
   "execution_count": null,
   "metadata": {},
   "outputs": [],
   "source": []
  }
 ],
 "metadata": {
  "kernelspec": {
   "display_name": "Python 3",
   "language": "python",
   "name": "python3"
  },
  "language_info": {
   "codemirror_mode": {
    "name": "ipython",
    "version": 3
   },
   "file_extension": ".py",
   "mimetype": "text/x-python",
   "name": "python",
   "nbconvert_exporter": "python",
   "pygments_lexer": "ipython3",
   "version": "3.6.6"
  }
 },
 "nbformat": 4,
 "nbformat_minor": 2
}
